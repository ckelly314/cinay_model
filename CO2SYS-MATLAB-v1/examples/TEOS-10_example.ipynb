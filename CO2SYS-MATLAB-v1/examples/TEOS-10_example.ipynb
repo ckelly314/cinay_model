{
 "cells": [
  {
   "cell_type": "markdown",
   "metadata": {},
   "source": [
    "## CO2sys with TEOS-10 support\n",
    "\n",
    "In 2010, new definitions, Conservative Temperature (Tcsv) and Absolute Salinity (SA), became the new adopted standard in oceanography for temperature and salinity. \n",
    "\n",
    "CO2sys software, until now, accepted only in-situ temperature and practical salinity as input. CO2sys software has been extended to implement new oceanographic standards for ocean temperature and salinity (Thermodynamic Equation of Seawater, TEOS-10).\n",
    "\n",
    "#### The aim of this notebook is to show how to use this extension through several examples."
   ]
  },
  {
   "cell_type": "markdown",
   "metadata": {},
   "source": [
    "## A two step procedure\n",
    "Due to ascendant compatibility requirements, TEOS support has not been deeply integrated into CO2SYS. Instead, we chose to provide only a set of conversion routines in Matlab.\n",
    "\n",
    "When using TEOS-10 temperature and salinity, a two step procedure is required from user's program:\n",
    "1. call conversion routines for temperature and salinity input\n",
    "2. call the main CO2sys routine (unchanged) with converted input"
   ]
  },
  {
   "cell_type": "markdown",
   "metadata": {},
   "source": [
    "## Salinity conversion\n",
    "\n",
    "For salinity conversion, there exist two different methods:\n",
    "\n",
    "1. When chemical composition is not known\n",
    "salinity conversion is based on temperature, salinity, sea water pressure and geographic location (given by latitude and longitude). Geographic location is used to infer sea water chemical composition based on ocean climatology.\n",
    "\n",
    "2. When chemical composition is known\n",
    "salinity conversion is based on temperature, salinity, sea water pressure, total alkalinity, dissolved inorganic carbon, and nitrate and silicate concentrations\n",
    "\n",
    "The first example will illustrate the case when chemical concentrations are not known but geographic location is. The second example will illustrate the second case.\n"
   ]
  },
  {
   "cell_type": "markdown",
   "metadata": {},
   "source": [
    "### Input parameters\n",
    "The following values will be used as input throughout the exemples in this notebook."
   ]
  },
  {
   "cell_type": "code",
   "execution_count": 1,
   "metadata": {
    "collapsed": false
   },
   "outputs": [],
   "source": [
    "% Input parameters\n",
    "TAlk = 2300;        % µmol/kg\n",
    "DIC = 2000;\n",
    "SA = 35;            % Absolute Salinity\n",
    "CsvTin = 18;        % Convervative temperature at input conditions\n",
    "Pin = 0;            % Pressure at input conditions\n",
    "\n",
    "% Nutrient concentration\n",
    "TSil = 60;           % Total Silicate (µmol/kg)\n",
    "TPhos = 2;           % Total Phosphate (µmol/kg)\n",
    "\n",
    "% prevent specific warning message\n",
    "warning (\"off\", \"Matlab-style short-circuit operation performed for operator &\")\n"
   ]
  },
  {
   "cell_type": "markdown",
   "metadata": {},
   "source": [
    "## 1st example"
   ]
  },
  {
   "cell_type": "markdown",
   "metadata": {},
   "source": [
    "### 1st step: conversion from TEOS-10 to EOS-80\n",
    "Salinity conversion depends on depth (pressure) and geographic location: If location is not given, an arbitrary location is chosen: the mid equatorial atlantic ocean. <br> Note that this implies an error on computed SA ranging from 0 up to 0.02 g/kg\n",
    "\n",
    "Temperature conversion depends on pressure only"
   ]
  },
  {
   "cell_type": "code",
   "execution_count": 2,
   "metadata": {
    "collapsed": false
   },
   "outputs": [
    {
     "name": "stdout",
     "output_type": "stream",
     "text": [
      "ans = geographic location : North Atlantic\n",
      "Tin =  18.004\n",
      "SP =  34.836\n"
     ]
    }
   ],
   "source": [
    "% the following function call converts\n",
    "%    - Temperature :  from Conservative to in-situ \n",
    "%    - Salinity    :  from Absolute (g/kg) to Practical (psu)\n",
    "\n",
    "# Example when longitude and latitude are known\n",
    "long = -10;    # degrees East\n",
    "lat = 45;      # degrees North\n",
    "[Tin, SP] = teos2eos_geo(SA, CsvTin, Pin, long, lat);\n",
    "\"geographic location : North Atlantic\"\n",
    "Tin\n",
    "SP\n",
    "\n",
    "# Example when longitude and latitude are NOT known\n",
    "# \"geographic location : unknown\"\n",
    "# [Tin, SP] = teos2eos_geo(SA, CTin, Pin, [], []);\n"
   ]
  },
  {
   "cell_type": "markdown",
   "metadata": {
    "collapsed": true
   },
   "source": [
    "### 2nd step: CO2sys computation with converted S and T\n",
    "In this step, we just call CO2SYS() routine as usually."
   ]
  },
  {
   "cell_type": "code",
   "execution_count": 3,
   "metadata": {
    "collapsed": false
   },
   "outputs": [
    {
     "name": "stdout",
     "output_type": "stream",
     "text": [
      "ans = \n",
      "{\n",
      "  [1,1] = TAlk\n",
      "  [2,1] = TCO2\n",
      "  [3,1] = pHin\n",
      "  [4,1] = pCO2in\n",
      "  [5,1] = fCO2in\n",
      "  [6,1] = HCO3in\n",
      "  [7,1] = CO3in\n",
      "  [8,1] = CO2in\n",
      "}\n",
      "ans =\n",
      "\n",
      " Columns 1 through 6:\n",
      "\n",
      "   2300.0000   2000.0000      8.1470    302.5164    301.4646   1782.1221\n",
      "\n",
      " Columns 7 and 8:\n",
      "\n",
      "    207.5333     10.3446\n",
      "\n"
     ]
    }
   ],
   "source": [
    "[DATA,HEADERS] = CO2SYS(TAlk,DIC,1,2,SP,Tin,0,Pin,0,TSil,TPhos,1,10,1);\n",
    "HEADERS(1:8)\n",
    "DATA(1:8)"
   ]
  },
  {
   "cell_type": "markdown",
   "metadata": {},
   "source": [
    "## 2nd example"
   ]
  },
  {
   "cell_type": "markdown",
   "metadata": {},
   "source": [
    "### 1st step: Alternative conversion from TEOS-10 to EOS-80\n",
    "This conversion depends on chemical composition of seawater: alcalinity, carbon, nitrate and silicate. Note that the nitrate concentration may be inferred from the Phosphate concentration, using Redfield ratio."
   ]
  },
  {
   "cell_type": "code",
   "execution_count": 6,
   "metadata": {
    "collapsed": false
   },
   "outputs": [
    {
     "name": "stdout",
     "output_type": "stream",
     "text": [
      "Tin =  18.004\n",
      "SP =  34.831\n"
     ]
    }
   ],
   "source": [
    "% Nitrate: one may use Redfield ratio and Phosphate concentration\n",
    "NH3 = TPhos * 16;\n",
    "[Tin, SP] = teos2eos_chem(SA, CsvTin, Pin, TAlk, DIC, NH3, TSil);\n",
    "Tin\n",
    "SP"
   ]
  },
  {
   "cell_type": "markdown",
   "metadata": {
    "collapsed": true
   },
   "source": [
    "### 2nd step: CO2sys computation with converted S and T\n",
    "In this step, we just call CO2SYS() routine as usually."
   ]
  },
  {
   "cell_type": "code",
   "execution_count": 5,
   "metadata": {
    "collapsed": false
   },
   "outputs": [
    {
     "name": "stdout",
     "output_type": "stream",
     "text": [
      "ans = \n",
      "{\n",
      "  [1,1] = TAlk\n",
      "  [2,1] = TCO2\n",
      "  [3,1] = pHin\n",
      "  [4,1] = pCO2in\n",
      "  [5,1] = fCO2in\n",
      "  [6,1] = HCO3in\n",
      "  [7,1] = CO3in\n",
      "  [8,1] = CO2in\n",
      "}\n",
      "ans =\n",
      "\n",
      " Columns 1 through 6:\n",
      "\n",
      "   2300.0000   2000.0000      8.1471    302.4809    301.4292   1782.1181\n",
      "\n",
      " Columns 7 and 8:\n",
      "\n",
      "    207.5383     10.3436\n",
      "\n"
     ]
    }
   ],
   "source": [
    "[DATA,HEADERS] = CO2SYS(TAlk,DIC,1,2,SP,Tin,0,Pin,0,TSil,TPhos,1,10,1);\n",
    "HEADERS(1:8)\n",
    "DATA(1:8)"
   ]
  }
 ],
 "metadata": {
  "kernelspec": {
   "display_name": "Octave",
   "language": "octave",
   "name": "octave"
  },
  "language_info": {
   "file_extension": ".m",
   "help_links": [
    {
     "text": "GNU Octave",
     "url": "https://www.gnu.org/software/octave/support.html"
    },
    {
     "text": "Octave Kernel",
     "url": "https://github.com/Calysto/octave_kernel"
    },
    {
     "text": "MetaKernel Magics",
     "url": "https://github.com/calysto/metakernel/blob/master/metakernel/magics/README.md"
    }
   ],
   "mimetype": "text/x-octave",
   "name": "octave",
   "version": "4.0.0"
  }
 },
 "nbformat": 4,
 "nbformat_minor": 2
}
