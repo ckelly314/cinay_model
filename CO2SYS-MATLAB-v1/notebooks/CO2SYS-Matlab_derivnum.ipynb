{
 "cells": [
  {
   "cell_type": "markdown",
   "metadata": {},
   "source": [
    "# Calculate sensitivities with the `derivnum` add-on for CO2SYS-Matlab"
   ]
  },
  {
   "cell_type": "markdown",
   "metadata": {},
   "source": [
    "James Orr<br>\n",
    "\n",
    "<img align=\"left\" width=\"50%\" src=\"http://www.lsce.ipsl.fr/Css/img/banniere_LSCE_75.png\"><br><br>\n",
    "\n",
    "LSCE/IPSL, CEA-CNRS-UVSQ, Gif-sur-Yvette, France\n",
    "\n",
    "27 February 2018 <br><br>\n",
    "updated: 29 June 2020 "
   ]
  },
  {
   "cell_type": "markdown",
   "metadata": {},
   "source": [
    "**Abstract**: This notebook shows how to use the new `derivnum` add-on of CO2SYS-Matlab to calculate sensitivities, i.e. partial derivatives that express rates changes of computed CO2 system variables (e.g., [H+], $p$CO$_2$, $\\Omega_A$) per change in the selected input variable (e.g., $A_\\text{T}$, $C_\\text{T}$, T, S, $K_1$, $K_2$). It uses CO2SYS-Matlab in `octave`, GNU's clone of Matlab. You can either inspect the HTML version of this file or execute its commands interactively in your browser. But for the latter, you'll need to install `jupyter notebook`, `octave`, and `oct2py`, which includes the python-octave interface called `octavemagic`. Fortunately, that installation is very easy (see below)."
   ]
  },
  {
   "cell_type": "markdown",
   "metadata": {},
   "source": [
    "#### Table of Contents:\n",
    "    1. Basics (install octave & oct2py and load octave)\n",
    "    2. Compute sensitivities with `derivnum` add-on for CO2SYS (use ALK-DIC input pair)\n",
    "    3. same but for pH-ALK\n",
    "    4. same but for pCO2-DIC\n",
    "    5. same but for pCO2-ALK\n",
    "    6. same but for pCO2-pH"
   ]
  },
  {
   "cell_type": "markdown",
   "metadata": {},
   "source": [
    "## 1. Basics"
   ]
  },
  {
   "cell_type": "markdown",
   "metadata": {},
   "source": [
    "#### Run interactively\n",
    "\n",
    "If you are visualizing this after clicking on the link to this file on github, you are seeing the HTML version of a jupyter notebook. Alternatively, you may run cells interactively and modify them if you have `jupyter notebook` installed on your machine.  To install that software, just download the anaconda open software installer for your computing platform (Windows, OS X, or Linux) from https://www.anaconda.com/ and then follow the easy install instructions at\n",
    "\n",
    "https://docs.anaconda.com/anaconda/install/\n",
    "\n",
    "Then just download this `jupyter notebook` file as well as the 3 routines in the src directory (`CO2SYS.m`, `errors.m`, and `derivnum.m`).  Afterwards, you'll only need to install `octave` and `oct2py` using the 1-line command in the following section."
   ]
  },
  {
   "cell_type": "markdown",
   "metadata": {},
   "source": [
    "#### Install `octavemagic`"
   ]
  },
  {
   "cell_type": "markdown",
   "metadata": {},
   "source": [
    "#### To install the octavemagic funtionality, we must install `oct2py`, with the following command at the Unix prompt:\n",
    "\n",
    "  `conda install -c conda-forge octave oct2py`\n",
    "  \n",
    "That command also installs `octave`. Then launch the notebook as usual with the following command:\n",
    "\n",
    "  `jupyter notebook`\n",
    "\n",
    "A new window or tab should then appear in your browser, showing the files in the directory from where you launched the above command. Then just click on one of the `.ipynb` files, such as this one.\n",
    "\n",
    "Once the notebook file appears in your browser, move to any of its cells with your mouse. Run a cell by clicking on it and hitting Ctrl-Return.  Alternatively, type Shift-Return to run a cell and then move to the next one. More information on all the interactive commands is available in the Jupyter Notebook Quick Start Guide: http://jupyter-notebook-beginner-guide.readthedocs.io/en/latest/execute.html\n",
    "\n",
    "At the top of the notebook, you'll see a number of Tabs (File, Edit, View, Insert, ...). Those tabs provide commands that will allow you to do whatever you like. Under the Help tab you'll find keyboard shortcuts for commands. Alternatively, a cheat sheet for short cuts to commands within `jupyter notebook` is available at https://zenodo.org/record/44973/files/ipynb-cheat-sheet.pdf . Or use the command palette after typing Ctrl-Shift-P."
   ]
  },
  {
   "cell_type": "markdown",
   "metadata": {},
   "source": [
    "#### Documentation for octavemagic"
   ]
  },
  {
   "cell_type": "markdown",
   "metadata": {},
   "source": [
    "Details on using octavemagic are here: https://ipython.org/ipython-doc/2/config/extensions/octavemagic.html"
   ]
  },
  {
   "cell_type": "markdown",
   "metadata": {},
   "source": [
    "#### Load octave magic function\n",
    "\n",
    "Because octavemagic is now in conda's oct2py module, it is loaded with a slight modification to what is given on the above web page, i.e., now with the command below"
   ]
  },
  {
   "cell_type": "code",
   "execution_count": 1,
   "metadata": {},
   "outputs": [],
   "source": [
    "%load_ext oct2py.ipython"
   ]
  },
  {
   "cell_type": "markdown",
   "metadata": {},
   "source": [
    "#### List all avaiable magics"
   ]
  },
  {
   "cell_type": "code",
   "execution_count": 2,
   "metadata": {},
   "outputs": [
    {
     "data": {
      "application/json": {
       "cell": {
        "!": "OSMagics",
        "HTML": "Other",
        "SVG": "Other",
        "bash": "Other",
        "capture": "ExecutionMagics",
        "debug": "ExecutionMagics",
        "file": "Other",
        "html": "DisplayMagics",
        "javascript": "DisplayMagics",
        "js": "DisplayMagics",
        "latex": "DisplayMagics",
        "markdown": "DisplayMagics",
        "octave": "OctaveMagics",
        "perl": "Other",
        "prun": "ExecutionMagics",
        "pypy": "Other",
        "python": "Other",
        "python2": "Other",
        "python3": "Other",
        "ruby": "Other",
        "script": "ScriptMagics",
        "sh": "Other",
        "svg": "DisplayMagics",
        "sx": "OSMagics",
        "system": "OSMagics",
        "time": "ExecutionMagics",
        "timeit": "ExecutionMagics",
        "writefile": "OSMagics"
       },
       "line": {
        "alias": "OSMagics",
        "alias_magic": "BasicMagics",
        "autoawait": "AsyncMagics",
        "autocall": "AutoMagics",
        "automagic": "AutoMagics",
        "autosave": "KernelMagics",
        "bookmark": "OSMagics",
        "cat": "Other",
        "cd": "OSMagics",
        "clear": "KernelMagics",
        "colors": "BasicMagics",
        "conda": "PackagingMagics",
        "config": "ConfigMagics",
        "connect_info": "KernelMagics",
        "cp": "Other",
        "debug": "ExecutionMagics",
        "dhist": "OSMagics",
        "dirs": "OSMagics",
        "doctest_mode": "BasicMagics",
        "ed": "Other",
        "edit": "KernelMagics",
        "env": "OSMagics",
        "gui": "BasicMagics",
        "hist": "Other",
        "history": "HistoryMagics",
        "killbgscripts": "ScriptMagics",
        "ldir": "Other",
        "less": "KernelMagics",
        "lf": "Other",
        "lk": "Other",
        "ll": "Other",
        "load": "CodeMagics",
        "load_ext": "ExtensionMagics",
        "loadpy": "CodeMagics",
        "logoff": "LoggingMagics",
        "logon": "LoggingMagics",
        "logstart": "LoggingMagics",
        "logstate": "LoggingMagics",
        "logstop": "LoggingMagics",
        "ls": "Other",
        "lsmagic": "BasicMagics",
        "lx": "Other",
        "macro": "ExecutionMagics",
        "magic": "BasicMagics",
        "man": "KernelMagics",
        "matplotlib": "PylabMagics",
        "mkdir": "Other",
        "more": "KernelMagics",
        "mv": "Other",
        "notebook": "BasicMagics",
        "octave": "OctaveMagics",
        "octave_pull": "OctaveMagics",
        "octave_push": "OctaveMagics",
        "page": "BasicMagics",
        "pastebin": "CodeMagics",
        "pdb": "ExecutionMagics",
        "pdef": "NamespaceMagics",
        "pdoc": "NamespaceMagics",
        "pfile": "NamespaceMagics",
        "pinfo": "NamespaceMagics",
        "pinfo2": "NamespaceMagics",
        "pip": "PackagingMagics",
        "popd": "OSMagics",
        "pprint": "BasicMagics",
        "precision": "BasicMagics",
        "prun": "ExecutionMagics",
        "psearch": "NamespaceMagics",
        "psource": "NamespaceMagics",
        "pushd": "OSMagics",
        "pwd": "OSMagics",
        "pycat": "OSMagics",
        "pylab": "PylabMagics",
        "qtconsole": "KernelMagics",
        "quickref": "BasicMagics",
        "recall": "HistoryMagics",
        "rehashx": "OSMagics",
        "reload_ext": "ExtensionMagics",
        "rep": "Other",
        "rerun": "HistoryMagics",
        "reset": "NamespaceMagics",
        "reset_selective": "NamespaceMagics",
        "rm": "Other",
        "rmdir": "Other",
        "run": "ExecutionMagics",
        "save": "CodeMagics",
        "sc": "OSMagics",
        "set_env": "OSMagics",
        "store": "StoreMagics",
        "sx": "OSMagics",
        "system": "OSMagics",
        "tb": "ExecutionMagics",
        "time": "ExecutionMagics",
        "timeit": "ExecutionMagics",
        "unalias": "OSMagics",
        "unload_ext": "ExtensionMagics",
        "who": "NamespaceMagics",
        "who_ls": "NamespaceMagics",
        "whos": "NamespaceMagics",
        "xdel": "NamespaceMagics",
        "xmode": "BasicMagics"
       }
      },
      "text/plain": [
       "Available line magics:\n",
       "%alias  %alias_magic  %autoawait  %autocall  %automagic  %autosave  %bookmark  %cat  %cd  %clear  %colors  %conda  %config  %connect_info  %cp  %debug  %dhist  %dirs  %doctest_mode  %ed  %edit  %env  %gui  %hist  %history  %killbgscripts  %ldir  %less  %lf  %lk  %ll  %load  %load_ext  %loadpy  %logoff  %logon  %logstart  %logstate  %logstop  %ls  %lsmagic  %lx  %macro  %magic  %man  %matplotlib  %mkdir  %more  %mv  %notebook  %octave  %octave_pull  %octave_push  %page  %pastebin  %pdb  %pdef  %pdoc  %pfile  %pinfo  %pinfo2  %pip  %popd  %pprint  %precision  %prun  %psearch  %psource  %pushd  %pwd  %pycat  %pylab  %qtconsole  %quickref  %recall  %rehashx  %reload_ext  %rep  %rerun  %reset  %reset_selective  %rm  %rmdir  %run  %save  %sc  %set_env  %store  %sx  %system  %tb  %time  %timeit  %unalias  %unload_ext  %who  %who_ls  %whos  %xdel  %xmode\n",
       "\n",
       "Available cell magics:\n",
       "%%!  %%HTML  %%SVG  %%bash  %%capture  %%debug  %%file  %%html  %%javascript  %%js  %%latex  %%markdown  %%octave  %%perl  %%prun  %%pypy  %%python  %%python2  %%python3  %%ruby  %%script  %%sh  %%svg  %%sx  %%system  %%time  %%timeit  %%writefile\n",
       "\n",
       "Automagic is ON, % prefix IS NOT needed for line magics."
      ]
     },
     "execution_count": 2,
     "metadata": {},
     "output_type": "execute_result"
    }
   ],
   "source": [
    "%lsmagic"
   ]
  },
  {
   "cell_type": "markdown",
   "metadata": {},
   "source": [
    "#### Specify the directory where you have put the Matlab routines `CO2SYS.m`, `errors.m`, and `derivnum.m`."
   ]
  },
  {
   "cell_type": "code",
   "execution_count": 3,
   "metadata": {},
   "outputs": [],
   "source": [
    "%%octave\n",
    "addpath (\"~/Software/MATLAB/CO2SYS-MATLAB/src\")"
   ]
  },
  {
   "cell_type": "markdown",
   "metadata": {},
   "source": [
    "#### Note: any notebook cell whose 1st line is `%%octave` means that all subsequent lines in that cell are in octave, not python"
   ]
  },
  {
   "cell_type": "markdown",
   "metadata": {},
   "source": [
    "#### Get the documentation for using the `derivnum` routine"
   ]
  },
  {
   "cell_type": "code",
   "execution_count": 4,
   "metadata": {},
   "outputs": [
    {
     "data": {
      "text/plain": [
       "'derivnum' is a function from the file /homel/orr/Software/MATLAB/CO2SYS-MATLAB/src/derivnum.m"
      ]
     },
     "metadata": {},
     "output_type": "display_data"
    },
    {
     "data": {
      "text/plain": []
     },
     "metadata": {},
     "output_type": "display_data"
    },
    {
     "data": {
      "text/plain": [
       " derivnum()"
      ]
     },
     "metadata": {},
     "output_type": "display_data"
    },
    {
     "data": {
      "text/plain": [
       " This subroutine computes partial derivatives of output carbonate variables"
      ]
     },
     "metadata": {},
     "output_type": "display_data"
    },
    {
     "data": {
      "text/plain": [
       " with respect to input variables (two), plus nutrients (two), temperature and salinity,"
      ]
     },
     "metadata": {},
     "output_type": "display_data"
    },
    {
     "data": {
      "text/plain": [
       " dissociation constants, and total boron."
      ]
     },
     "metadata": {},
     "output_type": "display_data"
    },
    {
     "data": {
      "text/plain": []
     },
     "metadata": {},
     "output_type": "display_data"
    },
    {
     "data": {
      "text/plain": [
       " It uses central differences, introducing a small perturbation"
      ]
     },
     "metadata": {},
     "output_type": "display_data"
    },
    {
     "data": {
      "text/plain": [
       " (plus and minus of a delta) in one INPUT variable and computes the"
      ]
     },
     "metadata": {},
     "output_type": "display_data"
    },
    {
     "data": {
      "text/plain": [
       " resulting induced change in each OUTPUT variable"
      ]
     },
     "metadata": {},
     "output_type": "display_data"
    },
    {
     "data": {
      "text/plain": []
     },
     "metadata": {},
     "output_type": "display_data"
    },
    {
     "data": {
      "text/plain": [
       " After numerical tests, the small PERTURBATION (delta) is chosen"
      ]
     },
     "metadata": {},
     "output_type": "display_data"
    },
    {
     "data": {
      "text/plain": [
       " as a fraction of a reference value as follows:"
      ]
     },
     "metadata": {},
     "output_type": "display_data"
    },
    {
     "data": {
      "text/plain": [
       " * 1.e-3 (0.1%) for the equilibrium constants and total boron"
      ]
     },
     "metadata": {},
     "output_type": "display_data"
    },
    {
     "data": {
      "text/plain": [
       " * 1.e-6        for the pair of CO2 system input variables (PAR1, PAR2)"
      ]
     },
     "metadata": {},
     "output_type": "display_data"
    },
    {
     "data": {
      "text/plain": [
       " * 1.e-4        for temperature and salinity"
      ]
     },
     "metadata": {},
     "output_type": "display_data"
    },
    {
     "data": {
      "text/plain": [
       " * 1.e-3        for total dissolved inorganic P and Si (PO4, SI)"
      ]
     },
     "metadata": {},
     "output_type": "display_data"
    },
    {
     "data": {
      "text/plain": []
     },
     "metadata": {},
     "output_type": "display_data"
    },
    {
     "data": {
      "text/plain": [
       "**************************************************************************"
      ]
     },
     "metadata": {},
     "output_type": "display_data"
    },
    {
     "data": {
      "text/plain": []
     },
     "metadata": {},
     "output_type": "display_data"
    },
    {
     "data": {
      "text/plain": [
       "  **** SYNTAX:"
      ]
     },
     "metadata": {},
     "output_type": "display_data"
    },
    {
     "data": {
      "text/plain": [
       "  [deriv, headers_der, units_der, headers_err, units_err]=..."
      ]
     },
     "metadata": {},
     "output_type": "display_data"
    },
    {
     "data": {
      "text/plain": [
       "                  derivnum(VARID,PAR1,PAR2,PAR1TYPE,PAR2TYPE,..."
      ]
     },
     "metadata": {},
     "output_type": "display_data"
    },
    {
     "data": {
      "text/plain": [
       "                          SAL,TEMPIN,TEMPOUT,PRESIN,PRESOUT,..."
      ]
     },
     "metadata": {},
     "output_type": "display_data"
    },
    {
     "data": {
      "text/plain": [
       "                          SI,PO4,pHSCALEIN,K1K2CONSTANTS,KSO4CONSTANTS)"
      ]
     },
     "metadata": {},
     "output_type": "display_data"
    },
    {
     "data": {
      "text/plain": []
     },
     "metadata": {},
     "output_type": "display_data"
    },
    {
     "data": {
      "text/plain": [
       "  **** SYNTAX EXAMPLES:"
      ]
     },
     "metadata": {},
     "output_type": "display_data"
    },
    {
     "data": {
      "text/plain": [
       "  [der, headers, units] = derivnum('par1',2400,2200,1,2,35,0,25,4200,0,15,1,1,4,1)"
      ]
     },
     "metadata": {},
     "output_type": "display_data"
    },
    {
     "data": {
      "text/plain": [
       "  [der, headers, units] = derivnum('sit', 2400,   8,1,3,35,0,25,4200,0,15,1,1,4,1)"
      ]
     },
     "metadata": {},
     "output_type": "display_data"
    },
    {
     "data": {
      "text/plain": [
       "  [deriv, headers]      = derivnum(  'T',  500,   8,5,3,35,0,25,4200,0,15,1,1,4,1)"
      ]
     },
     "metadata": {},
     "output_type": "display_data"
    },
    {
     "data": {
      "text/plain": [
       "  [deriv]               = derivnum('S',2400,2000:10:2400,1,2,35,0,25,4200,0,15,1,1,4,1)"
      ]
     },
     "metadata": {},
     "output_type": "display_data"
    },
    {
     "data": {
      "text/plain": [
       "  [deriv]               = derivnum('K0',2400,2200,1,2,0:1:35,0,25,4200,0,15,1,1,4,1)"
      ]
     },
     "metadata": {},
     "output_type": "display_data"
    },
    {
     "data": {
      "text/plain": [
       "  [deriv]               = derivnum('K1',2400,2200,1,2,35,0,25,0:100:4200,0,15,1,1,4,1)"
      ]
     },
     "metadata": {},
     "output_type": "display_data"
    },
    {
     "data": {
      "text/plain": []
     },
     "metadata": {},
     "output_type": "display_data"
    },
    {
     "data": {
      "text/plain": [
       "**************************************************************************"
      ]
     },
     "metadata": {},
     "output_type": "display_data"
    },
    {
     "data": {
      "text/plain": []
     },
     "metadata": {},
     "output_type": "display_data"
    },
    {
     "data": {
      "text/plain": [
       " INPUT:"
      ]
     },
     "metadata": {},
     "output_type": "display_data"
    },
    {
     "data": {
      "text/plain": []
     },
     "metadata": {},
     "output_type": "display_data"
    },
    {
     "data": {
      "text/plain": [
       "   - VARID     :   character string to select the input variable for which"
      ]
     },
     "metadata": {},
     "output_type": "display_data"
    },
    {
     "data": {
      "text/plain": [
       "                   derivatives will be taken with respect to."
      ]
     },
     "metadata": {},
     "output_type": "display_data"
    },
    {
     "data": {
      "text/plain": [
       "                   This variable appears in denominator of each resulting derivative."
      ]
     },
     "metadata": {},
     "output_type": "display_data"
    },
    {
     "data": {
      "text/plain": [
       "                   = variable length, case insensitive, character code"
      ]
     },
     "metadata": {},
     "output_type": "display_data"
    },
    {
     "data": {
      "text/plain": [
       "                     case 'par1'  :  Parameter 1 of the input pair (This is TAlk if PAR1TYPE is 1)"
      ]
     },
     "metadata": {},
     "output_type": "display_data"
    },
    {
     "data": {
      "text/plain": [
       "                     case 'par2'  :  Parameter 2 of the input pair (This is TAlk if PAR2TYPE is 1)"
      ]
     },
     "metadata": {},
     "output_type": "display_data"
    },
    {
     "data": {
      "text/plain": [
       "                     case 'sil', 'silt', 'tsil', 'silicate', or 'sit'     : Silicate concentration"
      ]
     },
     "metadata": {},
     "output_type": "display_data"
    },
    {
     "data": {
      "text/plain": [
       "                     case 'phos', 'phost', 'tphos', 'phosphate', or 'pt'  : Phosphate concentration"
      ]
     },
     "metadata": {},
     "output_type": "display_data"
    },
    {
     "data": {
      "text/plain": [
       "                     case 't', 'temp' or 'temperature'           : temperature"
      ]
     },
     "metadata": {},
     "output_type": "display_data"
    },
    {
     "data": {
      "text/plain": [
       "                     case 's', 'sal', or 'salinity'              : salinity"
      ]
     },
     "metadata": {},
     "output_type": "display_data"
    },
    {
     "data": {
      "text/plain": [
       "                     case 'K0','K1','K2','Kb','Kw','Kspa', 'Kspc': dissociation constants"
      ]
     },
     "metadata": {},
     "output_type": "display_data"
    },
    {
     "data": {
      "text/plain": [
       "                     case 'bor': total boron"
      ]
     },
     "metadata": {},
     "output_type": "display_data"
    },
    {
     "data": {
      "text/plain": []
     },
     "metadata": {},
     "output_type": "display_data"
    },
    {
     "data": {
      "text/plain": [
       "   - all others :  same list of input parameters as in CO2SYS() subroutine (scalar or vectors)"
      ]
     },
     "metadata": {},
     "output_type": "display_data"
    },
    {
     "data": {
      "text/plain": []
     },
     "metadata": {},
     "output_type": "display_data"
    },
    {
     "data": {
      "text/plain": [
       "**************************************************************************%"
      ]
     },
     "metadata": {},
     "output_type": "display_data"
    },
    {
     "data": {
      "text/plain": []
     },
     "metadata": {},
     "output_type": "display_data"
    },
    {
     "data": {
      "text/plain": [
       " OUTPUT: 3 arrays"
      ]
     },
     "metadata": {},
     "output_type": "display_data"
    },
    {
     "data": {
      "text/plain": [
       "         a) an array containing the derivative of the following parameter (one row per sample):"
      ]
     },
     "metadata": {},
     "output_type": "display_data"
    },
    {
     "data": {
      "text/plain": [
       "         b) the corresponding cell-array containing crudely formatted headers"
      ]
     },
     "metadata": {},
     "output_type": "display_data"
    },
    {
     "data": {
      "text/plain": [
       "         c) the corresponding cell-array containing the units"
      ]
     },
     "metadata": {},
     "output_type": "display_data"
    },
    {
     "data": {
      "text/plain": []
     },
     "metadata": {},
     "output_type": "display_data"
    },
    {
     "data": {
      "text/plain": [
       "    POS  PARAMETER        UNIT"
      ]
     },
     "metadata": {},
     "output_type": "display_data"
    },
    {
     "data": {
      "text/plain": []
     },
     "metadata": {},
     "output_type": "display_data"
    },
    {
     "data": {
      "text/plain": [
       "    01 - TAlk              (umol/kgSW)"
      ]
     },
     "metadata": {},
     "output_type": "display_data"
    },
    {
     "data": {
      "text/plain": [
       "    02 - TCO2              (umol/kgSW)"
      ]
     },
     "metadata": {},
     "output_type": "display_data"
    },
    {
     "data": {
      "text/plain": [
       "    03 - [H+] in           (umol/kgSW)"
      ]
     },
     "metadata": {},
     "output_type": "display_data"
    },
    {
     "data": {
      "text/plain": [
       "    04 - pCO2 in           (uatm)"
      ]
     },
     "metadata": {},
     "output_type": "display_data"
    },
    {
     "data": {
      "text/plain": [
       "    05 - fCO2 in           (uatm)"
      ]
     },
     "metadata": {},
     "output_type": "display_data"
    },
    {
     "data": {
      "text/plain": [
       "    06 - HCO3 in           (umol/kgSW)"
      ]
     },
     "metadata": {},
     "output_type": "display_data"
    },
    {
     "data": {
      "text/plain": [
       "    07 - CO3 in            (umol/kgSW)"
      ]
     },
     "metadata": {},
     "output_type": "display_data"
    },
    {
     "data": {
      "text/plain": [
       "    08 - CO2 in            (umol/kgSW)"
      ]
     },
     "metadata": {},
     "output_type": "display_data"
    },
    {
     "data": {
      "text/plain": [
       "    09 - OmegaCa in        ()"
      ]
     },
     "metadata": {},
     "output_type": "display_data"
    },
    {
     "data": {
      "text/plain": [
       "    10 - OmegaAr in        ()"
      ]
     },
     "metadata": {},
     "output_type": "display_data"
    },
    {
     "data": {
      "text/plain": [
       "    11 - xCO2 in           (ppm)"
      ]
     },
     "metadata": {},
     "output_type": "display_data"
    },
    {
     "data": {
      "text/plain": [
       "    12 - [H+] out          ()"
      ]
     },
     "metadata": {},
     "output_type": "display_data"
    },
    {
     "data": {
      "text/plain": [
       "    13 - pCO2 out          (uatm)"
      ]
     },
     "metadata": {},
     "output_type": "display_data"
    },
    {
     "data": {
      "text/plain": [
       "    14 - fCO2 out          (uatm)"
      ]
     },
     "metadata": {},
     "output_type": "display_data"
    },
    {
     "data": {
      "text/plain": [
       "    15 - HCO3 out          (umol/kgSW)"
      ]
     },
     "metadata": {},
     "output_type": "display_data"
    },
    {
     "data": {
      "text/plain": [
       "    16 - CO3 out           (umol/kgSW)"
      ]
     },
     "metadata": {},
     "output_type": "display_data"
    },
    {
     "data": {
      "text/plain": [
       "    17 - CO2 out           (umol/kgSW)"
      ]
     },
     "metadata": {},
     "output_type": "display_data"
    },
    {
     "data": {
      "text/plain": [
       "    18 - OmegaCa out       ()"
      ]
     },
     "metadata": {},
     "output_type": "display_data"
    },
    {
     "data": {
      "text/plain": [
       "    19 - OmegaAr out       ()"
      ]
     },
     "metadata": {},
     "output_type": "display_data"
    },
    {
     "data": {
      "text/plain": [
       "    20 - xCO2 out          (ppm)"
      ]
     },
     "metadata": {},
     "output_type": "display_data"
    },
    {
     "data": {
      "text/plain": []
     },
     "metadata": {},
     "output_type": "display_data"
    },
    {
     "data": {
      "text/plain": [
       " * 'in'  refers to INPUT  conditions (TEMPIN, PRESIN) as for CO2SYS"
      ]
     },
     "metadata": {},
     "output_type": "display_data"
    },
    {
     "data": {
      "text/plain": [
       "   'out' refers to OUTPUT conditions (TEMPOUT, PRESOUT)"
      ]
     },
     "metadata": {},
     "output_type": "display_data"
    },
    {
     "data": {
      "text/plain": []
     },
     "metadata": {},
     "output_type": "display_data"
    },
    {
     "data": {
      "text/plain": [
       " Note: derivnum does not take derivatives of the two CO2 system input vars."
      ]
     },
     "metadata": {},
     "output_type": "display_data"
    },
    {
     "data": {
      "text/plain": [
       "       Hence 2 out of the first 5 results listed above will be omitted."
      ]
     },
     "metadata": {},
     "output_type": "display_data"
    },
    {
     "data": {
      "text/plain": [
       "       The index (POS) will be shifted accordingly"
      ]
     },
     "metadata": {},
     "output_type": "display_data"
    },
    {
     "data": {
      "text/plain": [
       "       (always beginning at 1 and ending at 18):"
      ]
     },
     "metadata": {},
     "output_type": "display_data"
    },
    {
     "data": {
      "text/plain": [
       "       * with the TAlk-TCO2 input pair, POS=1 corresponds to ([H+]in)';"
      ]
     },
     "metadata": {},
     "output_type": "display_data"
    },
    {
     "data": {
      "text/plain": [
       "       * with the TAlk-pCO2 pair, POS = 1,2,3 are (TCO2in)', ([H+]in)', (fCO2in)';"
      ]
     },
     "metadata": {},
     "output_type": "display_data"
    },
    {
     "data": {
      "text/plain": [
       "       * POS 18 is always for (xCO2out)'."
      ]
     },
     "metadata": {},
     "output_type": "display_data"
    },
    {
     "data": {
      "text/plain": []
     },
     "metadata": {},
     "output_type": "display_data"
    },
    {
     "data": {
      "text/plain": [
       " CAUTION: If pH is an input variable, do NOT use ([H+]out)';"
      ]
     },
     "metadata": {},
     "output_type": "display_data"
    },
    {
     "data": {
      "text/plain": [
       "          If either pCO2 or fCO2 is an input variable, do NOT use"
      ]
     },
     "metadata": {},
     "output_type": "display_data"
    },
    {
     "data": {
      "text/plain": [
       "          (pCO2in)', (fCO2in)', (xCO2in)', (pCO2out)', (fCO2out)', or (xCO2out)'."
      ]
     },
     "metadata": {},
     "output_type": "display_data"
    },
    {
     "data": {
      "text/plain": [
       "          Reason: derivnum is NOT designed to take partial derivatives of"
      ]
     },
     "metadata": {},
     "output_type": "display_data"
    },
    {
     "data": {
      "text/plain": [
       "          input vars or vars that are almost the same as input vars. That"
      ]
     },
     "metadata": {},
     "output_type": "display_data"
    },
    {
     "data": {
      "text/plain": [
       "          would not make sense. They are kept in the output only to maintain"
      ]
     },
     "metadata": {},
     "output_type": "display_data"
    },
    {
     "data": {
      "text/plain": [
       "          consistency between the different user choices for the input pair."
      ]
     },
     "metadata": {},
     "output_type": "display_data"
    },
    {
     "data": {
      "text/plain": []
     },
     "metadata": {},
     "output_type": "display_data"
    },
    {
     "data": {
      "text/plain": [
       " CAUTION: derivnum is NOT designed to take partial derivatives of"
      ]
     },
     "metadata": {},
     "output_type": "display_data"
    },
    {
     "data": {
      "text/plain": [
       "          input vars, only computed variables relative to input"
      ]
     },
     "metadata": {},
     "output_type": "display_data"
    },
    {
     "data": {
      "text/plain": [
       "          variables. However, those partial derivatives are"
      ]
     },
     "metadata": {},
     "output_type": "display_data"
    },
    {
     "data": {
      "text/plain": [
       "          sometimes kept (in the OUT conditions) to maintain"
      ]
     },
     "metadata": {},
     "output_type": "display_data"
    },
    {
     "data": {
      "text/plain": [
       "          consistency of the order of output between the different"
      ]
     },
     "metadata": {},
     "output_type": "display_data"
    },
    {
     "data": {
      "text/plain": [
       "          input pairs. This case occurs when pH, pCO2, or fCO2 are"
      ]
     },
     "metadata": {},
     "output_type": "display_data"
    },
    {
     "data": {
      "text/plain": [
       "          a member of the input pair (e.g., pH-Alk, pCO2-DIC, or"
      ]
     },
     "metadata": {},
     "output_type": "display_data"
    },
    {
     "data": {
      "text/plain": [
       "          pH-pCO2). These partial derivatives of input vars are"
      ]
     },
     "metadata": {},
     "output_type": "display_data"
    },
    {
     "data": {
      "text/plain": [
       "          not used by the \"errors.m\" function (for uncertainty propagation)."
      ]
     },
     "metadata": {},
     "output_type": "display_data"
    },
    {
     "data": {
      "text/plain": [
       "          We recommend to avoid using these derivatives of input"
      ]
     },
     "metadata": {},
     "output_type": "display_data"
    },
    {
     "data": {
      "text/plain": [
       "          variables: in some cases their results appear accurate"
      ]
     },
     "metadata": {},
     "output_type": "display_data"
    },
    {
     "data": {
      "text/plain": [
       "          while in other cases their results have been masked with"
      ]
     },
     "metadata": {},
     "output_type": "display_data"
    },
    {
     "data": {
      "text/plain": [
       "          a NaN."
      ]
     },
     "metadata": {},
     "output_type": "display_data"
    },
    {
     "data": {
      "text/plain": []
     },
     "metadata": {},
     "output_type": "display_data"
    },
    {
     "data": {
      "text/plain": []
     },
     "metadata": {},
     "output_type": "display_data"
    },
    {
     "data": {
      "text/plain": []
     },
     "metadata": {},
     "output_type": "display_data"
    },
    {
     "data": {
      "text/plain": [
       "Additional help for built-in functions and operators is"
      ]
     },
     "metadata": {},
     "output_type": "display_data"
    },
    {
     "data": {
      "text/plain": [
       "available in the online version of the manual.  Use the command"
      ]
     },
     "metadata": {},
     "output_type": "display_data"
    },
    {
     "data": {
      "text/plain": [
       "'doc <topic>' to search the manual index."
      ]
     },
     "metadata": {},
     "output_type": "display_data"
    },
    {
     "data": {
      "text/plain": []
     },
     "metadata": {},
     "output_type": "display_data"
    },
    {
     "data": {
      "text/plain": [
       "Help and information about Octave is also available on the WWW"
      ]
     },
     "metadata": {},
     "output_type": "display_data"
    },
    {
     "data": {
      "text/plain": [
       "at http://www.octave.org and via the help@octave.org"
      ]
     },
     "metadata": {},
     "output_type": "display_data"
    },
    {
     "data": {
      "text/plain": [
       "mailing list."
      ]
     },
     "metadata": {},
     "output_type": "display_data"
    }
   ],
   "source": [
    "%%octave \n",
    "help derivnum"
   ]
  },
  {
   "cell_type": "markdown",
   "metadata": {},
   "source": [
    "#### Hint:  \n",
    "* double click on left of box above to hide above output\n",
    "* single click to show it again "
   ]
  },
  {
   "cell_type": "markdown",
   "metadata": {},
   "source": [
    "## 2. Compute sentitivities with `derivnum` add-on for CO2SYS-Matlab ($A_\\text{T}$-$C_\\text{T}$ pair)"
   ]
  },
  {
   "cell_type": "markdown",
   "metadata": {},
   "source": [
    "### 2.1 Specify input variables and choices"
   ]
  },
  {
   "cell_type": "code",
   "execution_count": 5,
   "metadata": {},
   "outputs": [],
   "source": [
    "%%octave\n",
    "\n",
    "# Standard input for CO2SYS:\n",
    "# --------------------------\n",
    "    # Input Variables:\n",
    "    PAR1 = 2300;        % ALK\n",
    "    PAR2 = 2000;        % DIC\n",
    "    PAR1TYPE = 1;       % 1=ALK, 2=DIC, 3=pH, 4=pCO2, 5=fCO2\n",
    "    PAR2TYPE = 2;       % Same 5 choices as PAR1TYPE\n",
    "    SAL = 35;           % Salinity\n",
    "    TEMPIN = 18;        % Temperature (input)\n",
    "    TEMPOUT = 25;       % Temperature (output)\n",
    "    PRESIN = 0;         % Pressure (input)\n",
    "    PRESOUT = PRESIN;   % Pressure (output)\n",
    "    SI = 60;            % Total dissolved inorganic silicon (Sit)\n",
    "    PO4 = 2;            % Total dissoloved inorganic Phosphorus (Pt)\n",
    "#   SI =  0;            % Total dissolved inorganic silicon (Sit)\n",
    "\n",
    "    # Input Parameters:\n",
    "    pHSCALEIN = 1;      % pH scale (1=total, 2=seawater, 3=NBS, 4=Free)\n",
    "    K1K2CONSTANTS = 10; % set for K1 & K2: 10=Lueker et al. (2000); 14=Millero (2010); 15= Waters et al. (2014)\n",
    "    KSO4CONSTANTS = 1;  % KSO4 of Dickson (1990a) & Total dissolved boron (Bt) from Uppstrom (1974)"
   ]
  },
  {
   "cell_type": "markdown",
   "metadata": {},
   "source": [
    "### 2.2 Partial derivatives with respect to par1 (specified above as ALK)"
   ]
  },
  {
   "cell_type": "code",
   "execution_count": 6,
   "metadata": {},
   "outputs": [
    {
     "data": {
      "text/plain": [
       "dHin/dALK dpCO2in/dALK dfCO2in/dALK dHCO3in/dALK dCO3in/dALK dCO2in/dALK dOmegaCAin/dALK dOmegaARin/dALK dxCO2in/dALK"
      ]
     },
     "metadata": {},
     "output_type": "display_data"
    },
    {
     "data": {
      "text/plain": [
       "(nmol/umol) (uatm kg/umol) (uatm kg/umol) (umol/umol) (umol/umol) (umol/umol) (kg/umol) (kg/umol) (ppm kg/umol)"
      ]
     },
     "metadata": {},
     "output_type": "display_data"
    },
    {
     "data": {
      "text/plain": [
       "-0.025752  -1.200106   -1.195933    -0.631191    0.672197    -0.041006   0.016050         0.010379       -1.224557"
      ]
     },
     "metadata": {},
     "output_type": "display_data"
    }
   ],
   "source": [
    "%%octave\n",
    "    [b, bhead, bunits] = derivnum ('par1', PAR1, PAR2, PAR1TYPE, PAR2TYPE, SAL, TEMPIN, TEMPOUT, PRESIN, PRESOUT,... \n",
    "                                   SI, PO4,...\n",
    "                                   pHSCALEIN, K1K2CONSTANTS, KSO4CONSTANTS);\n",
    "# Print (nicely formatted):\n",
    "    printf(\"%s %s %s %s %s %s %s %s %s \\n\", bhead{1:9});\n",
    "    printf(\"%s %s %s %s %s %s %s %s %s \\n\", bunits{1:9});\n",
    "    printf(\"%f  %f   %f    %f    %f    %f   %f         %f       %f \\n\", b(1:9));\n"
   ]
  },
  {
   "cell_type": "markdown",
   "metadata": {},
   "source": [
    "#### Test to see if same results for OUT conditions when TEMPOUT = TEMPIN"
   ]
  },
  {
   "cell_type": "code",
   "execution_count": 7,
   "metadata": {},
   "outputs": [
    {
     "data": {
      "text/plain": [
       "dHout/dALK dpCO2out/dALK dfCO2out/dALK dHCO3out/dALK dCO3out/dALK dCO2out/dALK dOmegaCAout/dALK dOmegaARout/dALK dxCO2out/dALK"
      ]
     },
     "metadata": {},
     "output_type": "display_data"
    },
    {
     "data": {
      "text/plain": [
       "(nmol/umol) (uatm kg/umol) (uatm kg/umol) (umol/umol) (umol/umol) (umol/umol) (kg/umol) (kg/umol) (ppm kg/umol)"
      ]
     },
     "metadata": {},
     "output_type": "display_data"
    },
    {
     "data": {
      "text/plain": [
       "-0.025752  -1.200106   -1.195933    -0.631191    0.672197    -0.041006   0.016050         0.010379       -1.224557"
      ]
     },
     "metadata": {},
     "output_type": "display_data"
    }
   ],
   "source": [
    "%%octave\n",
    "    [b, bhead, bunits] = derivnum ('par1', PAR1, PAR2, PAR1TYPE, PAR2TYPE, SAL, TEMPIN, TEMPIN, PRESIN, PRESOUT,... \n",
    "                                   SI, PO4,...\n",
    "                                   pHSCALEIN, K1K2CONSTANTS, KSO4CONSTANTS);\n",
    "# Print (nicely formatted):\n",
    "    printf(\"%s %s %s %s %s %s %s %s %s \\n\", bhead{10:18});\n",
    "    printf(\"%s %s %s %s %s %s %s %s %s \\n\", bunits{10:18});\n",
    "    printf(\"%f  %f   %f    %f    %f    %f   %f         %f       %f \\n\", b(10:18));"
   ]
  },
  {
   "cell_type": "markdown",
   "metadata": {},
   "source": [
    "### 2.2 Partial derivatives with respect to par2 (specified above as DIC)"
   ]
  },
  {
   "cell_type": "code",
   "execution_count": 8,
   "metadata": {},
   "outputs": [
    {
     "data": {
      "text/plain": [
       "dHin/dDIC dpCO2in/dDIC dfCO2in/dDIC dHCO3in/dDIC dCO3in/dDIC dCO2in/dDIC dOmegaCAin/dDIC dOmegaARin/dDIC dxCO2in/dDIC"
      ]
     },
     "metadata": {},
     "output_type": "display_data"
    },
    {
     "data": {
      "text/plain": [
       "(nmol/umol) (uatm kg/umol) (uatm kg/umol) (umol/umol) (umol/umol) (umol/umol) (kg/umol) (kg/umol) (ppm kg/umol)"
      ]
     },
     "metadata": {},
     "output_type": "display_data"
    },
    {
     "data": {
      "text/plain": [
       "0.028288  1.470197   1.465085    1.584490    -0.634725    0.050234   -0.015155         -0.009800       1.500151"
      ]
     },
     "metadata": {},
     "output_type": "display_data"
    }
   ],
   "source": [
    "%%octave\n",
    "    [b, bhead, bunits] = derivnum ('par2', PAR1, PAR2, PAR1TYPE, PAR2TYPE, SAL, TEMPIN, TEMPOUT, PRESIN, PRESOUT,... \n",
    "                                   SI, PO4,...\n",
    "                                   pHSCALEIN, K1K2CONSTANTS, KSO4CONSTANTS);\n",
    "# Print (nicely formatted):\n",
    "    printf(\"%s %s %s %s %s %s %s %s %s \\n\", bhead{1:9});\n",
    "    printf(\"%s %s %s %s %s %s %s %s %s \\n\", bunits{1:9});\n",
    "    printf(\"%f  %f   %f    %f    %f    %f   %f         %f       %f \\n\", b(1:9));"
   ]
  },
  {
   "cell_type": "markdown",
   "metadata": {},
   "source": [
    "#### Test to see if same results for OUT conditions when TEMPOUT = TEMPIN"
   ]
  },
  {
   "cell_type": "code",
   "execution_count": 9,
   "metadata": {},
   "outputs": [
    {
     "data": {
      "text/plain": [
       "dHout/dDIC dpCO2out/dDIC dfCO2out/dDIC dHCO3out/dDIC dCO3out/dDIC dCO2out/dDIC dOmegaCAout/dDIC dOmegaARout/dDIC dxCO2out/dDIC"
      ]
     },
     "metadata": {},
     "output_type": "display_data"
    },
    {
     "data": {
      "text/plain": [
       "(nmol/umol) (uatm kg/umol) (uatm kg/umol) (umol/umol) (umol/umol) (umol/umol) (kg/umol) (kg/umol) (ppm kg/umol)"
      ]
     },
     "metadata": {},
     "output_type": "display_data"
    },
    {
     "data": {
      "text/plain": [
       "0.028288  1.470197   1.465085    1.584490    -0.634725    0.050234   -0.015155         -0.009800       1.500151"
      ]
     },
     "metadata": {},
     "output_type": "display_data"
    }
   ],
   "source": [
    "%%octave\n",
    "    [b, bhead, bunits] = derivnum ('par2', PAR1, PAR2, PAR1TYPE, PAR2TYPE, SAL, TEMPIN, TEMPIN, PRESIN, PRESOUT,... \n",
    "                                   SI, PO4,...\n",
    "                                   pHSCALEIN, K1K2CONSTANTS, KSO4CONSTANTS);\n",
    "# Print (nicely formatted):\n",
    "    printf(\"%s %s %s %s %s %s %s %s %s \\n\", bhead{10:18});\n",
    "    printf(\"%s %s %s %s %s %s %s %s %s \\n\", bunits{10:18});\n",
    "    printf(\"%f  %f   %f    %f    %f    %f   %f         %f       %f \\n\", b(10:18));"
   ]
  },
  {
   "cell_type": "markdown",
   "metadata": {},
   "source": [
    "### 2.3 Partial derivatives with respect to Temperature"
   ]
  },
  {
   "cell_type": "code",
   "execution_count": 10,
   "metadata": {
    "scrolled": true
   },
   "outputs": [
    {
     "data": {
      "text/plain": [
       "dHin/dT dpCO2in/dT dfCO2in/dT dHCO3in/dT dCO3in/dT dCO2in/dT dOmegaCAin/dT dOmegaARin/dT dxCO2in/dT"
      ]
     },
     "metadata": {},
     "output_type": "display_data"
    },
    {
     "data": {
      "text/plain": [
       "(nmol/kg/C) (uatm/C) (uatm/C) (umol/kg/C) (umol/kg/C) (umol/kg/C) ( /C) ( /C) (ppm/C)"
      ]
     },
     "metadata": {},
     "output_type": "display_data"
    },
    {
     "data": {
      "text/plain": [
       "0.254392  12.669989   12.639152    -0.559386    0.424031    0.135355   0.013803         0.016707       13.325496"
      ]
     },
     "metadata": {},
     "output_type": "display_data"
    }
   ],
   "source": [
    "%%octave\n",
    "    [b, bhead, bunits] = derivnum ('T', PAR1, PAR2, PAR1TYPE, PAR2TYPE, SAL, TEMPIN, TEMPOUT, PRESIN, PRESOUT,... \n",
    "                                   SI, PO4,...\n",
    "                                   pHSCALEIN, K1K2CONSTANTS, KSO4CONSTANTS);\n",
    "# Print (nicely formatted):\n",
    "    printf(\"%s %s %s %s %s %s %s %s %s \\n\", bhead{1:9});\n",
    "    printf(\"%s %s %s %s %s %s %s %s %s \\n\", bunits{1:9});\n",
    "    printf(\"%f  %f   %f    %f    %f    %f   %f         %f       %f \\n\", b(1:9));\n"
   ]
  },
  {
   "cell_type": "markdown",
   "metadata": {},
   "source": [
    "#### Test to see if same results for OUT conditions when TEMPOUT = TEMPIN"
   ]
  },
  {
   "cell_type": "code",
   "execution_count": 11,
   "metadata": {
    "scrolled": true
   },
   "outputs": [
    {
     "data": {
      "text/plain": [
       "dHout/dT dpCO2out/dT dfCO2out/dT dHCO3out/dT dCO3out/dT dCO2out/dT dOmegaCAout/dT dOmegaARout/dT dxCO2out/dT"
      ]
     },
     "metadata": {},
     "output_type": "display_data"
    },
    {
     "data": {
      "text/plain": [
       "(nmol/kg/C) (uatm/C) (uatm/C) (umol/kg/C) (umol/kg/C) (umol/kg/C) ( /C) ( /C) (ppm/C)"
      ]
     },
     "metadata": {},
     "output_type": "display_data"
    },
    {
     "data": {
      "text/plain": [
       "0.254392  12.669989   12.639152    -0.559386    0.424031    0.135355   0.013803         0.016707       13.325496"
      ]
     },
     "metadata": {},
     "output_type": "display_data"
    }
   ],
   "source": [
    "%%octave\n",
    "    [b, bhead, bunits] = derivnum ('T', PAR1, PAR2, PAR1TYPE, PAR2TYPE, SAL, TEMPIN, TEMPIN, PRESIN, PRESOUT,... \n",
    "                                   SI, PO4,...\n",
    "                                   pHSCALEIN, K1K2CONSTANTS, KSO4CONSTANTS);\n",
    "# Print (nicely formatted):\n",
    "    printf(\"%s %s %s %s %s %s %s %s %s \\n\", bhead{10:18});\n",
    "    printf(\"%s %s %s %s %s %s %s %s %s \\n\", bunits{10:18});\n",
    "    printf(\"%f  %f   %f    %f    %f    %f   %f         %f       %f \\n\", b(10:18));\n"
   ]
  },
  {
   "cell_type": "markdown",
   "metadata": {},
   "source": [
    "### 2.4 Partial derivatives with respect to Salinity"
   ]
  },
  {
   "cell_type": "code",
   "execution_count": 12,
   "metadata": {
    "scrolled": true
   },
   "outputs": [
    {
     "data": {
      "text/plain": [
       "dHin/dS dpCO2in/dS dfCO2in/dS dHCO3in/dS dCO3in/dS dCO2in/dS dOmegaCAin/dS dOmegaARin/dS dxCO2in/dS"
      ]
     },
     "metadata": {},
     "output_type": "display_data"
    },
    {
     "data": {
      "text/plain": [
       "(nmol/kg/psu) (uatm/psu) (uatm/psu) (umol/kg/psu) (umol/kg/psu) (umol/kg/psu) ( /psu) ( /psu) (ppm/psu)"
      ]
     },
     "metadata": {},
     "output_type": "display_data"
    },
    {
     "data": {
      "text/plain": [
       "0.207253  8.173574   8.145153    0.918354    -1.140686    0.222332   -0.062840         -0.035681       8.336666"
      ]
     },
     "metadata": {},
     "output_type": "display_data"
    }
   ],
   "source": [
    "%%octave\n",
    "    [b, bhead, bunits] = derivnum ('S', PAR1, PAR2, PAR1TYPE, PAR2TYPE, SAL, TEMPIN, TEMPOUT, PRESIN, PRESOUT,... \n",
    "                                   SI, PO4,...\n",
    "                                   pHSCALEIN, K1K2CONSTANTS, KSO4CONSTANTS);\n",
    "# Print (nicely formatted):\n",
    "    printf(\"%s %s %s %s %s %s %s %s %s \\n\", bhead{1:9});\n",
    "    printf(\"%s %s %s %s %s %s %s %s %s \\n\", bunits{1:9});\n",
    "    printf(\"%f  %f   %f    %f    %f    %f   %f         %f       %f \\n\", b(1:9));\n"
   ]
  },
  {
   "cell_type": "markdown",
   "metadata": {},
   "source": [
    "#### Test to see if same results for OUT conditions when TEMPOUT = TEMPIN"
   ]
  },
  {
   "cell_type": "code",
   "execution_count": 13,
   "metadata": {
    "scrolled": true
   },
   "outputs": [
    {
     "data": {
      "text/plain": [
       "dHin/dS dpCO2in/dS dfCO2in/dS dHCO3in/dS dCO3in/dS dCO2in/dS dOmegaCAin/dS dOmegaARin/dS dxCO2in/dS"
      ]
     },
     "metadata": {},
     "output_type": "display_data"
    },
    {
     "data": {
      "text/plain": [
       "(nmol/kg/psu) (uatm/psu) (uatm/psu) (umol/kg/psu) (umol/kg/psu) (umol/kg/psu) ( /psu) ( /psu) (ppm/psu)"
      ]
     },
     "metadata": {},
     "output_type": "display_data"
    },
    {
     "data": {
      "text/plain": [
       "0.207253  8.173574   8.145153    0.918354    -1.140686    0.222332   -0.062840         -0.035681       8.336666"
      ]
     },
     "metadata": {},
     "output_type": "display_data"
    }
   ],
   "source": [
    "%%octave\n",
    "    [b, bhead, bunits] = derivnum ('S', PAR1, PAR2, PAR1TYPE, PAR2TYPE, SAL, TEMPIN, TEMPIN, PRESIN, PRESOUT,... \n",
    "                                   SI, PO4,...\n",
    "                                   pHSCALEIN, K1K2CONSTANTS, KSO4CONSTANTS);\n",
    "# Print (nicely formatted):\n",
    "    printf(\"%s %s %s %s %s %s %s %s %s \\n\", bhead{1:9});\n",
    "    printf(\"%s %s %s %s %s %s %s %s %s \\n\", bunits{1:9});\n",
    "     printf(\"%f  %f   %f    %f    %f    %f   %f         %f       %f \\n\", b(1:9));\n"
   ]
  },
  {
   "cell_type": "markdown",
   "metadata": {},
   "source": [
    "### 2.1 Partial derivatives with respect to $K_1$"
   ]
  },
  {
   "cell_type": "code",
   "execution_count": 14,
   "metadata": {},
   "outputs": [
    {
     "data": {
      "text/plain": [
       "dHin/dK1 dpCO2in/dK1 dfCO2in/dK1 dHCO3in/dK1 dCO3in/dK1 dCO2in/dK1 dOmegaCAin/dK1 dOmegaARin/dK1 dxCO2in/dK1"
      ]
     },
     "metadata": {},
     "output_type": "display_data"
    },
    {
     "data": {
      "text/plain": [
       "(nmol/kg/) (uatm/) (uatm/) (umol/kg/) (umol/kg/) (umol/kg/) ( /) ( /) (ppm/)"
      ]
     },
     "metadata": {},
     "output_type": "display_data"
    },
    {
     "data": {
      "text/plain": [
       "238839.155789  -234677724.151714   -233861708.528451    13377574.832229    -5359016.171885    -8018558.660305   -127952.958530         -82741.708516       -239459033.521664"
      ]
     },
     "metadata": {},
     "output_type": "display_data"
    }
   ],
   "source": [
    "%%octave\n",
    "    [b, bhead, bunits] = derivnum ('K1', PAR1, PAR2, PAR1TYPE, PAR2TYPE, SAL, TEMPIN, TEMPOUT, PRESIN, PRESOUT,... \n",
    "                                   SI, PO4,...\n",
    "                                   pHSCALEIN, K1K2CONSTANTS, KSO4CONSTANTS);\n",
    "# Print (nicely formatted):\n",
    "    printf(\"%s %s %s %s %s %s %s %s %s \\n\", bhead{1:9});\n",
    "    printf(\"%s %s %s %s %s %s %s %s %s \\n\", bunits{1:9});\n",
    "    printf(\"%f  %f   %f    %f    %f    %f   %f         %f       %f \\n\", b(1:9));\n"
   ]
  },
  {
   "cell_type": "markdown",
   "metadata": {},
   "source": [
    "#### Test to see if same results for OUT conditions when TEMPOUT = TEMPIN"
   ]
  },
  {
   "cell_type": "code",
   "execution_count": 15,
   "metadata": {},
   "outputs": [
    {
     "data": {
      "text/plain": [
       "dHout/dK1 dpCO2out/dK1 dfCO2out/dK1 dHCO3out/dK1 dCO3out/dK1 dCO2out/dK1 dOmegaCAout/dK1 dOmegaARout/dK1 dxCO2out/dK1"
      ]
     },
     "metadata": {},
     "output_type": "display_data"
    },
    {
     "data": {
      "text/plain": [
       "(nmol/kg/) (uatm/) (uatm/) (umol/kg/) (umol/kg/) (umol/kg/) ( /) ( /) (ppm/)"
      ]
     },
     "metadata": {},
     "output_type": "display_data"
    },
    {
     "data": {
      "text/plain": [
       "238839.155789  -234677724.151714   -233861708.528451    13377574.832229    -5359016.171885    -8018558.660305   -127952.958530         -82741.708516       -239459033.521664"
      ]
     },
     "metadata": {},
     "output_type": "display_data"
    }
   ],
   "source": [
    "%%octave\n",
    "    [b, bhead, bunits] = derivnum ('K1', PAR1, PAR2, PAR1TYPE, PAR2TYPE, SAL, TEMPIN, TEMPIN, PRESIN, PRESOUT,... \n",
    "                                   SI, PO4,...\n",
    "                                   pHSCALEIN, K1K2CONSTANTS, KSO4CONSTANTS);\n",
    "# Print (nicely formatted):\n",
    "    printf(\"%s %s %s %s %s %s %s %s %s \\n\", bhead{10:18});\n",
    "    printf(\"%s %s %s %s %s %s %s %s %s \\n\", bunits{10:18});\n",
    "    printf(\"%f  %f   %f    %f    %f    %f   %f         %f       %f \\n\", b(10:18));\n"
   ]
  },
  {
   "cell_type": "markdown",
   "metadata": {},
   "source": [
    "### 2.6 Partial derivatives with respect to $K_A$ (solubility product for aragonite)"
   ]
  },
  {
   "cell_type": "code",
   "execution_count": 16,
   "metadata": {},
   "outputs": [
    {
     "data": {
      "text/plain": [
       "dHin/dKSPA dpCO2in/dKSPA dfCO2in/dKSPA dHCO3in/dKSPA dCO3in/dKSPA dCO2in/dKSPA dOmegaCAin/dKSPA dOmegaARin/dKSPA dxCO2in/dKSPA"
      ]
     },
     "metadata": {},
     "output_type": "display_data"
    },
    {
     "data": {
      "text/plain": [
       "(nmol/kg/) (uatm/) (uatm/) (umol/kg/) (umol/kg/) (umol/kg/) ( /) ( /) (ppm/)"
      ]
     },
     "metadata": {},
     "output_type": "display_data"
    },
    {
     "data": {
      "text/plain": [
       "0.000000  0.000000   0.000000    0.000000    0.000000    0.000000   0.000000         -4805995.612422       0.000000"
      ]
     },
     "metadata": {},
     "output_type": "display_data"
    }
   ],
   "source": [
    "%%octave\n",
    "    [b, bhead, bunits] = derivnum ('Kspa', PAR1, PAR2, PAR1TYPE, PAR2TYPE, SAL, TEMPIN, TEMPOUT, PRESIN, PRESOUT,... \n",
    "                                   SI, PO4,...\n",
    "                                   pHSCALEIN, K1K2CONSTANTS, KSO4CONSTANTS);\n",
    "# Print (nicely formatted):\n",
    "    printf(\"%s %s %s %s %s %s %s %s %s \\n\", bhead{1:9});\n",
    "    printf(\"%s %s %s %s %s %s %s %s %s \\n\", bunits{1:9});\n",
    "    printf(\"%f  %f   %f    %f    %f    %f   %f         %f       %f \\n\", b(1:9));\n"
   ]
  },
  {
   "cell_type": "markdown",
   "metadata": {},
   "source": [
    "#### Test to see if same results for OUT conditions when TEMPOUT = TEMPIN"
   ]
  },
  {
   "cell_type": "code",
   "execution_count": 17,
   "metadata": {},
   "outputs": [
    {
     "data": {
      "text/plain": [
       "dHout/dKSPA dpCO2out/dKSPA dfCO2out/dKSPA dHCO3out/dKSPA dCO3out/dKSPA dCO2out/dKSPA dOmegaCAout/dKSPA dOmegaARout/dKSPA dxCO2out/dKSPA"
      ]
     },
     "metadata": {},
     "output_type": "display_data"
    },
    {
     "data": {
      "text/plain": [
       "(nmol/kg/) (uatm/) (uatm/) (umol/kg/) (umol/kg/) (umol/kg/) ( /) ( /) (ppm/)"
      ]
     },
     "metadata": {},
     "output_type": "display_data"
    },
    {
     "data": {
      "text/plain": [
       "0.000000  0.000000   0.000000    0.000000    0.000000    0.000000   0.000000         -4805995.612422       0.000000"
      ]
     },
     "metadata": {},
     "output_type": "display_data"
    }
   ],
   "source": [
    "%%octave\n",
    "    [b, bhead, bunits] = derivnum ('Kspa', PAR1, PAR2, PAR1TYPE, PAR2TYPE, SAL, TEMPIN, TEMPIN, PRESIN, PRESOUT,... \n",
    "                                   SI, PO4,...\n",
    "                                   pHSCALEIN, K1K2CONSTANTS, KSO4CONSTANTS);\n",
    "# Print (nicely formatted):\n",
    "    printf(\"%s %s %s %s %s %s %s %s %s \\n\", bhead{10:18});\n",
    "    printf(\"%s %s %s %s %s %s %s %s %s \\n\", bunits{10:18});\n",
    "    printf(\"%f  %f   %f    %f    %f    %f   %f         %f       %f \\n\", b(10:18));\n"
   ]
  },
  {
   "cell_type": "markdown",
   "metadata": {},
   "source": [
    "## 3. Compute sentitivities with `derivnum` for a 2nd input pair (pH-$A_\\text{T}$)"
   ]
  },
  {
   "cell_type": "markdown",
   "metadata": {},
   "source": [
    "### 3.1 Specify input variables and choices"
   ]
  },
  {
   "cell_type": "code",
   "execution_count": 18,
   "metadata": {},
   "outputs": [],
   "source": [
    "%%octave\n",
    "\n",
    "# Standard input for CO2SYS:\n",
    "# --------------------------\n",
    "    # Input Variables:\n",
    "    PAR1 = 8.1;         % pH\n",
    "    PAR2 = 2300;        % ALK\n",
    "    PAR1TYPE = 3;       % 1=ALK, 2=DIC, 3=pH, 4=pCO2, 5=fCO2\n",
    "    PAR2TYPE = 1;       % Same 5 choices as PAR1TYPE\n",
    "    SAL = 35;           % Salinity\n",
    "    TEMPIN = 18;        % Temperature (input)\n",
    "    TEMPOUT = 25;       % Temperature (output)\n",
    "    #TEMPOUT = TEMPIN;\n",
    "    PRESIN = 0;         % Pressure (input)\n",
    "    PRESOUT = PRESIN;   % Pressure (output)\n",
    "    SI = 60;            % Total dissolved inorganic silicon (Sit)\n",
    "    PO4 = 2;            % Total dissoloved inorganic Phosphorus (Pt)\n",
    "\n",
    "    # Input Parameters:\n",
    "    pHSCALEIN = 1;      % pH scale (1=total, 2=seawater, 3=NBS, 4=Free)\n",
    "    K1K2CONSTANTS = 15; % set for K1 & K2: 10=Lueker et al. (2000); 14=Millero (2010); 15=Waters et al. (2014)\n",
    "    KSO4CONSTANTS = 1;  % KSO4 of Dickson (1990a) & Total dissolved boron (Bt) from Uppstrom (1974)"
   ]
  },
  {
   "cell_type": "markdown",
   "metadata": {},
   "source": [
    "### 3.2 Partial derivatives with respect to H+ (since par1 is pH)"
   ]
  },
  {
   "cell_type": "code",
   "execution_count": 19,
   "metadata": {
    "scrolled": true
   },
   "outputs": [
    {
     "data": {
      "text/plain": [
       "dTCO2/dH dpCO2in/dH dfCO2in/dH dHCO3in/dH dCO3in/dH dCO2in/dH dOmegaCAin/dH dOmegaARin/dH dxCO2in/dH"
      ]
     },
     "metadata": {},
     "output_type": "display_data"
    },
    {
     "data": {
      "text/plain": [
       "(umol/nmol) (uatm kg/nmol) (uatm kg/nmol) (umol/nmol) (umol/nmol) (umol/nmol) (kg/nmol) (kg/nmol) (ppm kg/nmol)"
      ]
     },
     "metadata": {},
     "output_type": "display_data"
    },
    {
     "data": {
      "text/plain": [
       "30.127283  53.010721   52.826393    47.198812    -18.882819    1.811291   -0.450850         -0.291545       54.090758"
      ]
     },
     "metadata": {},
     "output_type": "display_data"
    }
   ],
   "source": [
    "%%octave\n",
    "    [b, bhead, bunits] = derivnum ('par1', PAR1, PAR2, PAR1TYPE, PAR2TYPE, SAL, TEMPIN, TEMPOUT, PRESIN, PRESOUT,... \n",
    "                                   SI, PO4,...\n",
    "                                   pHSCALEIN, K1K2CONSTANTS, KSO4CONSTANTS);\n",
    "# Print (nicely formatted):\n",
    "    printf(\"%s %s %s %s %s %s %s %s %s \\n\", bhead{1:9});\n",
    "    printf(\"%s %s %s %s %s %s %s %s %s \\n\", bunits{1:9});\n",
    "    printf(\"%f  %f   %f    %f    %f    %f   %f         %f       %f \\n\", b(1:9));\n"
   ]
  },
  {
   "cell_type": "markdown",
   "metadata": {},
   "source": [
    "#### Test to see if same results for OUT conditions when TEMPOUT = TEMPIN"
   ]
  },
  {
   "cell_type": "code",
   "execution_count": 20,
   "metadata": {},
   "outputs": [
    {
     "data": {
      "text/plain": [
       "dHout/dH dpCO2out/dH dfCO2out/dH dHCO3out/dH dCO3out/dH dCO2out/dH dOmegaCAout/dH dOmegaARout/dH dxCO2out/dH"
      ]
     },
     "metadata": {},
     "output_type": "display_data"
    },
    {
     "data": {
      "text/plain": [
       "(nmol/nmol) (uatm kg/nmol) (uatm kg/nmol) (umol/nmol) (umol/nmol) (umol/nmol) (kg/nmol) (kg/nmol) (ppm kg/nmol)"
      ]
     },
     "metadata": {},
     "output_type": "display_data"
    },
    {
     "data": {
      "text/plain": [
       "0.999993  53.010384   52.826058    47.198689    -18.882685    1.811279   -0.450847         -0.291543       54.090415"
      ]
     },
     "metadata": {},
     "output_type": "display_data"
    }
   ],
   "source": [
    "%%octave\n",
    "    [b, bhead, bunits] = derivnum ('par1', PAR1, PAR2, PAR1TYPE, PAR2TYPE, SAL, TEMPIN, TEMPIN, PRESIN, PRESOUT,... \n",
    "                                   SI, PO4,...\n",
    "                                   pHSCALEIN, K1K2CONSTANTS, KSO4CONSTANTS);\n",
    "# Print (nicely formatted):\n",
    "    printf(\"%s %s %s %s %s %s %s %s %s \\n\", bhead{10:18});\n",
    "    printf(\"%s %s %s %s %s %s %s %s %s \\n\", bunits{10:18});\n",
    "    printf(\"%f  %f   %f    %f    %f    %f   %f         %f       %f \\n\", b(10:18));\n"
   ]
  },
  {
   "cell_type": "markdown",
   "metadata": {},
   "source": [
    "### 3.3 Partial derivatives with respect to par2 (specified above as ALK)"
   ]
  },
  {
   "cell_type": "code",
   "execution_count": 21,
   "metadata": {
    "scrolled": true
   },
   "outputs": [
    {
     "data": {
      "text/plain": [
       "dTCO2/dALK dpCO2in/dALK dfCO2in/dALK dHCO3in/dALK dCO3in/dALK dCO2in/dALK dOmegaCAin/dALK dOmegaARin/dALK dxCO2in/dALK"
      ]
     },
     "metadata": {},
     "output_type": "display_data"
    },
    {
     "data": {
      "text/plain": [
       "(umol/umol) (uatm kg/umol) (uatm kg/umol) (umol/umol) (umol/umol) (umol/umol) (kg/umol) (kg/umol) (ppm kg/umol)"
      ]
     },
     "metadata": {},
     "output_type": "display_data"
    },
    {
     "data": {
      "text/plain": [
       "0.919834  0.158460   0.157909    0.828840    0.085580    0.005414   0.002043         0.001321       0.161689"
      ]
     },
     "metadata": {},
     "output_type": "display_data"
    }
   ],
   "source": [
    "%%octave\n",
    "    [b, bhead, bunits] = derivnum ('par2', PAR1, PAR2, PAR1TYPE, PAR2TYPE, SAL, TEMPIN, TEMPOUT, PRESIN, PRESOUT,... \n",
    "                                   SI, PO4,...\n",
    "                                   pHSCALEIN, K1K2CONSTANTS, KSO4CONSTANTS);\n",
    "# Print (nicely formatted):\n",
    "    printf(\"%s %s %s %s %s %s %s %s %s \\n\", bhead{1:9});\n",
    "    printf(\"%s %s %s %s %s %s %s %s %s \\n\", bunits{1:9});\n",
    "    printf(\"%f  %f   %f    %f    %f    %f   %f         %f       %f \\n\", b(1:9));\n"
   ]
  },
  {
   "cell_type": "markdown",
   "metadata": {},
   "source": [
    "#### Test to see if same results for OUT conditions when TEMPOUT = TEMPIN"
   ]
  },
  {
   "cell_type": "code",
   "execution_count": 22,
   "metadata": {
    "scrolled": true
   },
   "outputs": [
    {
     "data": {
      "text/plain": [
       "dHout/dALK dpCO2out/dALK dfCO2out/dALK dHCO3out/dALK dCO3out/dALK dCO2out/dALK dOmegaCAout/dALK dOmegaARout/dALK dxCO2out/dALK"
      ]
     },
     "metadata": {},
     "output_type": "display_data"
    },
    {
     "data": {
      "text/plain": [
       "(nmol/umol) (uatm kg/umol) (uatm kg/umol) (umol/umol) (umol/umol) (umol/umol) (kg/umol) (kg/umol) (ppm kg/umol)"
      ]
     },
     "metadata": {},
     "output_type": "display_data"
    },
    {
     "data": {
      "text/plain": [
       "0.000000  0.158461   0.157910    0.828840    0.085580    0.005414   0.002043         0.001321       0.161689"
      ]
     },
     "metadata": {},
     "output_type": "display_data"
    }
   ],
   "source": [
    "%%octave\n",
    "    [b, bhead, bunits] = derivnum ('par2', PAR1, PAR2, PAR1TYPE, PAR2TYPE, SAL, TEMPIN, TEMPIN, PRESIN, PRESOUT,... \n",
    "                                   SI, PO4,...\n",
    "                                   pHSCALEIN, K1K2CONSTANTS, KSO4CONSTANTS);\n",
    "# Print (nicely formatted):\n",
    "    printf(\"%s %s %s %s %s %s %s %s %s \\n\", bhead{10:18});\n",
    "    printf(\"%s %s %s %s %s %s %s %s %s \\n\", bunits{10:18});\n",
    "    printf(\"%f  %f   %f    %f    %f    %f   %f         %f       %f \\n\", b(10:18));\n"
   ]
  },
  {
   "cell_type": "markdown",
   "metadata": {},
   "source": [
    "### 3.4 Partial derivatives with respect to `T` "
   ]
  },
  {
   "cell_type": "code",
   "execution_count": 23,
   "metadata": {
    "scrolled": false
   },
   "outputs": [
    {
     "data": {
      "text/plain": [
       "dTCO2/dT dpCO2in/dT dfCO2in/dT dHCO3in/dT dCO3in/dT dCO2in/dT dOmegaCAin/dT dOmegaARin/dT dxCO2in/dT"
      ]
     },
     "metadata": {},
     "output_type": "display_data"
    },
    {
     "data": {
      "text/plain": [
       "(umol/kg/C) (uatm/C) (uatm/C) (umol/kg/C) (umol/kg/C) (umol/kg/C) ( /C) ( /C) (ppm/C)"
      ]
     },
     "metadata": {},
     "output_type": "display_data"
    },
    {
     "data": {
      "text/plain": [
       "-8.261671  -0.441671   -0.424933    -13.430229    5.525867    -0.357308   0.135285         0.094565       0.006339"
      ]
     },
     "metadata": {},
     "output_type": "display_data"
    }
   ],
   "source": [
    "%%octave\n",
    "    [b, bhead, bunits] = derivnum ('T', PAR1, PAR2, PAR1TYPE, PAR2TYPE, SAL, TEMPIN, TEMPOUT,... \n",
    "                                   PRESIN, PRESOUT, SI, PO4,...\n",
    "                                   pHSCALEIN, K1K2CONSTANTS, KSO4CONSTANTS);\n",
    "# Print (nicely formatted):\n",
    "    printf(\"%s %s %s %s %s %s %s %s %s \\n\", bhead{1:9});\n",
    "    printf(\"%s %s %s %s %s %s %s %s %s \\n\", bunits{1:9});\n",
    "    printf(\"%f  %f   %f    %f    %f    %f   %f         %f       %f \\n\", b(1:9));\n"
   ]
  },
  {
   "cell_type": "markdown",
   "metadata": {},
   "source": [
    "#### Test to see if same results for OUT conditions when TEMPOUT = TEMPIN"
   ]
  },
  {
   "cell_type": "code",
   "execution_count": 24,
   "metadata": {},
   "outputs": [
    {
     "data": {
      "text/plain": [
       "dHout/dT dpCO2out/dT dfCO2out/dT dHCO3out/dT dCO3out/dT dCO2out/dT dOmegaCAout/dT dOmegaARout/dT dxCO2out/dT"
      ]
     },
     "metadata": {},
     "output_type": "display_data"
    },
    {
     "data": {
      "text/plain": [
       "(nmol/kg/C) (uatm/C) (uatm/C) (umol/kg/C) (umol/kg/C) (umol/kg/C) ( /C) ( /C) (ppm/C)"
      ]
     },
     "metadata": {},
     "output_type": "display_data"
    },
    {
     "data": {
      "text/plain": [
       "NaN  -0.441687   -0.424948    -13.430237    5.525875    -0.357309   0.135285         0.094565       0.006323"
      ]
     },
     "metadata": {},
     "output_type": "display_data"
    }
   ],
   "source": [
    "%%octave\n",
    "    [b, bhead, bunits] = derivnum ('T', PAR1, PAR2, PAR1TYPE, PAR2TYPE, SAL, TEMPIN, TEMPIN,... \n",
    "                                   PRESIN, PRESOUT, SI, PO4,...\n",
    "                                   pHSCALEIN, K1K2CONSTANTS, KSO4CONSTANTS);\n",
    "# Print (nicely formatted):\n",
    "    printf(\"%s %s %s %s %s %s %s %s %s \\n\", bhead{10:18});\n",
    "    printf(\"%s %s %s %s %s %s %s %s %s \\n\", bunits{10:18});\n",
    "    printf(\"%f  %f   %f    %f    %f    %f   %f         %f       %f \\n\", b(10:18));\n"
   ]
  },
  {
   "cell_type": "markdown",
   "metadata": {},
   "source": [
    "## 4. Compute sentitivities with `derivnum` for a 3rd input pair (pCO2-$C_\\text{T}$)"
   ]
  },
  {
   "cell_type": "markdown",
   "metadata": {},
   "source": [
    "### 4.1 Specify input variables and choices"
   ]
  },
  {
   "cell_type": "code",
   "execution_count": 25,
   "metadata": {},
   "outputs": [],
   "source": [
    "%%octave\n",
    "\n",
    "# Standard input for CO2SYS:\n",
    "# --------------------------\n",
    "    # Input Variables:\n",
    "    PAR1 = 400;         % pCO2\n",
    "    PAR2 = 2300;        % DIC\n",
    "    PAR1TYPE = 4;       % 1=ALK, 2=DIC, 3=pH, 4=pCO2, 5=fCO2\n",
    "    PAR2TYPE = 2;       % Same 5 choices as PAR1TYPE\n",
    "    SAL = 35;           % Salinity\n",
    "    TEMPIN = 18;        % Temperature (input)\n",
    "    TEMPOUT = 25;       % Temperature (output)\n",
    "    PRESIN = 0;         % Pressure (input)\n",
    "    PRESOUT = PRESIN;   % Pressure (output)\n",
    "    SI = 60;            % Total dissolved inorganic silicon (Sit)\n",
    "    PO4 = 2;            % Total dissoloved inorganic Phosphorus (Pt)\n",
    "\n",
    "    # Input Parameters:\n",
    "    pHSCALEIN = 1;      % pH scale (1=total, 2=seawater, 3=NBS, 4=Free)\n",
    "    K1K2CONSTANTS = 15; % set for K1 & K2: 10=Lueker et al. (2000); 14=Millero (2010); 15=Waters et al. (2014)\n",
    "    KSO4CONSTANTS = 1;  % KSO4 of Dickson (1990a) & Total dissolved boron (Bt) from Uppstrom (1974)"
   ]
  },
  {
   "cell_type": "markdown",
   "metadata": {},
   "source": [
    "### 4.2 Partial derivatives with respect to par1 (specified as pCO2 above)"
   ]
  },
  {
   "cell_type": "code",
   "execution_count": 26,
   "metadata": {},
   "outputs": [
    {
     "data": {
      "text/plain": [
       "dTAlk/dpCO2 dHin/dpCO2 dfCO2in/dpCO2 dHCO3in/dpCO2 dCO3in/dpCO2 dCO2in/dpCO2 dOmegaCAin/dpCO2 dOmegaARin/dpCO2 dxCO2in/dpCO2"
      ]
     },
     "metadata": {},
     "output_type": "display_data"
    },
    {
     "data": {
      "text/plain": [
       "(umol/kg/uatm) (nmol/kg/uatm) (uatm/uatm) (umol/kg/uatm) (umol/kg/uatm) (umol/kg/uatm) ( /uatm) ( /uatm) (ppm/uatm)"
      ]
     },
     "metadata": {},
     "output_type": "display_data"
    },
    {
     "data": {
      "text/plain": [
       "-0.652024  0.018440   0.996523    0.412178    -0.446346    0.034168   -0.010657         -0.006891       1.020374"
      ]
     },
     "metadata": {},
     "output_type": "display_data"
    }
   ],
   "source": [
    "%%octave\n",
    "    [b, bhead, bunits] = derivnum ('par1', PAR1, PAR2, PAR1TYPE, PAR2TYPE, SAL, TEMPIN, TEMPOUT, ...\n",
    "                                   PRESIN, PRESOUT, SI, PO4,...\n",
    "                                   pHSCALEIN, K1K2CONSTANTS, KSO4CONSTANTS);\n",
    "# Print (nicely formatted):\n",
    "  printf(\"%s %s %s %s %s %s %s %s %s \\n\", bhead{1:9});\n",
    "  printf(\"%s %s %s %s %s %s %s %s %s \\n\", bunits{1:9});\n",
    "  printf(\"%f  %f   %f    %f    %f    %f   %f         %f       %f \\n\", b(1:9));\n"
   ]
  },
  {
   "cell_type": "markdown",
   "metadata": {},
   "source": [
    "#### Test to see if same results for OUT conditions when TEMPOUT = TEMPIN"
   ]
  },
  {
   "cell_type": "code",
   "execution_count": 27,
   "metadata": {},
   "outputs": [
    {
     "data": {
      "text/plain": [
       "dHout/dpCO2 dpCO2out/dpCO2 dfCO2out/dpCO2 dHCO3out/dpCO2 dCO3out/dpCO2 dCO2out/dpCO2 dOmegaCAout/dpCO2 dOmegaARout/dpCO2 dxCO2out/dpCO2"
      ]
     },
     "metadata": {},
     "output_type": "display_data"
    },
    {
     "data": {
      "text/plain": [
       "(nmol/kg/uatm) (uatm/uatm) (uatm/uatm) (umol/kg/uatm) (umol/kg/uatm) (umol/kg/uatm) ( /uatm) ( /uatm) (ppm/uatm)"
      ]
     },
     "metadata": {},
     "output_type": "display_data"
    },
    {
     "data": {
      "text/plain": [
       "0.018440  0.999994   0.996517    0.412176    -0.446344    0.034168   -0.010657         -0.006891       1.020368"
      ]
     },
     "metadata": {},
     "output_type": "display_data"
    }
   ],
   "source": [
    "%%octave\n",
    "    [b, bhead, bunits] = derivnum ('par1', PAR1, PAR2, PAR1TYPE, PAR2TYPE, SAL, TEMPIN, TEMPIN, ...\n",
    "                                   PRESIN, PRESOUT, SI, PO4,...\n",
    "                                   pHSCALEIN, K1K2CONSTANTS, KSO4CONSTANTS);\n",
    "# Print (nicely formatted):\n",
    "    printf(\"%s %s %s %s %s %s %s %s %s \\n\", bhead{10:18});\n",
    "    printf(\"%s %s %s %s %s %s %s %s %s \\n\", bunits{10:18});\n",
    "    printf(\"%f  %f   %f    %f    %f    %f   %f         %f       %f \\n\", b(10:18));\n"
   ]
  },
  {
   "cell_type": "markdown",
   "metadata": {},
   "source": [
    "### 4.3 Partial derivatives with respect to par2 (specified above as DIC)"
   ]
  },
  {
   "cell_type": "code",
   "execution_count": 28,
   "metadata": {
    "scrolled": false
   },
   "outputs": [
    {
     "data": {
      "text/plain": [
       "dTAlk/dDIC dHin/dDIC dfCO2in/dDIC dHCO3in/dDIC dCO3in/dDIC dCO2in/dDIC dOmegaCAin/dDIC dOmegaARin/dDIC dxCO2in/dDIC"
      ]
     },
     "metadata": {},
     "output_type": "display_data"
    },
    {
     "data": {
      "text/plain": [
       "(umol/umol) (nmol/umol) (uatm kg/umol) (umol/umol) (umol/umol) (umol/umol) (kg/umol) (kg/umol) (ppm kg/umol)"
      ]
     },
     "metadata": {},
     "output_type": "display_data"
    },
    {
     "data": {
      "text/plain": [
       "1.199753  -0.003207   0.000000    0.830075    0.169925    -0.000000   0.004057         0.002624       0.000000"
      ]
     },
     "metadata": {},
     "output_type": "display_data"
    }
   ],
   "source": [
    "%%octave\n",
    "    [b, bhead, bunits] = derivnum ('par2', PAR1, PAR2, PAR1TYPE, PAR2TYPE, SAL, TEMPIN, TEMPOUT,... \n",
    "                                   PRESIN, PRESOUT, SI, PO4,...\n",
    "                                   pHSCALEIN, K1K2CONSTANTS, KSO4CONSTANTS);\n",
    "# Print (nicely formatted):\n",
    "    printf(\"%s %s %s %s %s %s %s %s %s \\n\", bhead{1:9});\n",
    "    printf(\"%s %s %s %s %s %s %s %s %s \\n\", bunits{1:9});\n",
    "    printf(\"%f  %f   %f    %f    %f    %f   %f         %f       %f \\n\", b(1:9));\n"
   ]
  },
  {
   "cell_type": "markdown",
   "metadata": {},
   "source": [
    "#### Test to see if same results for OUT conditions when TEMPOUT = TEMPIN"
   ]
  },
  {
   "cell_type": "code",
   "execution_count": 29,
   "metadata": {
    "scrolled": false
   },
   "outputs": [
    {
     "data": {
      "text/plain": [
       "dHout/dDIC dpCO2out/dDIC dfCO2out/dDIC dHCO3out/dDIC dCO3out/dDIC dCO2out/dDIC dOmegaCAout/dDIC dOmegaARout/dDIC dxCO2out/dDIC"
      ]
     },
     "metadata": {},
     "output_type": "display_data"
    },
    {
     "data": {
      "text/plain": [
       "(nmol/umol) (uatm kg/umol) (uatm kg/umol) (umol/umol) (umol/umol) (umol/umol) (kg/umol) (kg/umol) (ppm kg/umol)"
      ]
     },
     "metadata": {},
     "output_type": "display_data"
    },
    {
     "data": {
      "text/plain": [
       "-0.003207  0.000001   0.000001    0.830075    0.169925    0.000000   0.004057         0.002624       0.000001"
      ]
     },
     "metadata": {},
     "output_type": "display_data"
    }
   ],
   "source": [
    "%%octave\n",
    "    [b, bhead, bunits] = derivnum ('par2', PAR1, PAR2, PAR1TYPE, PAR2TYPE, SAL, TEMPIN, TEMPIN,... \n",
    "                                   PRESIN, PRESOUT, SI, PO4,...\n",
    "                                   pHSCALEIN, K1K2CONSTANTS, KSO4CONSTANTS);\n",
    "# Print (nicely formatted):\n",
    "    printf(\"%s %s %s %s %s %s %s %s %s \\n\", bhead{10:18});\n",
    "    printf(\"%s %s %s %s %s %s %s %s %s \\n\", bunits{10:18});\n",
    "    printf(\"%f  %f   %f    %f    %f    %f   %f         %f       %f \\n\", b(10:18));\n"
   ]
  },
  {
   "cell_type": "markdown",
   "metadata": {},
   "source": [
    "### 4.4 Partial derivatives with respect to `T` "
   ]
  },
  {
   "cell_type": "code",
   "execution_count": 30,
   "metadata": {
    "scrolled": true
   },
   "outputs": [
    {
     "data": {
      "text/plain": [
       "dTAlk/dT dHin/dT dfCO2in/dT dHCO3in/dT dCO3in/dT dCO2in/dT dOmegaCAin/dT dOmegaARin/dT dxCO2in/dT"
      ]
     },
     "metadata": {},
     "output_type": "display_data"
    },
    {
     "data": {
      "text/plain": [
       "(umol/kg/C) (nmol/kg/C) (uatm/C) (umol/kg/C) (umol/kg/C) (umol/kg/C) ( /C) ( /C) (ppm/C)"
      ]
     },
     "metadata": {},
     "output_type": "display_data"
    },
    {
     "data": {
      "text/plain": [
       "10.545137  -0.020930   0.017404    -7.202176    7.593951    -0.391775   0.185081         0.127651       0.523190"
      ]
     },
     "metadata": {},
     "output_type": "display_data"
    }
   ],
   "source": [
    "%%octave\n",
    "    [b, bhead, bunits] = derivnum ('T', PAR1, PAR2, PAR1TYPE, PAR2TYPE, SAL, TEMPIN, TEMPOUT,... \n",
    "                                   PRESIN, PRESOUT, SI, PO4,...\n",
    "                                   pHSCALEIN, K1K2CONSTANTS, KSO4CONSTANTS);\n",
    "# Print (nicely formatted):\n",
    "    printf(\"%s %s %s %s %s %s %s %s %s \\n\", bhead{1:9});\n",
    "    printf(\"%s %s %s %s %s %s %s %s %s \\n\", bunits{1:9});\n",
    "    printf(\"%f  %f   %f    %f    %f    %f   %f         %f       %f \\n\", b(1:9));\n"
   ]
  },
  {
   "cell_type": "markdown",
   "metadata": {},
   "source": [
    "#### Test to see if same results for OUT conditions when TEMPOUT = TEMPIN"
   ]
  },
  {
   "cell_type": "code",
   "execution_count": 31,
   "metadata": {},
   "outputs": [
    {
     "data": {
      "text/plain": [
       "dHout/dT dpCO2out/dT dfCO2out/dT dHCO3out/dT dCO3out/dT dCO2out/dT dOmegaCAout/dT dOmegaARout/dT dxCO2out/dT"
      ]
     },
     "metadata": {},
     "output_type": "display_data"
    },
    {
     "data": {
      "text/plain": [
       "(nmol/kg/C) (uatm/C) (uatm/C) (umol/kg/C) (umol/kg/C) (umol/kg/C) ( /C) ( /C) (ppm/C)"
      ]
     },
     "metadata": {},
     "output_type": "display_data"
    },
    {
     "data": {
      "text/plain": [
       "-0.020930  NaN   0.017400    -7.202180    7.593955    -0.391775   0.185081         0.127651       0.523185"
      ]
     },
     "metadata": {},
     "output_type": "display_data"
    }
   ],
   "source": [
    "%%octave\n",
    "    [b, bhead, bunits] = derivnum ('T', PAR1, PAR2, PAR1TYPE, PAR2TYPE, SAL, TEMPIN, TEMPIN,... \n",
    "                                   PRESIN, PRESOUT, SI, PO4,...\n",
    "                                   pHSCALEIN, K1K2CONSTANTS, KSO4CONSTANTS);\n",
    "# Print (nicely formatted):\n",
    "    printf(\"%s %s %s %s %s %s %s %s %s \\n\", bhead{10:18});\n",
    "    printf(\"%s %s %s %s %s %s %s %s %s \\n\", bunits{10:18});\n",
    "    printf(\"%f  %f   %f    %f    %f    %f   %f         %f       %f \\n\", b(10:18));\n"
   ]
  },
  {
   "cell_type": "markdown",
   "metadata": {},
   "source": [
    "### 4.5 Partial derivatives with respect to `S` "
   ]
  },
  {
   "cell_type": "code",
   "execution_count": 32,
   "metadata": {
    "scrolled": true
   },
   "outputs": [
    {
     "data": {
      "text/plain": [
       "dTAlk/dS dHin/dS dfCO2in/dS dHCO3in/dS dCO3in/dS dCO2in/dS dOmegaCAin/dS dOmegaARin/dS dxCO2in/dS"
      ]
     },
     "metadata": {},
     "output_type": "display_data"
    },
    {
     "data": {
      "text/plain": [
       "(umol/kg/psu) (nmol/kg/psu) (uatm/psu) (umol/kg/psu) (umol/kg/psu) (umol/kg/psu) ( /psu) ( /psu) (ppm/psu)"
      ]
     },
     "metadata": {},
     "output_type": "display_data"
    },
    {
     "data": {
      "text/plain": [
       "6.787527  0.037041   0.000000    -3.601755    3.676731    -0.074977   0.051332         0.038267       -0.004524"
      ]
     },
     "metadata": {},
     "output_type": "display_data"
    }
   ],
   "source": [
    "%%octave\n",
    "    [b, bhead, bunits] = derivnum ('S', PAR1, PAR2, PAR1TYPE, PAR2TYPE, SAL, TEMPIN, TEMPOUT,... \n",
    "                                   PRESIN, PRESOUT, SI, PO4,...\n",
    "                                   pHSCALEIN, K1K2CONSTANTS, KSO4CONSTANTS);\n",
    "# Print (nicely formatted):\n",
    "    printf(\"%s %s %s %s %s %s %s %s %s \\n\", bhead{1:9});\n",
    "    printf(\"%s %s %s %s %s %s %s %s %s \\n\", bunits{1:9});\n",
    "    printf(\"%f  %f   %f    %f    %f    %f   %f         %f       %f \\n\", b(1:9));\n"
   ]
  },
  {
   "cell_type": "markdown",
   "metadata": {},
   "source": [
    "#### Test to see if same results for OUT conditions when TEMPOUT = TEMPIN"
   ]
  },
  {
   "cell_type": "code",
   "execution_count": 33,
   "metadata": {},
   "outputs": [
    {
     "data": {
      "text/plain": [
       "dHout/dS dpCO2out/dS dfCO2out/dS dHCO3out/dS dCO3out/dS dCO2out/dS dOmegaCAout/dS dOmegaARout/dS dxCO2out/dS"
      ]
     },
     "metadata": {},
     "output_type": "display_data"
    },
    {
     "data": {
      "text/plain": [
       "(nmol/kg/psu) (uatm/psu) (uatm/psu) (umol/kg/psu) (umol/kg/psu) (umol/kg/psu) ( /psu) ( /psu) (ppm/psu)"
      ]
     },
     "metadata": {},
     "output_type": "display_data"
    },
    {
     "data": {
      "text/plain": [
       "0.037041  0.000001   0.000001    -3.601755    3.676732    -0.074977   0.051332         0.038267       -0.004523"
      ]
     },
     "metadata": {},
     "output_type": "display_data"
    }
   ],
   "source": [
    "%%octave\n",
    "    [b, bhead, bunits] = derivnum ('S', PAR1, PAR2, PAR1TYPE, PAR2TYPE, SAL, TEMPIN, TEMPIN,... \n",
    "                                   PRESIN, PRESOUT, SI, PO4,...\n",
    "                                   pHSCALEIN, K1K2CONSTANTS, KSO4CONSTANTS);\n",
    "# Print (nicely formatted):\n",
    "    printf(\"%s %s %s %s %s %s %s %s %s \\n\", bhead{10:18});\n",
    "    printf(\"%s %s %s %s %s %s %s %s %s \\n\", bunits{10:18});\n",
    "    printf(\"%f  %f   %f    %f    %f    %f   %f         %f       %f \\n\", b(10:18));\n"
   ]
  },
  {
   "cell_type": "markdown",
   "metadata": {},
   "source": [
    "## 5. Compute sentitivities with `derivnum` for a 4th input pair (pCO2-$A_\\text{T}$)"
   ]
  },
  {
   "cell_type": "markdown",
   "metadata": {},
   "source": [
    "### 5.1 Specify input variables and choices"
   ]
  },
  {
   "cell_type": "code",
   "execution_count": 34,
   "metadata": {},
   "outputs": [],
   "source": [
    "%%octave\n",
    "\n",
    "# Standard input for CO2SYS:\n",
    "# --------------------------\n",
    "    # Input Variables:\n",
    "    PAR1 = 400;         % pCO2\n",
    "    PAR2 = 2300;        % ALK\n",
    "    PAR1TYPE = 4;       % 1=ALK, 2=DIC, 3=pH, 4=pCO2, 5=fCO2\n",
    "    PAR2TYPE = 1;       % Same 5 choices as PAR1TYPE\n",
    "    SAL = 35;           % Salinity\n",
    "    TEMPIN = 18;        % Temperature (input)\n",
    "    TEMPOUT = 25;       % Temperature (output)\n",
    "    PRESIN = 0;         % Pressure (input)\n",
    "    PRESOUT = PRESIN;   % Pressure (output)\n",
    "    SI = 60;            % Total dissolved inorganic silicon (Sit)\n",
    "    PO4 = 2;            % Total dissoloved inorganic Phosphorus (Pt)\n",
    "\n",
    "    # Input Parameters:\n",
    "    pHSCALEIN = 1;      % pH scale (1=total, 2=seawater, 3=NBS, 4=Free)\n",
    "    K1K2CONSTANTS = 10; % set for K1 & K2: 10=Lueker et al. (2000); 14=Millero (2010); 15=Waters et al. (2014)\n",
    "    KSO4CONSTANTS = 1;  % KSO4 of Dickson (1990a) & Total dissolved boron (Bt) from Uppstrom (1974)"
   ]
  },
  {
   "cell_type": "markdown",
   "metadata": {},
   "source": [
    "### 5.2 Partial derivatives with respect to par1 (specified as pCO2 above)"
   ]
  },
  {
   "cell_type": "code",
   "execution_count": 35,
   "metadata": {},
   "outputs": [
    {
     "data": {
      "text/plain": [
       "dTCO2/dpCO2 dHin/dpCO2 dfCO2in/dpCO2 dHCO3in/dpCO2 dCO3in/dpCO2 dCO2in/dpCO2 dOmegaCAin/dpCO2 dOmegaARin/dpCO2 dxCO2in/dpCO2"
      ]
     },
     "metadata": {},
     "output_type": "display_data"
    },
    {
     "data": {
      "text/plain": [
       "(umol/kg/uatm) (nmol/kg/uatm) (uatm/uatm) (umol/kg/uatm) (umol/kg/uatm) (umol/kg/uatm) ( /uatm) ( /uatm) (ppm/uatm)"
      ]
     },
     "metadata": {},
     "output_type": "display_data"
    },
    {
     "data": {
      "text/plain": [
       "0.475823  0.018938   0.996523    0.737525    -0.295870    0.034168   -0.007064         -0.004568       1.020374"
      ]
     },
     "metadata": {},
     "output_type": "display_data"
    }
   ],
   "source": [
    "%%octave\n",
    "    [b, bhead, bunits] = derivnum ('par1', PAR1, PAR2, PAR1TYPE, PAR2TYPE, SAL, TEMPIN, TEMPOUT, ...\n",
    "                                   PRESIN, PRESOUT, SI, PO4,...\n",
    "                                   pHSCALEIN, K1K2CONSTANTS, KSO4CONSTANTS);\n",
    "# Print (nicely formatted):\n",
    "    printf(\"%s %s %s %s %s %s %s %s %s \\n\", bhead{1:9});\n",
    "    printf(\"%s %s %s %s %s %s %s %s %s \\n\", bunits{1:9});\n",
    "    printf(\"%f  %f   %f    %f    %f    %f   %f         %f       %f \\n\", b(1:9));\n"
   ]
  },
  {
   "cell_type": "markdown",
   "metadata": {},
   "source": [
    "#### Test to see if same results for OUT conditions when TEMPOUT = TEMPIN"
   ]
  },
  {
   "cell_type": "code",
   "execution_count": 36,
   "metadata": {},
   "outputs": [
    {
     "data": {
      "text/plain": [
       "dHout/dpCO2 dpCO2out/dpCO2 dfCO2out/dpCO2 dHCO3out/dpCO2 dCO3out/dpCO2 dCO2out/dpCO2 dOmegaCAout/dpCO2 dOmegaARout/dpCO2 dxCO2out/dpCO2"
      ]
     },
     "metadata": {},
     "output_type": "display_data"
    },
    {
     "data": {
      "text/plain": [
       "(nmol/kg/uatm) (uatm/uatm) (uatm/uatm) (umol/kg/uatm) (umol/kg/uatm) (umol/kg/uatm) ( /uatm) ( /uatm) (ppm/uatm)"
      ]
     },
     "metadata": {},
     "output_type": "display_data"
    },
    {
     "data": {
      "text/plain": [
       "0.018938  1.000003   0.996526    0.737526    -0.295871    0.034168   -0.007064         -0.004568       1.020377"
      ]
     },
     "metadata": {},
     "output_type": "display_data"
    }
   ],
   "source": [
    "%%octave\n",
    "    [b, bhead, bunits] = derivnum ('par1', PAR1, PAR2, PAR1TYPE, PAR2TYPE, SAL, TEMPIN, TEMPIN, ...\n",
    "                                   PRESIN, PRESOUT, SI, PO4,...\n",
    "                                   pHSCALEIN, K1K2CONSTANTS, KSO4CONSTANTS);\n",
    "# Print (nicely formatted):\n",
    "    printf(\"%s %s %s %s %s %s %s %s %s \\n\", bhead{10:18});\n",
    "    printf(\"%s %s %s %s %s %s %s %s %s \\n\", bunits{10:18});\n",
    "    printf(\"%f  %f   %f    %f    %f    %f   %f         %f       %f \\n\", b(10:18));\n"
   ]
  },
  {
   "cell_type": "markdown",
   "metadata": {},
   "source": [
    "### 5.3 Partial derivatives with respect to par2 (specified above as ALK)"
   ]
  },
  {
   "cell_type": "code",
   "execution_count": 37,
   "metadata": {
    "scrolled": true
   },
   "outputs": [
    {
     "data": {
      "text/plain": [
       "dTCO2/dALK dHin/dALK dfCO2in/dALK dHCO3in/dALK dCO3in/dALK dCO2in/dALK dOmegaCAin/dALK dOmegaARin/dALK dxCO2in/dALK"
      ]
     },
     "metadata": {},
     "output_type": "display_data"
    },
    {
     "data": {
      "text/plain": [
       "(umol/umol) (nmol/umol) (uatm kg/umol) (umol/umol) (umol/umol) (umol/umol) (kg/umol) (kg/umol) (ppm kg/umol)"
      ]
     },
     "metadata": {},
     "output_type": "display_data"
    },
    {
     "data": {
      "text/plain": [
       "0.842070  -0.003422   0.000000    0.710478    0.131591    0.000000   0.003142         0.002032       0.000000"
      ]
     },
     "metadata": {},
     "output_type": "display_data"
    }
   ],
   "source": [
    "%%octave\n",
    "    [b, bhead, bunits] = derivnum ('par2', PAR1, PAR2, PAR1TYPE, PAR2TYPE, SAL, TEMPIN, TEMPOUT,... \n",
    "                                   PRESIN, PRESOUT, SI, PO4,...\n",
    "                                   pHSCALEIN, K1K2CONSTANTS, KSO4CONSTANTS);\n",
    "# Print (nicely formatted):\n",
    "    printf(\"%s %s %s %s %s %s %s %s %s \\n\", bhead{1:9});\n",
    "    printf(\"%s %s %s %s %s %s %s %s %s \\n\", bunits{1:9});\n",
    "    printf(\"%f  %f   %f    %f    %f    %f   %f         %f       %f \\n\", b(1:9));\n"
   ]
  },
  {
   "cell_type": "markdown",
   "metadata": {},
   "source": [
    "#### Test to see if same results for OUT conditions when TEMPOUT = TEMPIN"
   ]
  },
  {
   "cell_type": "code",
   "execution_count": 38,
   "metadata": {},
   "outputs": [
    {
     "data": {
      "text/plain": [
       "dHout/dALK dpCO2out/dALK dfCO2out/dALK dHCO3out/dALK dCO3out/dALK dCO2out/dALK dOmegaCAout/dALK dOmegaARout/dALK dxCO2out/dALK"
      ]
     },
     "metadata": {},
     "output_type": "display_data"
    },
    {
     "data": {
      "text/plain": [
       "(nmol/umol) (uatm kg/umol) (uatm kg/umol) (umol/umol) (umol/umol) (umol/umol) (kg/umol) (kg/umol) (ppm kg/umol)"
      ]
     },
     "metadata": {},
     "output_type": "display_data"
    },
    {
     "data": {
      "text/plain": [
       "-0.003422  -0.000000   -0.000000    0.710478    0.131591    -0.000000   0.003142         0.002032       -0.000000"
      ]
     },
     "metadata": {},
     "output_type": "display_data"
    }
   ],
   "source": [
    "%%octave\n",
    "    [b, bhead, bunits] = derivnum ('par2', PAR1, PAR2, PAR1TYPE, PAR2TYPE, SAL, TEMPIN, TEMPIN, ...\n",
    "                                   PRESIN, PRESOUT, SI, PO4,...\n",
    "                                   pHSCALEIN, K1K2CONSTANTS, KSO4CONSTANTS);\n",
    "# Print (nicely formatted):\n",
    "    printf(\"%s %s %s %s %s %s %s %s %s \\n\", bhead{10:18});\n",
    "    printf(\"%s %s %s %s %s %s %s %s %s \\n\", bunits{10:18});\n",
    "    printf(\"%f  %f   %f    %f    %f    %f   %f         %f       %f \\n\", b(10:18));\n"
   ]
  },
  {
   "cell_type": "markdown",
   "metadata": {},
   "source": [
    "### 5.4 Partial derivatives with respect to `T` "
   ]
  },
  {
   "cell_type": "code",
   "execution_count": 39,
   "metadata": {
    "scrolled": false
   },
   "outputs": [
    {
     "data": {
      "text/plain": [
       "dTCO2/dT dHin/dT dfCO2in/dT dHCO3in/dT dCO3in/dT dCO2in/dT dOmegaCAin/dT dOmegaARin/dT dxCO2in/dT"
      ]
     },
     "metadata": {},
     "output_type": "display_data"
    },
    {
     "data": {
      "text/plain": [
       "(umol/kg/C) (nmol/kg/C) (uatm/C) (umol/kg/C) (umol/kg/C) (umol/kg/C) ( /C) ( /C) (ppm/C)"
      ]
     },
     "metadata": {},
     "output_type": "display_data"
    },
    {
     "data": {
      "text/plain": [
       "-7.863218  0.003128   0.017404    -12.780944    5.309501    -0.391775   0.129840         0.090454       0.523190"
      ]
     },
     "metadata": {},
     "output_type": "display_data"
    }
   ],
   "source": [
    "%%octave\n",
    "    [b, bhead, bunits] = derivnum ('T', PAR1, PAR2, PAR1TYPE, PAR2TYPE, SAL, TEMPIN, TEMPOUT,... \n",
    "                                   PRESIN, PRESOUT, SI, PO4,...\n",
    "                                   pHSCALEIN, K1K2CONSTANTS, KSO4CONSTANTS);\n",
    "# Print (nicely formatted):\n",
    "    printf(\"%s %s %s %s %s %s %s %s %s \\n\", bhead{1:9});\n",
    "    printf(\"%s %s %s %s %s %s %s %s %s \\n\", bunits{1:9});\n",
    "    printf(\"%f  %f   %f    %f    %f    %f   %f         %f       %f \\n\", b(1:9));\n"
   ]
  },
  {
   "cell_type": "markdown",
   "metadata": {},
   "source": [
    "#### Test to see if same results for OUT conditions when TEMPOUT = TEMPIN"
   ]
  },
  {
   "cell_type": "code",
   "execution_count": 40,
   "metadata": {},
   "outputs": [
    {
     "data": {
      "text/plain": [
       "dHout/dT dpCO2out/dT dfCO2out/dT dHCO3out/dT dCO3out/dT dCO2out/dT dOmegaCAout/dT dOmegaARout/dT dxCO2out/dT"
      ]
     },
     "metadata": {},
     "output_type": "display_data"
    },
    {
     "data": {
      "text/plain": [
       "(nmol/kg/C) (uatm/C) (uatm/C) (umol/kg/C) (umol/kg/C) (umol/kg/C) ( /C) ( /C) (ppm/C)"
      ]
     },
     "metadata": {},
     "output_type": "display_data"
    },
    {
     "data": {
      "text/plain": [
       "0.003128  NaN   0.017400    -12.780947    5.309504    -0.391775   0.129840         0.090454       0.523185"
      ]
     },
     "metadata": {},
     "output_type": "display_data"
    }
   ],
   "source": [
    "%%octave\n",
    "    [b, bhead, bunits] = derivnum ('T', PAR1, PAR2, PAR1TYPE, PAR2TYPE, SAL, TEMPIN, TEMPIN,... \n",
    "                                   PRESIN, PRESOUT, SI, PO4,...\n",
    "                                   pHSCALEIN, K1K2CONSTANTS, KSO4CONSTANTS);\n",
    "# Print (nicely formatted):\n",
    "    printf(\"%s %s %s %s %s %s %s %s %s \\n\", bhead{10:18});\n",
    "    printf(\"%s %s %s %s %s %s %s %s %s \\n\", bunits{10:18});\n",
    "    printf(\"%f  %f   %f    %f    %f    %f   %f         %f       %f \\n\", b(10:18));\n"
   ]
  },
  {
   "cell_type": "markdown",
   "metadata": {},
   "source": [
    "### 5.5 Partial derivatives with respect to `S` "
   ]
  },
  {
   "cell_type": "code",
   "execution_count": 41,
   "metadata": {
    "scrolled": false
   },
   "outputs": [
    {
     "data": {
      "text/plain": [
       "dTCO2/dS dHin/dS dfCO2in/dS dHCO3in/dS dCO3in/dS dCO2in/dS dOmegaCAin/dS dOmegaARin/dS dxCO2in/dS"
      ]
     },
     "metadata": {},
     "output_type": "display_data"
    },
    {
     "data": {
      "text/plain": [
       "(umol/kg/psu) (nmol/kg/psu) (uatm/psu) (umol/kg/psu) (umol/kg/psu) (umol/kg/psu) ( /psu) ( /psu) (ppm/psu)"
      ]
     },
     "metadata": {},
     "output_type": "display_data"
    },
    {
     "data": {
      "text/plain": [
       "-4.945052  0.057071   0.000000    -7.082428    2.212353    -0.074977   0.023117         0.019083       -0.004524"
      ]
     },
     "metadata": {},
     "output_type": "display_data"
    }
   ],
   "source": [
    "%%octave\n",
    "    [b, bhead, bunits] = derivnum ('S', PAR1, PAR2, PAR1TYPE, PAR2TYPE, SAL, TEMPIN, TEMPOUT,... \n",
    "                                   PRESIN, PRESOUT, SI, PO4,...\n",
    "                                   pHSCALEIN, K1K2CONSTANTS, KSO4CONSTANTS);\n",
    "# Print (nicely formatted):\n",
    "    printf(\"%s %s %s %s %s %s %s %s %s \\n\", bhead{1:9});\n",
    "    printf(\"%s %s %s %s %s %s %s %s %s \\n\", bunits{1:9});\n",
    "    printf(\"%f  %f   %f    %f    %f    %f   %f         %f       %f \\n\", b(1:9));\n"
   ]
  },
  {
   "cell_type": "markdown",
   "metadata": {},
   "source": [
    "#### Test to see if same results for OUT conditions when TEMPOUT = TEMPIN"
   ]
  },
  {
   "cell_type": "code",
   "execution_count": 42,
   "metadata": {},
   "outputs": [
    {
     "data": {
      "text/plain": [
       "dHout/dS dpCO2out/dS dfCO2out/dS dHCO3out/dS dCO3out/dS dCO2out/dS dOmegaCAout/dS dOmegaARout/dS dxCO2out/dS"
      ]
     },
     "metadata": {},
     "output_type": "display_data"
    },
    {
     "data": {
      "text/plain": [
       "(nmol/kg/psu) (uatm/psu) (uatm/psu) (umol/kg/psu) (umol/kg/psu) (umol/kg/psu) ( /psu) ( /psu) (ppm/psu)"
      ]
     },
     "metadata": {},
     "output_type": "display_data"
    },
    {
     "data": {
      "text/plain": [
       "0.057071  0.000015   0.000014    -7.082423    2.212347    -0.074976   0.023117         0.019082       -0.004509"
      ]
     },
     "metadata": {},
     "output_type": "display_data"
    }
   ],
   "source": [
    "%%octave\n",
    "    [b, bhead, bunits] = derivnum ('S', PAR1, PAR2, PAR1TYPE, PAR2TYPE, SAL, TEMPIN, TEMPIN,... \n",
    "                                   PRESIN, PRESOUT, SI, PO4,...\n",
    "                                   pHSCALEIN, K1K2CONSTANTS, KSO4CONSTANTS);\n",
    "# Print (nicely formatted):\n",
    "    printf(\"%s %s %s %s %s %s %s %s %s \\n\", bhead{10:18});\n",
    "    printf(\"%s %s %s %s %s %s %s %s %s \\n\", bunits{10:18});\n",
    "    printf(\"%f  %f   %f    %f    %f    %f   %f         %f       %f \\n\", b(10:18));\n"
   ]
  },
  {
   "cell_type": "markdown",
   "metadata": {},
   "source": [
    "## 6. Compute sentitivities with `derivnum` for a 4th input pair (pCO2-pH)"
   ]
  },
  {
   "cell_type": "markdown",
   "metadata": {},
   "source": [
    "### 6.1 Specify input variables and choices"
   ]
  },
  {
   "cell_type": "code",
   "execution_count": 43,
   "metadata": {},
   "outputs": [],
   "source": [
    "%%octave\n",
    "\n",
    "# Standard input for CO2SYS:\n",
    "# --------------------------\n",
    "    # Input Variables:\n",
    "    PAR1 = 400;         % pCO2\n",
    "    PAR2 = 8.0;         % pH\n",
    "    PAR1TYPE = 4;       % 1=ALK, 2=DIC, 3=pH, 4=pCO2, 5=fCO2\n",
    "    PAR2TYPE = 3;       % Same 5 choices as PAR1TYPE\n",
    "    SAL = 35;           % Salinity\n",
    "    TEMPIN = 18;        % Temperature (input)\n",
    "    TEMPOUT = 25;       % Temperature (output)\n",
    "    PRESIN = 0;         % Pressure (input)\n",
    "    PRESOUT = PRESIN;   % Pressure (output)\n",
    "    SI = 60;            % Total dissolved inorganic silicon (Sit)\n",
    "    PO4 = 2;            % Total dissoloved inorganic Phosphorus (Pt)\n",
    "\n",
    "    # Input Parameters:\n",
    "    pHSCALEIN = 1;      % pH scale (1=total, 2=seawater, 3=NBS, 4=Free)\n",
    "    K1K2CONSTANTS = 10; % set for K1 & K2: 10=Lueker et al. (2000); 14=Millero (2010); 15=Waters et al. (2014)\n",
    "    KSO4CONSTANTS = 1;  % KSO4 of Dickson (1990a) & Total dissolved boron (Bt) from Uppstrom (1974)"
   ]
  },
  {
   "cell_type": "markdown",
   "metadata": {},
   "source": [
    "### 6.2 Partial derivatives with respect to par1 (specified as pCO2 above)"
   ]
  },
  {
   "cell_type": "code",
   "execution_count": 44,
   "metadata": {},
   "outputs": [
    {
     "data": {
      "text/plain": [
       "dTAlk/dpCO2 dTCO2/dpCO2 dfCO2in/dpCO2 dHCO3in/dpCO2 dCO3in/dpCO2 dCO2in/dpCO2 dOmegaCAin/dpCO2 dOmegaARin/dpCO2 dxCO2in/dpCO2"
      ]
     },
     "metadata": {},
     "output_type": "display_data"
    },
    {
     "data": {
      "text/plain": [
       "(umol/kg/uatm) (umol/kg/uatm) (uatm/uatm) (umol/kg/uatm) (umol/kg/uatm) (umol/kg/uatm) ( /uatm) ( /uatm) (ppm/uatm)"
      ]
     },
     "metadata": {},
     "output_type": "display_data"
    },
    {
     "data": {
      "text/plain": [
       "4.901099  4.585271   0.996523    4.201107    0.349996    0.034168   0.008357         0.005404       1.020374"
      ]
     },
     "metadata": {},
     "output_type": "display_data"
    }
   ],
   "source": [
    "%%octave\n",
    "    [b, bhead, bunits] = derivnum ('par1', PAR1, PAR2, PAR1TYPE, PAR2TYPE, SAL, TEMPIN, TEMPOUT, ...\n",
    "                                   PRESIN, PRESOUT, SI, PO4,...\n",
    "                                   pHSCALEIN, K1K2CONSTANTS, KSO4CONSTANTS);\n",
    "# Print (nicely formatted):\n",
    "    printf(\"%s %s %s %s %s %s %s %s %s \\n\", bhead{1:9});\n",
    "    printf(\"%s %s %s %s %s %s %s %s %s \\n\", bunits{1:9});\n",
    "    printf(\"%f  %f   %f    %f    %f    %f   %f         %f       %f \\n\", b(1:9));\n"
   ]
  },
  {
   "cell_type": "markdown",
   "metadata": {},
   "source": [
    "#### Test to see if same results for OUT conditions when TEMPOUT = TEMPIN"
   ]
  },
  {
   "cell_type": "code",
   "execution_count": 45,
   "metadata": {},
   "outputs": [
    {
     "data": {
      "text/plain": [
       "dHout/dpCO2 dpCO2out/dpCO2 dfCO2out/dpCO2 dHCO3out/dpCO2 dCO3out/dpCO2 dCO2out/dpCO2 dOmegaCAout/dpCO2 dOmegaARout/dpCO2 dxCO2out/dpCO2"
      ]
     },
     "metadata": {},
     "output_type": "display_data"
    },
    {
     "data": {
      "text/plain": [
       "(nmol/kg/uatm) (uatm/uatm) (uatm/uatm) (umol/kg/uatm) (umol/kg/uatm) (umol/kg/uatm) ( /uatm) ( /uatm) (ppm/uatm)"
      ]
     },
     "metadata": {},
     "output_type": "display_data"
    },
    {
     "data": {
      "text/plain": [
       "0.000000  1.000000   0.996523    4.201107    0.349996    0.034168   0.008357         0.005404       1.020374"
      ]
     },
     "metadata": {},
     "output_type": "display_data"
    }
   ],
   "source": [
    "%%octave\n",
    "    [b, bhead, bunits] = derivnum ('par1', PAR1, PAR2, PAR1TYPE, PAR2TYPE, SAL, TEMPIN, TEMPIN, ...\n",
    "                                   PRESIN, PRESOUT, SI, PO4,...\n",
    "                                   pHSCALEIN, K1K2CONSTANTS, KSO4CONSTANTS);\n",
    "# Print (nicely formatted):\n",
    "    printf(\"%s %s %s %s %s %s %s %s %s \\n\", bhead{10:18});\n",
    "    printf(\"%s %s %s %s %s %s %s %s %s \\n\", bunits{10:18});\n",
    "    printf(\"%f  %f   %f    %f    %f    %f   %f         %f       %f \\n\", b(10:18));\n"
   ]
  },
  {
   "cell_type": "markdown",
   "metadata": {},
   "source": [
    "### 6.3 Partial derivatives with respect to par2 (specified above as pH)"
   ]
  },
  {
   "cell_type": "code",
   "execution_count": 46,
   "metadata": {
    "scrolled": true
   },
   "outputs": [
    {
     "data": {
      "text/plain": [
       "dTAlk/dH dTCO2/dH dfCO2in/dH dHCO3in/dH dCO3in/dH dCO2in/dH dOmegaCAin/dH dOmegaARin/dH dxCO2in/dH"
      ]
     },
     "metadata": {},
     "output_type": "display_data"
    },
    {
     "data": {
      "text/plain": [
       "(umol/nmol) (umol/nmol) (uatm kg/nmol) (umol/nmol) (umol/nmol) (umol/nmol) (kg/nmol) (kg/nmol) (ppm kg/nmol)"
      ]
     },
     "metadata": {},
     "output_type": "display_data"
    },
    {
     "data": {
      "text/plain": [
       "-230.498347  -196.043958   0.000000    -168.044289    -27.999668    0.000000   -0.668526         -0.432307       0.000000"
      ]
     },
     "metadata": {},
     "output_type": "display_data"
    }
   ],
   "source": [
    "%%octave\n",
    "    [b, bhead, bunits] = derivnum ('par2', PAR1, PAR2, PAR1TYPE, PAR2TYPE, SAL, TEMPIN, TEMPOUT,... \n",
    "                                   PRESIN, PRESOUT, SI, PO4,...\n",
    "                                   pHSCALEIN, K1K2CONSTANTS, KSO4CONSTANTS);\n",
    "# Print (nicely formatted):\n",
    "    printf(\"%s %s %s %s %s %s %s %s %s \\n\", bhead{1:9});\n",
    "    printf(\"%s %s %s %s %s %s %s %s %s \\n\", bunits{1:9});\n",
    "    printf(\"%f  %f   %f    %f    %f    %f   %f         %f       %f \\n\", b(1:9));\n"
   ]
  },
  {
   "cell_type": "markdown",
   "metadata": {},
   "source": [
    "#### Test to see if same results for OUT conditions when TEMPOUT = TEMPIN"
   ]
  },
  {
   "cell_type": "code",
   "execution_count": 47,
   "metadata": {},
   "outputs": [
    {
     "data": {
      "text/plain": [
       "dHout/dH dpCO2out/dH dfCO2out/dH dHCO3out/dH dCO3out/dH dCO2out/dH dOmegaCAout/dH dOmegaARout/dH dxCO2out/dH"
      ]
     },
     "metadata": {},
     "output_type": "display_data"
    },
    {
     "data": {
      "text/plain": [
       "(nmol/nmol) (uatm kg/nmol) (uatm kg/nmol) (umol/nmol) (umol/nmol) (umol/nmol) (kg/nmol) (kg/nmol) (ppm kg/nmol)"
      ]
     },
     "metadata": {},
     "output_type": "display_data"
    },
    {
     "data": {
      "text/plain": [
       "NaN  NaN   NaN    -167.935249    -28.122471    0.013762   -0.671458         -0.434203       0.410984"
      ]
     },
     "metadata": {},
     "output_type": "display_data"
    }
   ],
   "source": [
    "%%octave\n",
    "    [b, bhead, bunits] = derivnum ('par2', PAR1, PAR2, PAR1TYPE, PAR2TYPE, SAL, TEMPIN, TEMPIN, ...\n",
    "                                   PRESIN, PRESOUT, SI, PO4,...\n",
    "                                   pHSCALEIN, K1K2CONSTANTS, KSO4CONSTANTS);\n",
    "# Print (nicely formatted):\n",
    "    printf(\"%s %s %s %s %s %s %s %s %s \\n\", bhead{10:18});\n",
    "    printf(\"%s %s %s %s %s %s %s %s %s \\n\", bunits{10:18});\n",
    "    printf(\"%f  %f   %f    %f    %f    %f   %f         %f       %f \\n\", b(10:18));\n"
   ]
  },
  {
   "cell_type": "markdown",
   "metadata": {},
   "source": [
    "### 6.4 Partial derivatives with respect to `T` "
   ]
  },
  {
   "cell_type": "code",
   "execution_count": 48,
   "metadata": {
    "scrolled": true
   },
   "outputs": [
    {
     "data": {
      "text/plain": [
       "dTAlk/dT dTCO2/dT dfCO2in/dT dHCO3in/dT dCO3in/dT dCO2in/dT dOmegaCAin/dT dOmegaARin/dT dxCO2in/dT"
      ]
     },
     "metadata": {},
     "output_type": "display_data"
    },
    {
     "data": {
      "text/plain": [
       "(umol/kg/C) (umol/kg/C) (uatm/C) (umol/kg/C) (umol/kg/C) (umol/kg/C) ( /C) ( /C) (ppm/C)"
      ]
     },
     "metadata": {},
     "output_type": "display_data"
    },
    {
     "data": {
      "text/plain": [
       "-0.095854  -6.910969   0.017404    -10.913501    4.394307    -0.391775   0.107403         0.074707       0.523190"
      ]
     },
     "metadata": {},
     "output_type": "display_data"
    }
   ],
   "source": [
    "%%octave\n",
    "    [b, bhead, bunits] = derivnum ('T', PAR1, PAR2, PAR1TYPE, PAR2TYPE, SAL, TEMPIN, TEMPOUT,... \n",
    "                                   PRESIN, PRESOUT, SI, PO4,...\n",
    "                                   pHSCALEIN, K1K2CONSTANTS, KSO4CONSTANTS);\n",
    "# Print (nicely formatted):\n",
    "    printf(\"%s %s %s %s %s %s %s %s %s \\n\", bhead{1:9});\n",
    "    printf(\"%s %s %s %s %s %s %s %s %s \\n\", bunits{1:9});\n",
    "    printf(\"%f  %f   %f    %f    %f    %f   %f         %f       %f \\n\", b(1:9));\n"
   ]
  },
  {
   "cell_type": "markdown",
   "metadata": {},
   "source": [
    "#### Test to see if same results for OUT conditions when TEMPOUT = TEMPIN"
   ]
  },
  {
   "cell_type": "code",
   "execution_count": 49,
   "metadata": {},
   "outputs": [
    {
     "data": {
      "text/plain": [
       "dHout/dT dpCO2out/dT dfCO2out/dT dHCO3out/dT dCO3out/dT dCO2out/dT dOmegaCAout/dT dOmegaARout/dT dxCO2out/dT"
      ]
     },
     "metadata": {},
     "output_type": "display_data"
    },
    {
     "data": {
      "text/plain": [
       "(nmol/kg/C) (uatm/C) (uatm/C) (umol/kg/C) (umol/kg/C) (umol/kg/C) ( /C) ( /C) (ppm/C)"
      ]
     },
     "metadata": {},
     "output_type": "display_data"
    },
    {
     "data": {
      "text/plain": [
       "NaN  NaN   0.017404    -10.913501    4.394307    -0.391775   0.107403         0.074707       0.523190"
      ]
     },
     "metadata": {},
     "output_type": "display_data"
    }
   ],
   "source": [
    "%%octave\n",
    "    [b, bhead, bunits] = derivnum ('T', PAR1, PAR2, PAR1TYPE, PAR2TYPE, SAL, TEMPIN, TEMPIN,... \n",
    "                                   PRESIN, PRESOUT, SI, PO4,...\n",
    "                                   pHSCALEIN, K1K2CONSTANTS, KSO4CONSTANTS);\n",
    "# Print (nicely formatted):\n",
    "    printf(\"%s %s %s %s %s %s %s %s %s \\n\", bhead{10:18});\n",
    "    printf(\"%s %s %s %s %s %s %s %s %s \\n\", bunits{10:18});\n",
    "    printf(\"%f  %f   %f    %f    %f    %f   %f         %f       %f \\n\", b(10:18));\n"
   ]
  },
  {
   "cell_type": "markdown",
   "metadata": {},
   "source": [
    "### 6.5 Partial derivatives with respect to `S` "
   ]
  },
  {
   "cell_type": "code",
   "execution_count": 50,
   "metadata": {
    "scrolled": false
   },
   "outputs": [
    {
     "data": {
      "text/plain": [
       "dTAlk/dS dTCO2/dS dfCO2in/dS dHCO3in/dS dCO3in/dS dCO2in/dS dOmegaCAin/dS dOmegaARin/dS dxCO2in/dS"
      ]
     },
     "metadata": {},
     "output_type": "display_data"
    },
    {
     "data": {
      "text/plain": [
       "(umol/kg/psu) (umol/kg/psu) (uatm/psu) (umol/kg/psu) (umol/kg/psu) (umol/kg/psu) ( /psu) ( /psu) (ppm/psu)"
      ]
     },
     "metadata": {},
     "output_type": "display_data"
    },
    {
     "data": {
      "text/plain": [
       "14.275673  7.781113   0.000000    4.289345    3.566744    -0.074977   0.061120         0.042869       -0.004524"
      ]
     },
     "metadata": {},
     "output_type": "display_data"
    }
   ],
   "source": [
    "%%octave\n",
    "    [b, bhead, bunits] = derivnum ('S', PAR1, PAR2, PAR1TYPE, PAR2TYPE, SAL, TEMPIN, TEMPOUT,... \n",
    "                                   PRESIN, PRESOUT, SI, PO4,...\n",
    "                                   pHSCALEIN, K1K2CONSTANTS, KSO4CONSTANTS);\n",
    "# Print (nicely formatted):\n",
    "    printf(\"%s %s %s %s %s %s %s %s %s \\n\", bhead{1:9});\n",
    "    printf(\"%s %s %s %s %s %s %s %s %s \\n\", bunits{1:9});\n",
    "    printf(\"%f  %f   %f    %f    %f    %f   %f         %f       %f \\n\", b(1:9));\n"
   ]
  },
  {
   "cell_type": "markdown",
   "metadata": {},
   "source": [
    "#### Test to see if same results for OUT conditions when TEMPOUT = TEMPIN"
   ]
  },
  {
   "cell_type": "code",
   "execution_count": 51,
   "metadata": {},
   "outputs": [
    {
     "data": {
      "text/plain": [
       "dHout/dS dpCO2out/dS dfCO2out/dS dHCO3out/dS dCO3out/dS dCO2out/dS dOmegaCAout/dS dOmegaARout/dS dxCO2out/dS"
      ]
     },
     "metadata": {},
     "output_type": "display_data"
    },
    {
     "data": {
      "text/plain": [
       "(nmol/kg/psu) (uatm/psu) (uatm/psu) (umol/kg/psu) (umol/kg/psu) (umol/kg/psu) ( /psu) ( /psu) (ppm/psu)"
      ]
     },
     "metadata": {},
     "output_type": "display_data"
    },
    {
     "data": {
      "text/plain": [
       "-0.000000  -0.000000   -0.000000    4.289345    3.566744    -0.074977   0.061120         0.042869       -0.004524"
      ]
     },
     "metadata": {},
     "output_type": "display_data"
    }
   ],
   "source": [
    "%%octave\n",
    "    [b, bhead, bunits] = derivnum ('S', PAR1, PAR2, PAR1TYPE, PAR2TYPE, SAL, TEMPIN, TEMPIN,... \n",
    "                                   PRESIN, PRESOUT, SI, PO4,...\n",
    "                                   pHSCALEIN, K1K2CONSTANTS, KSO4CONSTANTS);\n",
    "# Print (nicely formatted):\n",
    "    printf(\"%s %s %s %s %s %s %s %s %s \\n\", bhead{10:18});\n",
    "    printf(\"%s %s %s %s %s %s %s %s %s \\n\", bunits{10:18});\n",
    "    printf(\"%f  %f   %f    %f    %f    %f   %f         %f       %f \\n\", b(10:18));\n"
   ]
  }
 ],
 "metadata": {
  "anaconda-cloud": {},
  "kernelspec": {
   "display_name": "Python 3",
   "language": "python",
   "name": "python3"
  },
  "language_info": {
   "codemirror_mode": {
    "name": "ipython",
    "version": 3
   },
   "file_extension": ".py",
   "mimetype": "text/x-python",
   "name": "python",
   "nbconvert_exporter": "python",
   "pygments_lexer": "ipython3",
   "version": "3.7.6"
  }
 },
 "nbformat": 4,
 "nbformat_minor": 1
}
