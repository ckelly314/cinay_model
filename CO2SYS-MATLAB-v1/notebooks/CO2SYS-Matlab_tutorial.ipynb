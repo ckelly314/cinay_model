{
 "cells": [
  {
   "cell_type": "markdown",
   "metadata": {},
   "source": [
    "# Use CO2SYS-Matlab routine `CO2SYS.m` (in `jupyter` notebook via `octave`)"
   ]
  },
  {
   "cell_type": "markdown",
   "metadata": {},
   "source": [
    "James Orr<br>\n",
    "\n",
    "<img align=\"left\" width=\"50%\" src=\"http://www.lsce.ipsl.fr/Css/img/banniere_LSCE_75.png\"><br><br>\n",
    "\n",
    "LSCE/IPSL, CEA-CNRS-UVSQ, Gif-sur-Yvette, France\n",
    "\n",
    "27 February 2018 <br><br>\n",
    "updated: 29 June 2020 "
   ]
  },
  {
   "cell_type": "markdown",
   "metadata": {},
   "source": [
    "**Abstract**: This notebook shows how to use the standard `CO2SYS` routine of CO2SYS-Matlab to calculate derived variables of marine CO2 system. Basic and more advanced use is illustrated.  For example, for the more advanced users, it shows how to export CO2SYS results into python and then present them in more convenient form and manipulate them more easily with python's `pandas` library. This CO2SYS-Matlab routine is used in `octave`, a GNU's clone of Matlab. You can either inspect the HTML version of this file or execute its commands interactively in your browser. But for the latter, you'll need to install `jupyter notebook`, `octave`, and `oct2py`, which includes the python-octave interface called `octavemagic`. Fortunately, that installation is very easy (see below)."
   ]
  },
  {
   "cell_type": "markdown",
   "metadata": {},
   "source": [
    "#### Table of Contents:\n",
    "    1. Basics (install & load octave)\n",
    "    2. Octave - simple examples\n",
    "    3. Using CO2SYS-Matlab in octave\n",
    "    4. Run CO2SYS-Matlab on exiting CSV file\n",
    "    5. Exporting CO2SYS output to Python (nicer tables, flexibility)\n",
    "    6. Plot CO2SYS output\n",
    "\n",
    "## 1. Basics"
   ]
  },
  {
   "cell_type": "markdown",
   "metadata": {},
   "source": [
    "#### Run interactively\n",
    "\n",
    "If you are visualizing this after clicking on the link to this file on github, you are seeing the HTML version of a jupyter notebook. Alternatively, you may run cells interactively and modify them if you have `jupyter notebook` installed on your machine.  To install that software, just download the anaconda open software installer for your computing platform (Windows, OS X, or Linux) from https://www.anaconda.com/ and then follow the easy install instructions at\n",
    "\n",
    "https://docs.anaconda.com/anaconda/install/\n",
    "\n",
    "Then just download this `jupyter notebook` file as well as the 3 routines in the src directory (`CO2SYS.m`, `errors.m`, and `derivnum.m`).  Afterwards, you'll only need to install `octave` and `oct2py` using the 1-line command in the following section."
   ]
  },
  {
   "cell_type": "markdown",
   "metadata": {},
   "source": [
    "#### Install `octavemagic`"
   ]
  },
  {
   "cell_type": "markdown",
   "metadata": {},
   "source": [
    "#### To install the octavemagic funtionality, we must install `oct2py`, with the following command at the Unix prompt:\n",
    "\n",
    "  `conda install -c conda-forge octave oct2py`\n",
    "  \n",
    "That command also installs `octave`. Then launch the notebook as usual with the following command:\n",
    "\n",
    "  `jupyter notebook`\n",
    "\n",
    "A new window or tab should then appear in your browser, showing the files in the directory from where you launched the above command. Then just click on one of the `.ipynb` files, such as this one.\n",
    "\n",
    "Once the notebook file appears in your browser, move to any of its cells with your mouse. Run a cell by clicking on it and hitting Ctrl-Return.  Alternatively, type Shift-Return to run a cell and then move to the next one. More information on all the interactive commands is available in the Jupyter Notebook Quick Start Guide: http://jupyter-notebook-beginner-guide.readthedocs.io/en/latest/execute.html\n",
    "\n",
    "At the top of the notebook, you'll see a number of Tabs (File, Edit, View, Insert, ...). Those tabs provide commands that will allow you to do whatever you like. Under the Help tab you'll find keyboard shortcuts for commands. Alternatively, a cheat sheet for short cuts to commands within `jupyter notebook` is available at https://zenodo.org/record/44973/files/ipynb-cheat-sheet.pdf . Or use the command palette after typing Ctrl-Shift-P."
   ]
  },
  {
   "cell_type": "markdown",
   "metadata": {},
   "source": [
    "#### Documentation for octavemagic"
   ]
  },
  {
   "cell_type": "markdown",
   "metadata": {},
   "source": [
    "Details on using octavemagic are here: https://ipython.org/ipython-doc/2/config/extensions/octavemagic.html"
   ]
  },
  {
   "cell_type": "markdown",
   "metadata": {},
   "source": [
    "#### Load octave magic function\n",
    "\n",
    "Because octavemagic is now in conda's oct2py module, it is loaded with a slight modification to what is given on the above web page, i.e., now with the command below"
   ]
  },
  {
   "cell_type": "code",
   "execution_count": 1,
   "metadata": {},
   "outputs": [],
   "source": [
    "%load_ext oct2py.ipython"
   ]
  },
  {
   "cell_type": "markdown",
   "metadata": {},
   "source": [
    "#### Specify directory where you have the Matlab routines `CO2SYS.m`, `derivnum.m`,  and `errors.m`"
   ]
  },
  {
   "cell_type": "code",
   "execution_count": 6,
   "metadata": {},
   "outputs": [],
   "source": [
    "%%octave\n",
    "addpath (\"~/Software/MATLAB/CO2SYS-MATLAB/src\")"
   ]
  },
  {
   "cell_type": "markdown",
   "metadata": {},
   "source": [
    "## 2. Simple examples of octave"
   ]
  },
  {
   "cell_type": "markdown",
   "metadata": {},
   "source": [
    "#### Start octave 1 liner with `%octave`"
   ]
  },
  {
   "cell_type": "code",
   "execution_count": 2,
   "metadata": {},
   "outputs": [
    {
     "data": {
      "text/plain": [
       "ans =  2.5000"
      ]
     },
     "metadata": {},
     "output_type": "display_data"
    },
    {
     "data": {
      "text/plain": [
       "2.5"
      ]
     },
     "execution_count": 2,
     "metadata": {},
     "output_type": "execute_result"
    }
   ],
   "source": [
    "%octave X = [1 2 3 4] ; mean(X)"
   ]
  },
  {
   "cell_type": "markdown",
   "metadata": {},
   "source": [
    "#### Start octave cell with `%%octave`"
   ]
  },
  {
   "cell_type": "code",
   "execution_count": 3,
   "metadata": {},
   "outputs": [
    {
     "data": {
      "text/plain": [
       "X ="
      ]
     },
     "metadata": {},
     "output_type": "display_data"
    },
    {
     "data": {
      "text/plain": []
     },
     "metadata": {},
     "output_type": "display_data"
    },
    {
     "data": {
      "text/plain": [
       "   1   2"
      ]
     },
     "metadata": {},
     "output_type": "display_data"
    },
    {
     "data": {
      "text/plain": [
       "   3   4"
      ]
     },
     "metadata": {},
     "output_type": "display_data"
    },
    {
     "data": {
      "text/plain": []
     },
     "metadata": {},
     "output_type": "display_data"
    },
    {
     "data": {
      "text/plain": [
       "ans ="
      ]
     },
     "metadata": {},
     "output_type": "display_data"
    },
    {
     "data": {
      "text/plain": []
     },
     "metadata": {},
     "output_type": "display_data"
    },
    {
     "data": {
      "text/plain": [
       "   2   3"
      ]
     },
     "metadata": {},
     "output_type": "display_data"
    },
    {
     "data": {
      "text/plain": []
     },
     "metadata": {},
     "output_type": "display_data"
    }
   ],
   "source": [
    "%%octave \n",
    "X = [1 2; 3 4]\n",
    "mean(X)"
   ]
  },
  {
   "cell_type": "markdown",
   "metadata": {},
   "source": [
    "## 3. Use `CO2SYS` to compute marine CO$_2$ system variables"
   ]
  },
  {
   "cell_type": "markdown",
   "metadata": {},
   "source": [
    "### 3.1 Specify input variables and choices"
   ]
  },
  {
   "cell_type": "code",
   "execution_count": 7,
   "metadata": {},
   "outputs": [],
   "source": [
    "%%octave\n",
    "\n",
    "    # Input Variables:\n",
    "    PAR1 = 2300;        % ALK\n",
    "    PAR2 = 2000;        % DIC\n",
    "    PAR1TYPE = 1;       % 1=ALK, 2=DIC, 3=pH, 4=pCO2, 5=fCO2\n",
    "    PAR2TYPE = 2;       % Same 5 choices as PAR1TYPE\n",
    "    SAL = 35;           % Salinity\n",
    "    TEMPIN = 25;        % Temperature (input)\n",
    "    TEMPOUT = 25;       % Temperature (output)\n",
    "    PRESIN = 0;         % Pressure (input)\n",
    "    PRESOUT = PRESIN;   % Pressure (output)\n",
    "    SI = 60;            % Total dissolved inorganic silicon (Sit)\n",
    "    PO4 = 2;            % Total dissoloved inorganic Phosphorus (Pt)\n",
    "\n",
    "    # Input Parameters:\n",
    "    pHSCALEIN = 2;      % pH scale (1=total, 2=seawater, 3=NBS, 4=Free)\n",
    "    K1K2CONSTANTS = 15; % set for K1 & K2: (a) 10=Lueker et al. (2000); (b) 14=Millero (2010)\n",
    "    KSO4CONSTANTS = 1;  % KSO4 of Dickson (1990a) & Total dissolved boron (Bt) from Uppstrom (1974)\n",
    "\n",
    "    # Input variables for error propagation:\n",
    "    r = 0.0;            % Correlation between **uncertainties** in PAR1 and PAR2 (-1 < r < 1)\n",
    "    ePAR1 = 2;          % uncertainty in PAR1 (same units as PAR1)\n",
    "    ePAR2 = 2;          % uncertainty in PAR2 (same units as PAR2)\n",
    "    eSAL = 0;           % uncertainty in Salinity\n",
    "    eTEMP = 0;          % uncertainty in Temperature\n",
    "    eSI = 4;            % uncertainty in Sit\n",
    "    ePO4 = 0.1;         % uncertainty in Pt\n",
    " "
   ]
  },
  {
   "cell_type": "markdown",
   "metadata": {},
   "source": [
    "### 3.1 Standard CO2SYS calculation"
   ]
  },
  {
   "cell_type": "code",
   "execution_count": 8,
   "metadata": {},
   "outputs": [],
   "source": [
    "%%octave\n",
    "[d, dhead, dnice] = CO2SYS (PAR1, PAR2, PAR1TYPE, PAR2TYPE, SAL, TEMPIN, TEMPOUT, PRESIN, PRESOUT, SI, PO4,...\n",
    "                            pHSCALEIN, K1K2CONSTANTS, KSO4CONSTANTS);"
   ]
  },
  {
   "cell_type": "markdown",
   "metadata": {},
   "source": [
    "#### How do I access the resulting calculated ouput?"
   ]
  },
  {
   "cell_type": "markdown",
   "metadata": {},
   "source": [
    "Display the **Header** information to see index numbers for each computed variable"
   ]
  },
  {
   "cell_type": "code",
   "execution_count": 9,
   "metadata": {
    "scrolled": true
   },
   "outputs": [
    {
     "data": {
      "text/plain": [
       "dhead ="
      ]
     },
     "metadata": {},
     "output_type": "display_data"
    },
    {
     "data": {
      "text/plain": [
       "{"
      ]
     },
     "metadata": {},
     "output_type": "display_data"
    },
    {
     "data": {
      "text/plain": [
       "  [1,1] = TAlk"
      ]
     },
     "metadata": {},
     "output_type": "display_data"
    },
    {
     "data": {
      "text/plain": [
       "  [2,1] = TCO2"
      ]
     },
     "metadata": {},
     "output_type": "display_data"
    },
    {
     "data": {
      "text/plain": [
       "  [3,1] = pHin"
      ]
     },
     "metadata": {},
     "output_type": "display_data"
    },
    {
     "data": {
      "text/plain": [
       "  [4,1] = pCO2in"
      ]
     },
     "metadata": {},
     "output_type": "display_data"
    },
    {
     "data": {
      "text/plain": [
       "  [5,1] = fCO2in"
      ]
     },
     "metadata": {},
     "output_type": "display_data"
    },
    {
     "data": {
      "text/plain": [
       "  [6,1] = HCO3in"
      ]
     },
     "metadata": {},
     "output_type": "display_data"
    },
    {
     "data": {
      "text/plain": [
       "  [7,1] = CO3in"
      ]
     },
     "metadata": {},
     "output_type": "display_data"
    },
    {
     "data": {
      "text/plain": [
       "  [8,1] = CO2in"
      ]
     },
     "metadata": {},
     "output_type": "display_data"
    },
    {
     "data": {
      "text/plain": [
       "  [9,1] = BAlkin"
      ]
     },
     "metadata": {},
     "output_type": "display_data"
    },
    {
     "data": {
      "text/plain": [
       "  [10,1] = OHin"
      ]
     },
     "metadata": {},
     "output_type": "display_data"
    },
    {
     "data": {
      "text/plain": [
       "  [11,1] = PAlkin"
      ]
     },
     "metadata": {},
     "output_type": "display_data"
    },
    {
     "data": {
      "text/plain": [
       "  [12,1] = SiAlkin"
      ]
     },
     "metadata": {},
     "output_type": "display_data"
    },
    {
     "data": {
      "text/plain": [
       "  [13,1] = Hfreein"
      ]
     },
     "metadata": {},
     "output_type": "display_data"
    },
    {
     "data": {
      "text/plain": [
       "  [14,1] = RFin"
      ]
     },
     "metadata": {},
     "output_type": "display_data"
    },
    {
     "data": {
      "text/plain": [
       "  [15,1] = OmegaCAin"
      ]
     },
     "metadata": {},
     "output_type": "display_data"
    },
    {
     "data": {
      "text/plain": [
       "  [16,1] = OmegaARin"
      ]
     },
     "metadata": {},
     "output_type": "display_data"
    },
    {
     "data": {
      "text/plain": [
       "  [17,1] = xCO2in"
      ]
     },
     "metadata": {},
     "output_type": "display_data"
    },
    {
     "data": {
      "text/plain": [
       "  [18,1] = pHout"
      ]
     },
     "metadata": {},
     "output_type": "display_data"
    },
    {
     "data": {
      "text/plain": [
       "  [19,1] = pCO2out"
      ]
     },
     "metadata": {},
     "output_type": "display_data"
    },
    {
     "data": {
      "text/plain": [
       "  [20,1] = fCO2out"
      ]
     },
     "metadata": {},
     "output_type": "display_data"
    },
    {
     "data": {
      "text/plain": [
       "  [21,1] = HCO3out"
      ]
     },
     "metadata": {},
     "output_type": "display_data"
    },
    {
     "data": {
      "text/plain": [
       "  [22,1] = CO3out"
      ]
     },
     "metadata": {},
     "output_type": "display_data"
    },
    {
     "data": {
      "text/plain": [
       "  [23,1] = CO2out"
      ]
     },
     "metadata": {},
     "output_type": "display_data"
    },
    {
     "data": {
      "text/plain": [
       "  [24,1] = BAlkout"
      ]
     },
     "metadata": {},
     "output_type": "display_data"
    },
    {
     "data": {
      "text/plain": [
       "  [25,1] = OHout"
      ]
     },
     "metadata": {},
     "output_type": "display_data"
    },
    {
     "data": {
      "text/plain": [
       "  [26,1] = PAlkout"
      ]
     },
     "metadata": {},
     "output_type": "display_data"
    },
    {
     "data": {
      "text/plain": [
       "  [27,1] = SiAlkout"
      ]
     },
     "metadata": {},
     "output_type": "display_data"
    },
    {
     "data": {
      "text/plain": [
       "  [28,1] = Hfreeout"
      ]
     },
     "metadata": {},
     "output_type": "display_data"
    },
    {
     "data": {
      "text/plain": [
       "  [29,1] = RFout"
      ]
     },
     "metadata": {},
     "output_type": "display_data"
    },
    {
     "data": {
      "text/plain": [
       "  [30,1] = OmegaCAout"
      ]
     },
     "metadata": {},
     "output_type": "display_data"
    },
    {
     "data": {
      "text/plain": [
       "  [31,1] = OmegaARout"
      ]
     },
     "metadata": {},
     "output_type": "display_data"
    },
    {
     "data": {
      "text/plain": [
       "  [32,1] = xCO2out"
      ]
     },
     "metadata": {},
     "output_type": "display_data"
    },
    {
     "data": {
      "text/plain": [
       "  [33,1] = pHinTOTAL"
      ]
     },
     "metadata": {},
     "output_type": "display_data"
    },
    {
     "data": {
      "text/plain": [
       "  [34,1] = pHinSWS"
      ]
     },
     "metadata": {},
     "output_type": "display_data"
    },
    {
     "data": {
      "text/plain": [
       "  [35,1] = pHinFREE"
      ]
     },
     "metadata": {},
     "output_type": "display_data"
    },
    {
     "data": {
      "text/plain": [
       "  [36,1] = pHinNBS"
      ]
     },
     "metadata": {},
     "output_type": "display_data"
    },
    {
     "data": {
      "text/plain": [
       "  [37,1] = pHoutTOTAL"
      ]
     },
     "metadata": {},
     "output_type": "display_data"
    },
    {
     "data": {
      "text/plain": [
       "  [38,1] = pHoutSWS"
      ]
     },
     "metadata": {},
     "output_type": "display_data"
    },
    {
     "data": {
      "text/plain": [
       "  [39,1] = pHoutFREE"
      ]
     },
     "metadata": {},
     "output_type": "display_data"
    },
    {
     "data": {
      "text/plain": [
       "  [40,1] = pHoutNBS"
      ]
     },
     "metadata": {},
     "output_type": "display_data"
    },
    {
     "data": {
      "text/plain": [
       "  [41,1] = TEMPIN"
      ]
     },
     "metadata": {},
     "output_type": "display_data"
    },
    {
     "data": {
      "text/plain": [
       "  [42,1] = TEMPOUT"
      ]
     },
     "metadata": {},
     "output_type": "display_data"
    },
    {
     "data": {
      "text/plain": [
       "  [43,1] = PRESIN"
      ]
     },
     "metadata": {},
     "output_type": "display_data"
    },
    {
     "data": {
      "text/plain": [
       "  [44,1] = PRESOUT"
      ]
     },
     "metadata": {},
     "output_type": "display_data"
    },
    {
     "data": {
      "text/plain": [
       "  [45,1] = PAR1TYPE"
      ]
     },
     "metadata": {},
     "output_type": "display_data"
    },
    {
     "data": {
      "text/plain": [
       "  [46,1] = PAR2TYPE"
      ]
     },
     "metadata": {},
     "output_type": "display_data"
    },
    {
     "data": {
      "text/plain": [
       "  [47,1] = K1K2CONSTANTS"
      ]
     },
     "metadata": {},
     "output_type": "display_data"
    },
    {
     "data": {
      "text/plain": [
       "  [48,1] = KSO4CONSTANTS"
      ]
     },
     "metadata": {},
     "output_type": "display_data"
    },
    {
     "data": {
      "text/plain": [
       "  [49,1] = pHSCALEIN"
      ]
     },
     "metadata": {},
     "output_type": "display_data"
    },
    {
     "data": {
      "text/plain": [
       "  [50,1] = SAL"
      ]
     },
     "metadata": {},
     "output_type": "display_data"
    },
    {
     "data": {
      "text/plain": [
       "  [51,1] = PO4"
      ]
     },
     "metadata": {},
     "output_type": "display_data"
    },
    {
     "data": {
      "text/plain": [
       "  [52,1] = SI"
      ]
     },
     "metadata": {},
     "output_type": "display_data"
    },
    {
     "data": {
      "text/plain": [
       "  [53,1] = K0input"
      ]
     },
     "metadata": {},
     "output_type": "display_data"
    },
    {
     "data": {
      "text/plain": [
       "  [54,1] = K1input"
      ]
     },
     "metadata": {},
     "output_type": "display_data"
    },
    {
     "data": {
      "text/plain": [
       "  [55,1] = K2input"
      ]
     },
     "metadata": {},
     "output_type": "display_data"
    },
    {
     "data": {
      "text/plain": [
       "  [56,1] = pK1input"
      ]
     },
     "metadata": {},
     "output_type": "display_data"
    },
    {
     "data": {
      "text/plain": [
       "  [57,1] = pK2input"
      ]
     },
     "metadata": {},
     "output_type": "display_data"
    },
    {
     "data": {
      "text/plain": [
       "  [58,1] = KWinput"
      ]
     },
     "metadata": {},
     "output_type": "display_data"
    },
    {
     "data": {
      "text/plain": [
       "  [59,1] = KBinput"
      ]
     },
     "metadata": {},
     "output_type": "display_data"
    },
    {
     "data": {
      "text/plain": [
       "  [60,1] = KFinput"
      ]
     },
     "metadata": {},
     "output_type": "display_data"
    },
    {
     "data": {
      "text/plain": [
       "  [61,1] = KSinput"
      ]
     },
     "metadata": {},
     "output_type": "display_data"
    },
    {
     "data": {
      "text/plain": [
       "  [62,1] = KP1input"
      ]
     },
     "metadata": {},
     "output_type": "display_data"
    },
    {
     "data": {
      "text/plain": [
       "  [63,1] = KP2input"
      ]
     },
     "metadata": {},
     "output_type": "display_data"
    },
    {
     "data": {
      "text/plain": [
       "  [64,1] = KP3input"
      ]
     },
     "metadata": {},
     "output_type": "display_data"
    },
    {
     "data": {
      "text/plain": [
       "  [65,1] = KSiinput"
      ]
     },
     "metadata": {},
     "output_type": "display_data"
    },
    {
     "data": {
      "text/plain": [
       "  [66,1] = K0output"
      ]
     },
     "metadata": {},
     "output_type": "display_data"
    },
    {
     "data": {
      "text/plain": [
       "  [67,1] = K1output"
      ]
     },
     "metadata": {},
     "output_type": "display_data"
    },
    {
     "data": {
      "text/plain": [
       "  [68,1] = K2output"
      ]
     },
     "metadata": {},
     "output_type": "display_data"
    },
    {
     "data": {
      "text/plain": [
       "  [69,1] = pK1output"
      ]
     },
     "metadata": {},
     "output_type": "display_data"
    },
    {
     "data": {
      "text/plain": [
       "  [70,1] = pK2output"
      ]
     },
     "metadata": {},
     "output_type": "display_data"
    },
    {
     "data": {
      "text/plain": [
       "  [71,1] = KWoutput"
      ]
     },
     "metadata": {},
     "output_type": "display_data"
    },
    {
     "data": {
      "text/plain": [
       "  [72,1] = KBoutput"
      ]
     },
     "metadata": {},
     "output_type": "display_data"
    },
    {
     "data": {
      "text/plain": [
       "  [73,1] = KFoutput"
      ]
     },
     "metadata": {},
     "output_type": "display_data"
    },
    {
     "data": {
      "text/plain": [
       "  [74,1] = KSoutput"
      ]
     },
     "metadata": {},
     "output_type": "display_data"
    },
    {
     "data": {
      "text/plain": [
       "  [75,1] = KP1output"
      ]
     },
     "metadata": {},
     "output_type": "display_data"
    },
    {
     "data": {
      "text/plain": [
       "  [76,1] = KP2output"
      ]
     },
     "metadata": {},
     "output_type": "display_data"
    },
    {
     "data": {
      "text/plain": [
       "  [77,1] = KP3output"
      ]
     },
     "metadata": {},
     "output_type": "display_data"
    },
    {
     "data": {
      "text/plain": [
       "  [78,1] = KSioutput"
      ]
     },
     "metadata": {},
     "output_type": "display_data"
    },
    {
     "data": {
      "text/plain": [
       "  [79,1] = TB"
      ]
     },
     "metadata": {},
     "output_type": "display_data"
    },
    {
     "data": {
      "text/plain": [
       "  [80,1] = TF"
      ]
     },
     "metadata": {},
     "output_type": "display_data"
    },
    {
     "data": {
      "text/plain": [
       "  [81,1] = TS"
      ]
     },
     "metadata": {},
     "output_type": "display_data"
    },
    {
     "data": {
      "text/plain": [
       "}"
      ]
     },
     "metadata": {},
     "output_type": "display_data"
    }
   ],
   "source": [
    "%%octave\n",
    "dhead"
   ]
  },
  {
   "cell_type": "markdown",
   "metadata": {},
   "source": [
    "Display the **Nice Header** information to also see units"
   ]
  },
  {
   "cell_type": "code",
   "execution_count": 10,
   "metadata": {
    "scrolled": true
   },
   "outputs": [
    {
     "data": {
      "text/plain": [
       "dnice ="
      ]
     },
     "metadata": {},
     "output_type": "display_data"
    },
    {
     "data": {
      "text/plain": [
       "{"
      ]
     },
     "metadata": {},
     "output_type": "display_data"
    },
    {
     "data": {
      "text/plain": [
       "  [1,1] = 01 - TAlk             (umol/kgSW)"
      ]
     },
     "metadata": {},
     "output_type": "display_data"
    },
    {
     "data": {
      "text/plain": [
       "  [2,1] = 02 - TCO2             (umol/kgSW)"
      ]
     },
     "metadata": {},
     "output_type": "display_data"
    },
    {
     "data": {
      "text/plain": [
       "  [3,1] = 03 - pHin             ()"
      ]
     },
     "metadata": {},
     "output_type": "display_data"
    },
    {
     "data": {
      "text/plain": [
       "  [4,1] = 04 - pCO2in           (uatm)"
      ]
     },
     "metadata": {},
     "output_type": "display_data"
    },
    {
     "data": {
      "text/plain": [
       "  [5,1] = 05 - fCO2in           (uatm)"
      ]
     },
     "metadata": {},
     "output_type": "display_data"
    },
    {
     "data": {
      "text/plain": [
       "  [6,1] = 06 - HCO3in           (umol/kgSW)"
      ]
     },
     "metadata": {},
     "output_type": "display_data"
    },
    {
     "data": {
      "text/plain": [
       "  [7,1] = 07 - CO3in            (umol/kgSW)"
      ]
     },
     "metadata": {},
     "output_type": "display_data"
    },
    {
     "data": {
      "text/plain": [
       "  [8,1] = 08 - CO2in            (umol/kgSW)"
      ]
     },
     "metadata": {},
     "output_type": "display_data"
    },
    {
     "data": {
      "text/plain": [
       "  [9,1] = 09 - BAlkin           (umol/kgSW)"
      ]
     },
     "metadata": {},
     "output_type": "display_data"
    },
    {
     "data": {
      "text/plain": [
       "  [10,1] = 10 - OHin             (umol/kgSW)"
      ]
     },
     "metadata": {},
     "output_type": "display_data"
    },
    {
     "data": {
      "text/plain": [
       "  [11,1] = 11 - PAlkin           (umol/kgSW)"
      ]
     },
     "metadata": {},
     "output_type": "display_data"
    },
    {
     "data": {
      "text/plain": [
       "  [12,1] = 12 - SiAlkin          (umol/kgSW)"
      ]
     },
     "metadata": {},
     "output_type": "display_data"
    },
    {
     "data": {
      "text/plain": [
       "  [13,1] = 13 - Hfreein          (umol/kgSW)"
      ]
     },
     "metadata": {},
     "output_type": "display_data"
    },
    {
     "data": {
      "text/plain": [
       "  [14,1] = 14 - RevelleFactorin  ()"
      ]
     },
     "metadata": {},
     "output_type": "display_data"
    },
    {
     "data": {
      "text/plain": [
       "  [15,1] = 15 - OmegaCain        ()"
      ]
     },
     "metadata": {},
     "output_type": "display_data"
    },
    {
     "data": {
      "text/plain": [
       "  [16,1] = 16 - OmegaArin        ()"
      ]
     },
     "metadata": {},
     "output_type": "display_data"
    },
    {
     "data": {
      "text/plain": [
       "  [17,1] = 17 - xCO2in           (ppm)"
      ]
     },
     "metadata": {},
     "output_type": "display_data"
    },
    {
     "data": {
      "text/plain": [
       "  [18,1] = 18 - pHout            ()"
      ]
     },
     "metadata": {},
     "output_type": "display_data"
    },
    {
     "data": {
      "text/plain": [
       "  [19,1] = 19 - pCO2out          (uatm)"
      ]
     },
     "metadata": {},
     "output_type": "display_data"
    },
    {
     "data": {
      "text/plain": [
       "  [20,1] = 20 - fCO2out          (uatm)"
      ]
     },
     "metadata": {},
     "output_type": "display_data"
    },
    {
     "data": {
      "text/plain": [
       "  [21,1] = 21 - HCO3out          (umol/kgSW)"
      ]
     },
     "metadata": {},
     "output_type": "display_data"
    },
    {
     "data": {
      "text/plain": [
       "  [22,1] = 22 - CO3out           (umol/kgSW)"
      ]
     },
     "metadata": {},
     "output_type": "display_data"
    },
    {
     "data": {
      "text/plain": [
       "  [23,1] = 23 - CO2out           (umol/kgSW)"
      ]
     },
     "metadata": {},
     "output_type": "display_data"
    },
    {
     "data": {
      "text/plain": [
       "  [24,1] = 24 - BAlkout          (umol/kgSW)"
      ]
     },
     "metadata": {},
     "output_type": "display_data"
    },
    {
     "data": {
      "text/plain": [
       "  [25,1] = 25 - OHout            (umol/kgSW)"
      ]
     },
     "metadata": {},
     "output_type": "display_data"
    },
    {
     "data": {
      "text/plain": [
       "  [26,1] = 26 - PAlkout          (umol/kgSW)"
      ]
     },
     "metadata": {},
     "output_type": "display_data"
    },
    {
     "data": {
      "text/plain": [
       "  [27,1] = 27 - SiAlkout         (umol/kgSW)"
      ]
     },
     "metadata": {},
     "output_type": "display_data"
    },
    {
     "data": {
      "text/plain": [
       "  [28,1] = 28 - Hfreeout         (umol/kgSW)"
      ]
     },
     "metadata": {},
     "output_type": "display_data"
    },
    {
     "data": {
      "text/plain": [
       "  [29,1] = 29 - RevelleFactorout ()"
      ]
     },
     "metadata": {},
     "output_type": "display_data"
    },
    {
     "data": {
      "text/plain": [
       "  [30,1] = 30 - OmegaCaout       ()"
      ]
     },
     "metadata": {},
     "output_type": "display_data"
    },
    {
     "data": {
      "text/plain": [
       "  [31,1] = 31 - OmegaArout       ()"
      ]
     },
     "metadata": {},
     "output_type": "display_data"
    },
    {
     "data": {
      "text/plain": [
       "  [32,1] = 32 - xCO2out          (ppm)"
      ]
     },
     "metadata": {},
     "output_type": "display_data"
    },
    {
     "data": {
      "text/plain": [
       "  [33,1] = 33 - pHin (Total)     ()"
      ]
     },
     "metadata": {},
     "output_type": "display_data"
    },
    {
     "data": {
      "text/plain": [
       "  [34,1] = 34 - pHin (SWS)       ()"
      ]
     },
     "metadata": {},
     "output_type": "display_data"
    },
    {
     "data": {
      "text/plain": [
       "  [35,1] = 35 - pHin (Free)      ()"
      ]
     },
     "metadata": {},
     "output_type": "display_data"
    },
    {
     "data": {
      "text/plain": [
       "  [36,1] = 36 - pHin (NBS )      ()"
      ]
     },
     "metadata": {},
     "output_type": "display_data"
    },
    {
     "data": {
      "text/plain": [
       "  [37,1] = 37 - pHout(Total)     ()"
      ]
     },
     "metadata": {},
     "output_type": "display_data"
    },
    {
     "data": {
      "text/plain": [
       "  [38,1] = 38 - pHout(SWS)       ()"
      ]
     },
     "metadata": {},
     "output_type": "display_data"
    },
    {
     "data": {
      "text/plain": [
       "  [39,1] = 39 - pHout(Free)      ()"
      ]
     },
     "metadata": {},
     "output_type": "display_data"
    },
    {
     "data": {
      "text/plain": [
       "  [40,1] = 40 - pHout(NBS )      ()"
      ]
     },
     "metadata": {},
     "output_type": "display_data"
    },
    {
     "data": {
      "text/plain": [
       "  [41,1] = 41 - TEMPIN           (Deg C)"
      ]
     },
     "metadata": {},
     "output_type": "display_data"
    },
    {
     "data": {
      "text/plain": [
       "  [42,1] = 42 - TEMPOUT          (Deg C)"
      ]
     },
     "metadata": {},
     "output_type": "display_data"
    },
    {
     "data": {
      "text/plain": [
       "  [43,1] = 43 - PRESIN           (dbar)"
      ]
     },
     "metadata": {},
     "output_type": "display_data"
    },
    {
     "data": {
      "text/plain": [
       "  [44,1] = 44 - PRESOUT          (dbar)"
      ]
     },
     "metadata": {},
     "output_type": "display_data"
    },
    {
     "data": {
      "text/plain": [
       "  [45,1] = 45 - PAR1TYPE         ()"
      ]
     },
     "metadata": {},
     "output_type": "display_data"
    },
    {
     "data": {
      "text/plain": [
       "  [46,1] = 46 - PAR2TYPE         ()"
      ]
     },
     "metadata": {},
     "output_type": "display_data"
    },
    {
     "data": {
      "text/plain": [
       "  [47,1] = 47 - K1K2CONSTANTS    ()"
      ]
     },
     "metadata": {},
     "output_type": "display_data"
    },
    {
     "data": {
      "text/plain": [
       "  [48,1] = 48 - KSO4CONSTANTS    ()"
      ]
     },
     "metadata": {},
     "output_type": "display_data"
    },
    {
     "data": {
      "text/plain": [
       "  [49,1] = 49 - pHSCALEIN        ()"
      ]
     },
     "metadata": {},
     "output_type": "display_data"
    },
    {
     "data": {
      "text/plain": [
       "  [50,1] = 50 - SAL              (umol/kgSW)"
      ]
     },
     "metadata": {},
     "output_type": "display_data"
    },
    {
     "data": {
      "text/plain": [
       "  [51,1] = 51 - PO4              (umol/kgSW)"
      ]
     },
     "metadata": {},
     "output_type": "display_data"
    },
    {
     "data": {
      "text/plain": [
       "  [52,1] = 52 - SI               (umol/kgSW)"
      ]
     },
     "metadata": {},
     "output_type": "display_data"
    },
    {
     "data": {
      "text/plain": [
       "  [53,1] = 53 - K0input          ()"
      ]
     },
     "metadata": {},
     "output_type": "display_data"
    },
    {
     "data": {
      "text/plain": [
       "  [54,1] = 54 - K1input          ()"
      ]
     },
     "metadata": {},
     "output_type": "display_data"
    },
    {
     "data": {
      "text/plain": [
       "  [55,1] = 55 - K2input          ()"
      ]
     },
     "metadata": {},
     "output_type": "display_data"
    },
    {
     "data": {
      "text/plain": [
       "  [56,1] = 56 - pK1input         ()"
      ]
     },
     "metadata": {},
     "output_type": "display_data"
    },
    {
     "data": {
      "text/plain": [
       "  [57,1] = 57 - pK2input         ()"
      ]
     },
     "metadata": {},
     "output_type": "display_data"
    },
    {
     "data": {
      "text/plain": [
       "  [58,1] = 58 - KWinput          ()"
      ]
     },
     "metadata": {},
     "output_type": "display_data"
    },
    {
     "data": {
      "text/plain": [
       "  [59,1] = 59 - KBinput          ()"
      ]
     },
     "metadata": {},
     "output_type": "display_data"
    },
    {
     "data": {
      "text/plain": [
       "  [60,1] = 60 - KFinput          ()"
      ]
     },
     "metadata": {},
     "output_type": "display_data"
    },
    {
     "data": {
      "text/plain": [
       "  [61,1] = 61 - KSinput          ()"
      ]
     },
     "metadata": {},
     "output_type": "display_data"
    },
    {
     "data": {
      "text/plain": [
       "  [62,1] = 62 - KP1input         ()"
      ]
     },
     "metadata": {},
     "output_type": "display_data"
    },
    {
     "data": {
      "text/plain": [
       "  [63,1] = 63 - KP2input         ()"
      ]
     },
     "metadata": {},
     "output_type": "display_data"
    },
    {
     "data": {
      "text/plain": [
       "  [64,1] = 64 - KP3input         ()"
      ]
     },
     "metadata": {},
     "output_type": "display_data"
    },
    {
     "data": {
      "text/plain": [
       "  [65,1] = 65 - KSiinput         ()"
      ]
     },
     "metadata": {},
     "output_type": "display_data"
    },
    {
     "data": {
      "text/plain": [
       "  [66,1] = 66 - K0output         ()"
      ]
     },
     "metadata": {},
     "output_type": "display_data"
    },
    {
     "data": {
      "text/plain": [
       "  [67,1] = 67 - K1output         ()"
      ]
     },
     "metadata": {},
     "output_type": "display_data"
    },
    {
     "data": {
      "text/plain": [
       "  [68,1] = 68 - K2output         ()"
      ]
     },
     "metadata": {},
     "output_type": "display_data"
    },
    {
     "data": {
      "text/plain": [
       "  [69,1] = 69 - pK1output        ()"
      ]
     },
     "metadata": {},
     "output_type": "display_data"
    },
    {
     "data": {
      "text/plain": [
       "  [70,1] = 70 - pK2output        ()"
      ]
     },
     "metadata": {},
     "output_type": "display_data"
    },
    {
     "data": {
      "text/plain": [
       "  [71,1] = 71 - KWoutput         ()"
      ]
     },
     "metadata": {},
     "output_type": "display_data"
    },
    {
     "data": {
      "text/plain": [
       "  [72,1] = 72 - KBoutput         ()"
      ]
     },
     "metadata": {},
     "output_type": "display_data"
    },
    {
     "data": {
      "text/plain": [
       "  [73,1] = 73 - KFoutput         ()"
      ]
     },
     "metadata": {},
     "output_type": "display_data"
    },
    {
     "data": {
      "text/plain": [
       "  [74,1] = 74 - KSoutput         ()"
      ]
     },
     "metadata": {},
     "output_type": "display_data"
    },
    {
     "data": {
      "text/plain": [
       "  [75,1] = 75 - KP1output        ()"
      ]
     },
     "metadata": {},
     "output_type": "display_data"
    },
    {
     "data": {
      "text/plain": [
       "  [76,1] = 76 - KP2output        ()"
      ]
     },
     "metadata": {},
     "output_type": "display_data"
    },
    {
     "data": {
      "text/plain": [
       "  [77,1] = 77 - KP3output        ()"
      ]
     },
     "metadata": {},
     "output_type": "display_data"
    },
    {
     "data": {
      "text/plain": [
       "  [78,1] = 78 - KSioutput        ()"
      ]
     },
     "metadata": {},
     "output_type": "display_data"
    },
    {
     "data": {
      "text/plain": [
       "  [79,1] = 79 - TB               (umol/kgSW)"
      ]
     },
     "metadata": {},
     "output_type": "display_data"
    },
    {
     "data": {
      "text/plain": [
       "  [80,1] = 80 - TF               (umol/kgSW)"
      ]
     },
     "metadata": {},
     "output_type": "display_data"
    },
    {
     "data": {
      "text/plain": [
       "  [81,1] = 81 - TS               (umol/kgSW)"
      ]
     },
     "metadata": {},
     "output_type": "display_data"
    },
    {
     "data": {
      "text/plain": [
       "}"
      ]
     },
     "metadata": {},
     "output_type": "display_data"
    }
   ],
   "source": [
    "%%octave\n",
    "dnice"
   ]
  },
  {
   "cell_type": "markdown",
   "metadata": {},
   "source": [
    "### 3.2 Verify check values for K1 & K2 from Waters et al. (2014), a formulation added to CO2SYS.m by J. Orr"
   ]
  },
  {
   "cell_type": "code",
   "execution_count": 11,
   "metadata": {
    "scrolled": false
   },
   "outputs": [
    {
     "data": {
      "text/plain": [
       "pK1 =  5.8404"
      ]
     },
     "metadata": {},
     "output_type": "display_data"
    },
    {
     "data": {
      "text/plain": [
       "pK2 =  8.9662"
      ]
     },
     "metadata": {},
     "output_type": "display_data"
    }
   ],
   "source": [
    "%%octave\n",
    "K1 = d(54) ; pK1 = -log10(K1) #Check value from Waters et al. (2014) is pK1 = 5.8404 (seawater scale)\n",
    "K2 = d(55) ; pK2 = -log10(K2) #Check value from Waters et al. (2014) is pK2 = 8.9662 (seawater scale)"
   ]
  },
  {
   "cell_type": "markdown",
   "metadata": {},
   "source": [
    "These values should check exactly."
   ]
  },
  {
   "cell_type": "markdown",
   "metadata": {},
   "source": [
    "IMPORTANT: The constants from Waters et al. (2014) are an update of those from Millero (2010), for which inconsistencies were identified (Orr and Epitalon, 2015; Orr et al. 2015).  I have tested constants from Waters et al. (2014), and they no longer show these inconsistencies. Therefore, they should be used in place of the constants from Millero (2010), which should no longer be used."
   ]
  },
  {
   "cell_type": "markdown",
   "metadata": {},
   "source": [
    "### 3.3 Parameters recommended for Best Practices (Dickson et al., 2007; Dickson, 2010)"
   ]
  },
  {
   "cell_type": "code",
   "execution_count": 12,
   "metadata": {},
   "outputs": [],
   "source": [
    "%%octave\n",
    "\n",
    "    pHSCALEIN = 1;      % pH scale (1=total, 2=seawater, 3=NBS, 4=Free)\n",
    "    K1K2CONSTANTS = 10; % K1 & K2 (two best choices): 10=Lueker et al. (2000); 15=Waters et al. (2014)\n",
    "    KSO4CONSTANTS = 1;  % KSO4 of Dickson (1990a) & Total dissolved boron (Bt) from Uppstrom (1974)\n",
    "    \n",
    "    \n",
    "[d, dhdr, dnice] = CO2SYS (PAR1, PAR2, PAR1TYPE, PAR2TYPE, SAL, TEMPIN, TEMPOUT, PRESIN, PRESOUT, SI, PO4,...\n",
    "                             pHSCALEIN, K1K2CONSTANTS, KSO4CONSTANTS);   \n"
   ]
  },
  {
   "cell_type": "markdown",
   "metadata": {},
   "source": [
    "### 3.4 Display the calculated results when only 1 set of measurements (n=1), e.g., on 1 Niskin bottle"
   ]
  },
  {
   "cell_type": "markdown",
   "metadata": {},
   "source": [
    "Show it all"
   ]
  },
  {
   "cell_type": "code",
   "execution_count": 13,
   "metadata": {},
   "outputs": [
    {
     "data": {
      "text/plain": [
       "d ="
      ]
     },
     "metadata": {},
     "output_type": "display_data"
    },
    {
     "data": {
      "text/plain": []
     },
     "metadata": {},
     "output_type": "display_data"
    },
    {
     "data": {
      "text/plain": [
       " Columns 1 through 6:"
      ]
     },
     "metadata": {},
     "output_type": "display_data"
    },
    {
     "data": {
      "text/plain": []
     },
     "metadata": {},
     "output_type": "display_data"
    },
    {
     "data": {
      "text/plain": [
       "   2.3000e+03   2.0000e+03   8.0384e+00   4.0459e+02   4.0330e+02   1.7784e+03"
      ]
     },
     "metadata": {},
     "output_type": "display_data"
    },
    {
     "data": {
      "text/plain": []
     },
     "metadata": {},
     "output_type": "display_data"
    },
    {
     "data": {
      "text/plain": [
       " Columns 7 through 12:"
      ]
     },
     "metadata": {},
     "output_type": "display_data"
    },
    {
     "data": {
      "text/plain": []
     },
     "metadata": {},
     "output_type": "display_data"
    },
    {
     "data": {
      "text/plain": [
       "   2.1011e+02   1.1451e+01   8.9914e+01   6.5758e+00   2.2831e+00   2.5735e+00"
      ]
     },
     "metadata": {},
     "output_type": "display_data"
    },
    {
     "data": {
      "text/plain": []
     },
     "metadata": {},
     "output_type": "display_data"
    },
    {
     "data": {
      "text/plain": [
       " Columns 13 through 18:"
      ]
     },
     "metadata": {},
     "output_type": "display_data"
    },
    {
     "data": {
      "text/plain": []
     },
     "metadata": {},
     "output_type": "display_data"
    },
    {
     "data": {
      "text/plain": [
       "   7.1435e-03   9.5780e+00   5.0579e+00   3.3339e+00   4.1739e+02   8.0384e+00"
      ]
     },
     "metadata": {},
     "output_type": "display_data"
    },
    {
     "data": {
      "text/plain": []
     },
     "metadata": {},
     "output_type": "display_data"
    },
    {
     "data": {
      "text/plain": [
       " Columns 19 through 24:"
      ]
     },
     "metadata": {},
     "output_type": "display_data"
    },
    {
     "data": {
      "text/plain": []
     },
     "metadata": {},
     "output_type": "display_data"
    },
    {
     "data": {
      "text/plain": [
       "   4.0459e+02   4.0330e+02   1.7784e+03   2.1011e+02   1.1451e+01   8.9914e+01"
      ]
     },
     "metadata": {},
     "output_type": "display_data"
    },
    {
     "data": {
      "text/plain": []
     },
     "metadata": {},
     "output_type": "display_data"
    },
    {
     "data": {
      "text/plain": [
       " Columns 25 through 30:"
      ]
     },
     "metadata": {},
     "output_type": "display_data"
    },
    {
     "data": {
      "text/plain": []
     },
     "metadata": {},
     "output_type": "display_data"
    },
    {
     "data": {
      "text/plain": [
       "   6.5758e+00   2.2831e+00   2.5735e+00   7.1435e-03   9.5780e+00   5.0579e+00"
      ]
     },
     "metadata": {},
     "output_type": "display_data"
    },
    {
     "data": {
      "text/plain": []
     },
     "metadata": {},
     "output_type": "display_data"
    },
    {
     "data": {
      "text/plain": [
       " Columns 31 through 36:"
      ]
     },
     "metadata": {},
     "output_type": "display_data"
    },
    {
     "data": {
      "text/plain": []
     },
     "metadata": {},
     "output_type": "display_data"
    },
    {
     "data": {
      "text/plain": [
       "   3.3339e+00   4.1739e+02   8.0384e+00   8.0287e+00   8.1461e+00   8.1754e+00"
      ]
     },
     "metadata": {},
     "output_type": "display_data"
    },
    {
     "data": {
      "text/plain": []
     },
     "metadata": {},
     "output_type": "display_data"
    },
    {
     "data": {
      "text/plain": [
       " Columns 37 through 42:"
      ]
     },
     "metadata": {},
     "output_type": "display_data"
    },
    {
     "data": {
      "text/plain": []
     },
     "metadata": {},
     "output_type": "display_data"
    },
    {
     "data": {
      "text/plain": [
       "   8.0384e+00   8.0287e+00   8.1461e+00   8.1754e+00   2.5000e+01   2.5000e+01"
      ]
     },
     "metadata": {},
     "output_type": "display_data"
    },
    {
     "data": {
      "text/plain": []
     },
     "metadata": {},
     "output_type": "display_data"
    },
    {
     "data": {
      "text/plain": [
       " Columns 43 through 48:"
      ]
     },
     "metadata": {},
     "output_type": "display_data"
    },
    {
     "data": {
      "text/plain": []
     },
     "metadata": {},
     "output_type": "display_data"
    },
    {
     "data": {
      "text/plain": [
       "   0.0000e+00   0.0000e+00   1.0000e+00   2.0000e+00   1.0000e+01   1.0000e+00"
      ]
     },
     "metadata": {},
     "output_type": "display_data"
    },
    {
     "data": {
      "text/plain": []
     },
     "metadata": {},
     "output_type": "display_data"
    },
    {
     "data": {
      "text/plain": [
       " Columns 49 through 54:"
      ]
     },
     "metadata": {},
     "output_type": "display_data"
    },
    {
     "data": {
      "text/plain": []
     },
     "metadata": {},
     "output_type": "display_data"
    },
    {
     "data": {
      "text/plain": [
       "   1.0000e+00   3.5000e+01   2.0000e+00   6.0000e+01   2.8392e-02   1.4218e-06"
      ]
     },
     "metadata": {},
     "output_type": "display_data"
    },
    {
     "data": {
      "text/plain": []
     },
     "metadata": {},
     "output_type": "display_data"
    },
    {
     "data": {
      "text/plain": [
       " Columns 55 through 60:"
      ]
     },
     "metadata": {},
     "output_type": "display_data"
    },
    {
     "data": {
      "text/plain": []
     },
     "metadata": {},
     "output_type": "display_data"
    },
    {
     "data": {
      "text/plain": [
       "   1.0816e-09   5.8472e+00   8.9660e+00   6.0198e-14   2.5266e-09   2.3655e-03"
      ]
     },
     "metadata": {},
     "output_type": "display_data"
    },
    {
     "data": {
      "text/plain": []
     },
     "metadata": {},
     "output_type": "display_data"
    },
    {
     "data": {
      "text/plain": [
       " Columns 61 through 66:"
      ]
     },
     "metadata": {},
     "output_type": "display_data"
    },
    {
     "data": {
      "text/plain": []
     },
     "metadata": {},
     "output_type": "display_data"
    },
    {
     "data": {
      "text/plain": [
       "   1.0030e-01   2.4265e-02   1.0841e-06   1.6125e-09   4.1025e-10   2.8392e-02"
      ]
     },
     "metadata": {},
     "output_type": "display_data"
    },
    {
     "data": {
      "text/plain": []
     },
     "metadata": {},
     "output_type": "display_data"
    },
    {
     "data": {
      "text/plain": [
       " Columns 67 through 72:"
      ]
     },
     "metadata": {},
     "output_type": "display_data"
    },
    {
     "data": {
      "text/plain": []
     },
     "metadata": {},
     "output_type": "display_data"
    },
    {
     "data": {
      "text/plain": [
       "   1.4218e-06   1.0816e-09   5.8472e+00   8.9660e+00   6.0198e-14   2.5266e-09"
      ]
     },
     "metadata": {},
     "output_type": "display_data"
    },
    {
     "data": {
      "text/plain": []
     },
     "metadata": {},
     "output_type": "display_data"
    },
    {
     "data": {
      "text/plain": [
       " Columns 73 through 78:"
      ]
     },
     "metadata": {},
     "output_type": "display_data"
    },
    {
     "data": {
      "text/plain": []
     },
     "metadata": {},
     "output_type": "display_data"
    },
    {
     "data": {
      "text/plain": [
       "   2.3655e-03   1.0030e-01   2.4265e-02   1.0841e-06   1.6125e-09   4.1025e-10"
      ]
     },
     "metadata": {},
     "output_type": "display_data"
    },
    {
     "data": {
      "text/plain": []
     },
     "metadata": {},
     "output_type": "display_data"
    },
    {
     "data": {
      "text/plain": [
       " Columns 79 through 81:"
      ]
     },
     "metadata": {},
     "output_type": "display_data"
    },
    {
     "data": {
      "text/plain": []
     },
     "metadata": {},
     "output_type": "display_data"
    },
    {
     "data": {
      "text/plain": [
       "   4.1570e+02   6.8326e+01   2.8235e+04"
      ]
     },
     "metadata": {},
     "output_type": "display_data"
    },
    {
     "data": {
      "text/plain": []
     },
     "metadata": {},
     "output_type": "display_data"
    }
   ],
   "source": [
    "%%octave\n",
    "d"
   ]
  },
  {
   "cell_type": "code",
   "execution_count": 14,
   "metadata": {},
   "outputs": [
    {
     "data": {
      "text/plain": [
       "'CO2SYS' is a function from the file /homel/orr/Software/MATLAB/CO2SYS-MATLAB/src/CO2SYS.m"
      ]
     },
     "metadata": {},
     "output_type": "display_data"
    },
    {
     "data": {
      "text/plain": []
     },
     "metadata": {},
     "output_type": "display_data"
    },
    {
     "data": {
      "text/plain": [
       "**************************************************************************"
      ]
     },
     "metadata": {},
     "output_type": "display_data"
    },
    {
     "data": {
      "text/plain": []
     },
     "metadata": {},
     "output_type": "display_data"
    },
    {
     "data": {
      "text/plain": [
       " First   CO2SYS.m version: 1.1 (Sep 2011)"
      ]
     },
     "metadata": {},
     "output_type": "display_data"
    },
    {
     "data": {
      "text/plain": [
       " Current CO2SYS.m version: 2.0 (20 Dec 2016)"
      ]
     },
     "metadata": {},
     "output_type": "display_data"
    },
    {
     "data": {
      "text/plain": []
     },
     "metadata": {},
     "output_type": "display_data"
    },
    {
     "data": {
      "text/plain": [
       " CO2SYS is a MATLAB-version of the original CO2SYS for DOS."
      ]
     },
     "metadata": {},
     "output_type": "display_data"
    },
    {
     "data": {
      "text/plain": [
       " CO2SYS calculates and returns the state of the carbonate system of"
      ]
     },
     "metadata": {},
     "output_type": "display_data"
    },
    {
     "data": {
      "text/plain": [
       "    oceanographic water samples, if supplied with enough input."
      ]
     },
     "metadata": {},
     "output_type": "display_data"
    },
    {
     "data": {
      "text/plain": []
     },
     "metadata": {},
     "output_type": "display_data"
    },
    {
     "data": {
      "text/plain": [
       " Please note that this software is intended to be exactly identical to the"
      ]
     },
     "metadata": {},
     "output_type": "display_data"
    },
    {
     "data": {
      "text/plain": [
       "    DOS and Excel versions that have been released previously, meaning that"
      ]
     },
     "metadata": {},
     "output_type": "display_data"
    },
    {
     "data": {
      "text/plain": [
       "    results obtained should be very nearly indentical for identical input."
      ]
     },
     "metadata": {},
     "output_type": "display_data"
    },
    {
     "data": {
      "text/plain": [
       " Additionally, several of the dissociation constants K1 and K2 that have"
      ]
     },
     "metadata": {},
     "output_type": "display_data"
    },
    {
     "data": {
      "text/plain": [
       "    been published since the original DOS version was written are implemented."
      ]
     },
     "metadata": {},
     "output_type": "display_data"
    },
    {
     "data": {
      "text/plain": [
       "    For a complete list of changes since version 1.0, see below."
      ]
     },
     "metadata": {},
     "output_type": "display_data"
    },
    {
     "data": {
      "text/plain": []
     },
     "metadata": {},
     "output_type": "display_data"
    },
    {
     "data": {
      "text/plain": [
       " For much more info please have a look at:"
      ]
     },
     "metadata": {},
     "output_type": "display_data"
    },
    {
     "data": {
      "text/plain": [
       "    Lewis, E., and D. W. R. Wallace. 1998. Program Developed for"
      ]
     },
     "metadata": {},
     "output_type": "display_data"
    },
    {
     "data": {
      "text/plain": [
       "    CO2 System Calculations. ORNL/CDIAC-105. Carbon Dioxide Information"
      ]
     },
     "metadata": {},
     "output_type": "display_data"
    },
    {
     "data": {
      "text/plain": [
       "    Analysis Center, Oak Ridge National Laboratory, U.S. Department of Energy,"
      ]
     },
     "metadata": {},
     "output_type": "display_data"
    },
    {
     "data": {
      "text/plain": [
       "    Oak Ridge, Tennessee."
      ]
     },
     "metadata": {},
     "output_type": "display_data"
    },
    {
     "data": {
      "text/plain": [
       "    http://cdiac.ornl.gov/oceans/co2rprt.html"
      ]
     },
     "metadata": {},
     "output_type": "display_data"
    },
    {
     "data": {
      "text/plain": []
     },
     "metadata": {},
     "output_type": "display_data"
    },
    {
     "data": {
      "text/plain": [
       "**************************************************************************"
      ]
     },
     "metadata": {},
     "output_type": "display_data"
    },
    {
     "data": {
      "text/plain": []
     },
     "metadata": {},
     "output_type": "display_data"
    },
    {
     "data": {
      "text/plain": [
       "  **** SYNTAX:"
      ]
     },
     "metadata": {},
     "output_type": "display_data"
    },
    {
     "data": {
      "text/plain": [
       "  [RESULT,HEADERS,NICEHEADERS]=CO2SYS(PAR1,PAR2,PAR1TYPE,PAR2TYPE,..."
      ]
     },
     "metadata": {},
     "output_type": "display_data"
    },
    {
     "data": {
      "text/plain": [
       "        ...SAL,TEMPIN,TEMPOUT,PRESIN,PRESOUT,SI,PO4,pHSCALEIN,..."
      ]
     },
     "metadata": {},
     "output_type": "display_data"
    },
    {
     "data": {
      "text/plain": [
       "        ...K1K2CONSTANTS,KSO4CONSTANTS)"
      ]
     },
     "metadata": {},
     "output_type": "display_data"
    },
    {
     "data": {
      "text/plain": []
     },
     "metadata": {},
     "output_type": "display_data"
    },
    {
     "data": {
      "text/plain": [
       "  **** SYNTAX EXAMPLES:"
      ]
     },
     "metadata": {},
     "output_type": "display_data"
    },
    {
     "data": {
      "text/plain": [
       "  [Result]                     = CO2SYS(2400,2200,1,2,35,0,25,4200,0,15,1,1,4,1)"
      ]
     },
     "metadata": {},
     "output_type": "display_data"
    },
    {
     "data": {
      "text/plain": [
       "  [Result,Headers]             = CO2SYS(2400,   8,1,3,35,0,25,4200,0,15,1,1,4,1)"
      ]
     },
     "metadata": {},
     "output_type": "display_data"
    },
    {
     "data": {
      "text/plain": [
       "  [Result,Headers,Niceheaders] = CO2SYS( 500,   8,5,3,35,0,25,4200,0,15,1,1,4,1)"
      ]
     },
     "metadata": {},
     "output_type": "display_data"
    },
    {
     "data": {
      "text/plain": [
       "  [A]                          = CO2SYS(2400,2000:10:2400,1,2,35,0,25,4200,0,15,1,1,4,1)"
      ]
     },
     "metadata": {},
     "output_type": "display_data"
    },
    {
     "data": {
      "text/plain": [
       "  [A]                          = CO2SYS(2400,2200,1,2,0:1:35,0,25,4200,0,15,1,1,4,1)"
      ]
     },
     "metadata": {},
     "output_type": "display_data"
    },
    {
     "data": {
      "text/plain": [
       "  [A]                          = CO2SYS(2400,2200,1,2,35,0,25,0:100:4200,0,15,1,1,4,1)"
      ]
     },
     "metadata": {},
     "output_type": "display_data"
    },
    {
     "data": {
      "text/plain": []
     },
     "metadata": {},
     "output_type": "display_data"
    },
    {
     "data": {
      "text/plain": [
       "  **** APPLICATION EXAMPLE (copy and paste this into command window):"
      ]
     },
     "metadata": {},
     "output_type": "display_data"
    },
    {
     "data": {
      "text/plain": [
       "  tmps=0:40; sals=0:40; [X,Y]=meshgrid(tmps,sals);"
      ]
     },
     "metadata": {},
     "output_type": "display_data"
    },
    {
     "data": {
      "text/plain": [
       "  A = CO2SYS(2300,2100,1,2,Y(:),X(:),nan,0,nan,1,1,1,9,1);"
      ]
     },
     "metadata": {},
     "output_type": "display_data"
    },
    {
     "data": {
      "text/plain": [
       "  Z=nan(size(X)); Z(:)=A(:,4); figure; contourf(X,Y,Z,20); caxis([0 1200]); colorbar;"
      ]
     },
     "metadata": {},
     "output_type": "display_data"
    },
    {
     "data": {
      "text/plain": [
       "  ylabel('Salinity [psu]'); xlabel('Temperature [degC]'); title('Dependence of pCO2 [uatm] on T and S')"
      ]
     },
     "metadata": {},
     "output_type": "display_data"
    },
    {
     "data": {
      "text/plain": []
     },
     "metadata": {},
     "output_type": "display_data"
    },
    {
     "data": {
      "text/plain": [
       "**************************************************************************"
      ]
     },
     "metadata": {},
     "output_type": "display_data"
    },
    {
     "data": {
      "text/plain": []
     },
     "metadata": {},
     "output_type": "display_data"
    },
    {
     "data": {
      "text/plain": [
       " INPUT:"
      ]
     },
     "metadata": {},
     "output_type": "display_data"
    },
    {
     "data": {
      "text/plain": []
     },
     "metadata": {},
     "output_type": "display_data"
    },
    {
     "data": {
      "text/plain": [
       "   PAR1  (some unit) : scalar or vector of size n"
      ]
     },
     "metadata": {},
     "output_type": "display_data"
    },
    {
     "data": {
      "text/plain": [
       "   PAR2  (some unit) : scalar or vector of size n"
      ]
     },
     "metadata": {},
     "output_type": "display_data"
    },
    {
     "data": {
      "text/plain": [
       "   PAR1TYPE       () : scalar or vector of size n (*)"
      ]
     },
     "metadata": {},
     "output_type": "display_data"
    },
    {
     "data": {
      "text/plain": [
       "   PAR2TYPE       () : scalar or vector of size n (*)"
      ]
     },
     "metadata": {},
     "output_type": "display_data"
    },
    {
     "data": {
      "text/plain": [
       "   SAL            () : scalar or vector of size n"
      ]
     },
     "metadata": {},
     "output_type": "display_data"
    },
    {
     "data": {
      "text/plain": [
       "   TEMPIN  (degr. C) : scalar or vector of size n"
      ]
     },
     "metadata": {},
     "output_type": "display_data"
    },
    {
     "data": {
      "text/plain": [
       "   TEMPOUT (degr. C) : scalar or vector of size n"
      ]
     },
     "metadata": {},
     "output_type": "display_data"
    },
    {
     "data": {
      "text/plain": [
       "   PRESIN     (dbar) : scalar or vector of size n"
      ]
     },
     "metadata": {},
     "output_type": "display_data"
    },
    {
     "data": {
      "text/plain": [
       "   PRESOUT    (dbar) : scalar or vector of size n"
      ]
     },
     "metadata": {},
     "output_type": "display_data"
    },
    {
     "data": {
      "text/plain": [
       "   SI    (umol/kgSW) : scalar or vector of size n"
      ]
     },
     "metadata": {},
     "output_type": "display_data"
    },
    {
     "data": {
      "text/plain": [
       "   PO4   (umol/kgSW) : scalar or vector of size n"
      ]
     },
     "metadata": {},
     "output_type": "display_data"
    },
    {
     "data": {
      "text/plain": [
       "   pHSCALEIN         : scalar or vector of size n (**)"
      ]
     },
     "metadata": {},
     "output_type": "display_data"
    },
    {
     "data": {
      "text/plain": [
       "   K1K2CONSTANTS     : scalar or vector of size n (***)"
      ]
     },
     "metadata": {},
     "output_type": "display_data"
    },
    {
     "data": {
      "text/plain": [
       "   KSO4CONSTANTS     : scalar or vector of size n (****)"
      ]
     },
     "metadata": {},
     "output_type": "display_data"
    },
    {
     "data": {
      "text/plain": []
     },
     "metadata": {},
     "output_type": "display_data"
    },
    {
     "data": {
      "text/plain": [
       "  (*) Each element must be an integer,"
      ]
     },
     "metadata": {},
     "output_type": "display_data"
    },
    {
     "data": {
      "text/plain": [
       "      indicating that PAR1 (or PAR2) is of type:"
      ]
     },
     "metadata": {},
     "output_type": "display_data"
    },
    {
     "data": {
      "text/plain": [
       "  1 = Total Alkalinity"
      ]
     },
     "metadata": {},
     "output_type": "display_data"
    },
    {
     "data": {
      "text/plain": [
       "  2 = DIC"
      ]
     },
     "metadata": {},
     "output_type": "display_data"
    },
    {
     "data": {
      "text/plain": [
       "  3 = pH"
      ]
     },
     "metadata": {},
     "output_type": "display_data"
    },
    {
     "data": {
      "text/plain": [
       "  4 = pCO2"
      ]
     },
     "metadata": {},
     "output_type": "display_data"
    },
    {
     "data": {
      "text/plain": [
       "  5 = fCO2"
      ]
     },
     "metadata": {},
     "output_type": "display_data"
    },
    {
     "data": {
      "text/plain": []
     },
     "metadata": {},
     "output_type": "display_data"
    },
    {
     "data": {
      "text/plain": [
       "  (**) Each element must be an integer,"
      ]
     },
     "metadata": {},
     "output_type": "display_data"
    },
    {
     "data": {
      "text/plain": [
       "       indicating that the pH-input (PAR1 or PAR2, if any) is at:"
      ]
     },
     "metadata": {},
     "output_type": "display_data"
    },
    {
     "data": {
      "text/plain": [
       "  1 = Total scale"
      ]
     },
     "metadata": {},
     "output_type": "display_data"
    },
    {
     "data": {
      "text/plain": [
       "  2 = Seawater scale"
      ]
     },
     "metadata": {},
     "output_type": "display_data"
    },
    {
     "data": {
      "text/plain": [
       "  3 = Free scale"
      ]
     },
     "metadata": {},
     "output_type": "display_data"
    },
    {
     "data": {
      "text/plain": [
       "  4 = NBS scale"
      ]
     },
     "metadata": {},
     "output_type": "display_data"
    },
    {
     "data": {
      "text/plain": []
     },
     "metadata": {},
     "output_type": "display_data"
    },
    {
     "data": {
      "text/plain": [
       "  (***) Each element must be an integer,"
      ]
     },
     "metadata": {},
     "output_type": "display_data"
    },
    {
     "data": {
      "text/plain": [
       "        indicating the K1 K2 dissociation constants that are to be used:"
      ]
     },
     "metadata": {},
     "output_type": "display_data"
    },
    {
     "data": {
      "text/plain": [
       "   1 = Roy, 1993\t\t\t\t\t\t\t\t\t\t\tT:    0-45  S:  5-45. Total scale. Artificial seawater."
      ]
     },
     "metadata": {},
     "output_type": "display_data"
    },
    {
     "data": {
      "text/plain": [
       "   2 = Goyet & Poisson\t\t\t\t\t\t\t\t\t\tT:   -1-40  S: 10-50. Seaw. scale. Artificial seawater."
      ]
     },
     "metadata": {},
     "output_type": "display_data"
    },
    {
     "data": {
      "text/plain": [
       "   3 = HANSSON              refit BY DICKSON AND MILLERO\tT:    2-35  S: 20-40. Seaw. scale. Artificial seawater."
      ]
     },
     "metadata": {},
     "output_type": "display_data"
    },
    {
     "data": {
      "text/plain": [
       "   4 = MEHRBACH             refit BY DICKSON AND MILLERO\tT:    2-35  S: 20-40. Seaw. scale. Artificial seawater."
      ]
     },
     "metadata": {},
     "output_type": "display_data"
    },
    {
     "data": {
      "text/plain": [
       "   5 = HANSSON and MEHRBACH refit BY DICKSON AND MILLERO\tT:    2-35  S: 20-40. Seaw. scale. Artificial seawater."
      ]
     },
     "metadata": {},
     "output_type": "display_data"
    },
    {
     "data": {
      "text/plain": [
       "   6 = GEOSECS (i.e., original Mehrbach)\t\t\t\t\tT:    2-35  S: 19-43. NBS scale.   Real seawater."
      ]
     },
     "metadata": {},
     "output_type": "display_data"
    },
    {
     "data": {
      "text/plain": [
       "   7 = Peng\t(i.e., originam Mehrbach but without XXX)\tT:    2-35  S: 19-43. NBS scale.   Real seawater."
      ]
     },
     "metadata": {},
     "output_type": "display_data"
    },
    {
     "data": {
      "text/plain": [
       "   8 = Millero, 1979, FOR PURE WATER ONLY (i.e., Sal=0)\tT:    0-50  S:     0."
      ]
     },
     "metadata": {},
     "output_type": "display_data"
    },
    {
     "data": {
      "text/plain": [
       "   9 = Cai and Wang, 1998\t\t\t\t\t\t\t\t\tT:    2-35  S:  0-49. NBS scale.   Real and artificial seawater."
      ]
     },
     "metadata": {},
     "output_type": "display_data"
    },
    {
     "data": {
      "text/plain": [
       "  10 = Lueker et al, 2000\t\t\t\t\t\t\t\t\tT:    2-35  S: 19-43. Total scale. Real seawater."
      ]
     },
     "metadata": {},
     "output_type": "display_data"
    },
    {
     "data": {
      "text/plain": [
       "  11 = Mojica Prieto and Millero, 2002.\t\t\t\t\tT:    0-45  S:  5-42. Seaw. scale. Real seawater"
      ]
     },
     "metadata": {},
     "output_type": "display_data"
    },
    {
     "data": {
      "text/plain": [
       "  12 = Millero et al, 2002\t\t\t\t\t\t\t\t\tT: -1.6-35  S: 34-37. Seaw. scale. Field measurements."
      ]
     },
     "metadata": {},
     "output_type": "display_data"
    },
    {
     "data": {
      "text/plain": [
       "  13 = Millero et al, 2006\t\t\t\t\t\t\t\t\tT:    0-50  S:  1-50. Seaw. scale. Real seawater."
      ]
     },
     "metadata": {},
     "output_type": "display_data"
    },
    {
     "data": {
      "text/plain": [
       "  14 = Millero        2010  \t\t\t\t\t\t\t\t\tT:    0-50  S:  1-50. Seaw. scale. Real seawater."
      ]
     },
     "metadata": {},
     "output_type": "display_data"
    },
    {
     "data": {
      "text/plain": [
       "  15 = Waters, Millero, & Woosley 2014  \t\t\t\t\t\t\tT:    0-50  S:  1-50. Seaw. scale. Real seawater."
      ]
     },
     "metadata": {},
     "output_type": "display_data"
    },
    {
     "data": {
      "text/plain": []
     },
     "metadata": {},
     "output_type": "display_data"
    },
    {
     "data": {
      "text/plain": [
       "  (****) Each element must be an integer that"
      ]
     },
     "metadata": {},
     "output_type": "display_data"
    },
    {
     "data": {
      "text/plain": [
       "         indicates the KSO4 dissociation constants that are to be used,"
      ]
     },
     "metadata": {},
     "output_type": "display_data"
    },
    {
     "data": {
      "text/plain": [
       "         in combination with the formulation of the borate-to-salinity ratio to be used."
      ]
     },
     "metadata": {},
     "output_type": "display_data"
    },
    {
     "data": {
      "text/plain": [
       "         Having both these choices in a single argument is somewhat awkward,"
      ]
     },
     "metadata": {},
     "output_type": "display_data"
    },
    {
     "data": {
      "text/plain": [
       "         but it maintains syntax compatibility with the previous version."
      ]
     },
     "metadata": {},
     "output_type": "display_data"
    },
    {
     "data": {
      "text/plain": [
       "  1 = KSO4 of Dickson 1990a   & TB of Uppstrom 1974  (PREFERRED)"
      ]
     },
     "metadata": {},
     "output_type": "display_data"
    },
    {
     "data": {
      "text/plain": [
       "  2 = KSO4 of Khoo et al 1977 & TB of Uppstrom 1974"
      ]
     },
     "metadata": {},
     "output_type": "display_data"
    },
    {
     "data": {
      "text/plain": [
       "  3 = KSO4 of Dickson 1990a   & TB of Lee 2010"
      ]
     },
     "metadata": {},
     "output_type": "display_data"
    },
    {
     "data": {
      "text/plain": [
       "  4 = KSO4 of Khoo et al 1977 & TB of Lee 2010"
      ]
     },
     "metadata": {},
     "output_type": "display_data"
    },
    {
     "data": {
      "text/plain": []
     },
     "metadata": {},
     "output_type": "display_data"
    },
    {
     "data": {
      "text/plain": [
       "**************************************************************************%"
      ]
     },
     "metadata": {},
     "output_type": "display_data"
    },
    {
     "data": {
      "text/plain": []
     },
     "metadata": {},
     "output_type": "display_data"
    },
    {
     "data": {
      "text/plain": [
       " OUTPUT: * an array containing the following parameter values (one row per sample):"
      ]
     },
     "metadata": {},
     "output_type": "display_data"
    },
    {
     "data": {
      "text/plain": [
       "         *  a cell-array containing crudely formatted headers"
      ]
     },
     "metadata": {},
     "output_type": "display_data"
    },
    {
     "data": {
      "text/plain": [
       "         *  a cell-array containing nicely formatted headers"
      ]
     },
     "metadata": {},
     "output_type": "display_data"
    },
    {
     "data": {
      "text/plain": []
     },
     "metadata": {},
     "output_type": "display_data"
    },
    {
     "data": {
      "text/plain": [
       "    POS  PARAMETER        UNIT"
      ]
     },
     "metadata": {},
     "output_type": "display_data"
    },
    {
     "data": {
      "text/plain": []
     },
     "metadata": {},
     "output_type": "display_data"
    },
    {
     "data": {
      "text/plain": [
       "    01 - TAlk                 (umol/kgSW)"
      ]
     },
     "metadata": {},
     "output_type": "display_data"
    },
    {
     "data": {
      "text/plain": [
       "    02 - TCO2                 (umol/kgSW)"
      ]
     },
     "metadata": {},
     "output_type": "display_data"
    },
    {
     "data": {
      "text/plain": [
       "    03 - pHin                 ()"
      ]
     },
     "metadata": {},
     "output_type": "display_data"
    },
    {
     "data": {
      "text/plain": [
       "    04 - pCO2 input           (uatm)"
      ]
     },
     "metadata": {},
     "output_type": "display_data"
    },
    {
     "data": {
      "text/plain": [
       "    05 - fCO2 input           (uatm)"
      ]
     },
     "metadata": {},
     "output_type": "display_data"
    },
    {
     "data": {
      "text/plain": [
       "    06 - HCO3 input           (umol/kgSW)"
      ]
     },
     "metadata": {},
     "output_type": "display_data"
    },
    {
     "data": {
      "text/plain": [
       "    07 - CO3 input            (umol/kgSW)"
      ]
     },
     "metadata": {},
     "output_type": "display_data"
    },
    {
     "data": {
      "text/plain": [
       "    08 - CO2 input            (umol/kgSW)"
      ]
     },
     "metadata": {},
     "output_type": "display_data"
    },
    {
     "data": {
      "text/plain": [
       "    09 - BAlk input           (umol/kgSW)"
      ]
     },
     "metadata": {},
     "output_type": "display_data"
    },
    {
     "data": {
      "text/plain": [
       "    10 - OH input             (umol/kgSW)"
      ]
     },
     "metadata": {},
     "output_type": "display_data"
    },
    {
     "data": {
      "text/plain": [
       "    11 - PAlk input           (umol/kgSW)"
      ]
     },
     "metadata": {},
     "output_type": "display_data"
    },
    {
     "data": {
      "text/plain": [
       "    12 - SiAlk input          (umol/kgSW)"
      ]
     },
     "metadata": {},
     "output_type": "display_data"
    },
    {
     "data": {
      "text/plain": [
       "    13 - Hfree input          (umol/kgSW)"
      ]
     },
     "metadata": {},
     "output_type": "display_data"
    },
    {
     "data": {
      "text/plain": [
       "    14 - RevelleFactor input  ()"
      ]
     },
     "metadata": {},
     "output_type": "display_data"
    },
    {
     "data": {
      "text/plain": [
       "    15 - OmegaCa input        ()"
      ]
     },
     "metadata": {},
     "output_type": "display_data"
    },
    {
     "data": {
      "text/plain": [
       "    16 - OmegaAr input        ()"
      ]
     },
     "metadata": {},
     "output_type": "display_data"
    },
    {
     "data": {
      "text/plain": [
       "    17 - xCO2 input           (ppm)"
      ]
     },
     "metadata": {},
     "output_type": "display_data"
    },
    {
     "data": {
      "text/plain": [
       "    18 - pH output            ()"
      ]
     },
     "metadata": {},
     "output_type": "display_data"
    },
    {
     "data": {
      "text/plain": [
       "    19 - pCO2 output          (uatm)"
      ]
     },
     "metadata": {},
     "output_type": "display_data"
    },
    {
     "data": {
      "text/plain": [
       "    20 - fCO2 output          (uatm)"
      ]
     },
     "metadata": {},
     "output_type": "display_data"
    },
    {
     "data": {
      "text/plain": [
       "    21 - HCO3 output          (umol/kgSW)"
      ]
     },
     "metadata": {},
     "output_type": "display_data"
    },
    {
     "data": {
      "text/plain": [
       "    22 - CO3 output           (umol/kgSW)"
      ]
     },
     "metadata": {},
     "output_type": "display_data"
    },
    {
     "data": {
      "text/plain": [
       "    23 - CO2 output           (umol/kgSW)"
      ]
     },
     "metadata": {},
     "output_type": "display_data"
    },
    {
     "data": {
      "text/plain": [
       "    24 - BAlk output          (umol/kgSW)"
      ]
     },
     "metadata": {},
     "output_type": "display_data"
    },
    {
     "data": {
      "text/plain": [
       "    25 - OH output            (umol/kgSW)"
      ]
     },
     "metadata": {},
     "output_type": "display_data"
    },
    {
     "data": {
      "text/plain": [
       "    26 - PAlk output          (umol/kgSW)"
      ]
     },
     "metadata": {},
     "output_type": "display_data"
    },
    {
     "data": {
      "text/plain": [
       "    27 - SiAlk output         (umol/kgSW)"
      ]
     },
     "metadata": {},
     "output_type": "display_data"
    },
    {
     "data": {
      "text/plain": [
       "    28 - Hfree output         (umol/kgSW)"
      ]
     },
     "metadata": {},
     "output_type": "display_data"
    },
    {
     "data": {
      "text/plain": [
       "    29 - RevelleFactor output ()"
      ]
     },
     "metadata": {},
     "output_type": "display_data"
    },
    {
     "data": {
      "text/plain": [
       "    30 - OmegaCa output       ()"
      ]
     },
     "metadata": {},
     "output_type": "display_data"
    },
    {
     "data": {
      "text/plain": [
       "    31 - OmegaAr output       ()"
      ]
     },
     "metadata": {},
     "output_type": "display_data"
    },
    {
     "data": {
      "text/plain": [
       "    32 - xCO2 output          (ppm)"
      ]
     },
     "metadata": {},
     "output_type": "display_data"
    },
    {
     "data": {
      "text/plain": [
       "    33 - pH input (Total)     ()"
      ]
     },
     "metadata": {},
     "output_type": "display_data"
    },
    {
     "data": {
      "text/plain": [
       "    34 - pH input (SWS)       ()"
      ]
     },
     "metadata": {},
     "output_type": "display_data"
    },
    {
     "data": {
      "text/plain": [
       "    35 - pH input (Free)      ()"
      ]
     },
     "metadata": {},
     "output_type": "display_data"
    },
    {
     "data": {
      "text/plain": [
       "    36 - pH input (NBS)       ()"
      ]
     },
     "metadata": {},
     "output_type": "display_data"
    },
    {
     "data": {
      "text/plain": [
       "    37 - pH output (Total)    ()"
      ]
     },
     "metadata": {},
     "output_type": "display_data"
    },
    {
     "data": {
      "text/plain": [
       "    38 - pH output (SWS)      ()"
      ]
     },
     "metadata": {},
     "output_type": "display_data"
    },
    {
     "data": {
      "text/plain": [
       "    39 - pH output (Free)     ()"
      ]
     },
     "metadata": {},
     "output_type": "display_data"
    },
    {
     "data": {
      "text/plain": [
       "    40 - pH output (NBS)      ()"
      ]
     },
     "metadata": {},
     "output_type": "display_data"
    },
    {
     "data": {
      "text/plain": [
       "    41 - TEMP input           (deg C)     ***"
      ]
     },
     "metadata": {},
     "output_type": "display_data"
    },
    {
     "data": {
      "text/plain": [
       "    42 - TEMPOUT              (deg C)     ***"
      ]
     },
     "metadata": {},
     "output_type": "display_data"
    },
    {
     "data": {
      "text/plain": [
       "    43 - PRES input           (dbar or m) ***"
      ]
     },
     "metadata": {},
     "output_type": "display_data"
    },
    {
     "data": {
      "text/plain": [
       "    44 - PRESOUT              (dbar or m) ***"
      ]
     },
     "metadata": {},
     "output_type": "display_data"
    },
    {
     "data": {
      "text/plain": [
       "    45 - PAR1TYPE             (integer)   ***"
      ]
     },
     "metadata": {},
     "output_type": "display_data"
    },
    {
     "data": {
      "text/plain": [
       "    46 - PAR2TYPE             (integer)   ***"
      ]
     },
     "metadata": {},
     "output_type": "display_data"
    },
    {
     "data": {
      "text/plain": [
       "    47 - K1K2CONSTANTS        (integer)   ***"
      ]
     },
     "metadata": {},
     "output_type": "display_data"
    },
    {
     "data": {
      "text/plain": [
       "    48 - KSO4CONSTANTS        (integer)   ***"
      ]
     },
     "metadata": {},
     "output_type": "display_data"
    },
    {
     "data": {
      "text/plain": [
       "    49 - pHSCALE of input     (integer)   ***"
      ]
     },
     "metadata": {},
     "output_type": "display_data"
    },
    {
     "data": {
      "text/plain": [
       "    50 - SAL                  (psu)       ***"
      ]
     },
     "metadata": {},
     "output_type": "display_data"
    },
    {
     "data": {
      "text/plain": [
       "    51 - PO4                  (umol/kgSW) ***"
      ]
     },
     "metadata": {},
     "output_type": "display_data"
    },
    {
     "data": {
      "text/plain": [
       "    52 - SI                   (umol/kgSW) ***"
      ]
     },
     "metadata": {},
     "output_type": "display_data"
    },
    {
     "data": {
      "text/plain": [
       "    53 - K0  input            ()"
      ]
     },
     "metadata": {},
     "output_type": "display_data"
    },
    {
     "data": {
      "text/plain": [
       "    54 - K1  input            ()"
      ]
     },
     "metadata": {},
     "output_type": "display_data"
    },
    {
     "data": {
      "text/plain": [
       "    55 - K2  input            ()"
      ]
     },
     "metadata": {},
     "output_type": "display_data"
    },
    {
     "data": {
      "text/plain": [
       "    56 - pK1 input            ()"
      ]
     },
     "metadata": {},
     "output_type": "display_data"
    },
    {
     "data": {
      "text/plain": [
       "    57 - pK2 input            ()"
      ]
     },
     "metadata": {},
     "output_type": "display_data"
    },
    {
     "data": {
      "text/plain": [
       "    58 - KW  input            ()"
      ]
     },
     "metadata": {},
     "output_type": "display_data"
    },
    {
     "data": {
      "text/plain": [
       "    59 - KB  input            ()"
      ]
     },
     "metadata": {},
     "output_type": "display_data"
    },
    {
     "data": {
      "text/plain": [
       "    60 - KF  input            ()"
      ]
     },
     "metadata": {},
     "output_type": "display_data"
    },
    {
     "data": {
      "text/plain": [
       "    61 - KS  input            ()"
      ]
     },
     "metadata": {},
     "output_type": "display_data"
    },
    {
     "data": {
      "text/plain": [
       "    62 - KP1 input            ()"
      ]
     },
     "metadata": {},
     "output_type": "display_data"
    },
    {
     "data": {
      "text/plain": [
       "    63 - KP2 input            ()"
      ]
     },
     "metadata": {},
     "output_type": "display_data"
    },
    {
     "data": {
      "text/plain": [
       "    64 - KP3 input            ()"
      ]
     },
     "metadata": {},
     "output_type": "display_data"
    },
    {
     "data": {
      "text/plain": [
       "    65 - KSi input            ()"
      ]
     },
     "metadata": {},
     "output_type": "display_data"
    },
    {
     "data": {
      "text/plain": [
       "    66 - K0  output           ()"
      ]
     },
     "metadata": {},
     "output_type": "display_data"
    },
    {
     "data": {
      "text/plain": [
       "    67 - K1  output           ()"
      ]
     },
     "metadata": {},
     "output_type": "display_data"
    },
    {
     "data": {
      "text/plain": [
       "    68 - K2  output           ()"
      ]
     },
     "metadata": {},
     "output_type": "display_data"
    },
    {
     "data": {
      "text/plain": [
       "    69 - pK1 output           ()"
      ]
     },
     "metadata": {},
     "output_type": "display_data"
    },
    {
     "data": {
      "text/plain": [
       "    70 - pK2 output           ()"
      ]
     },
     "metadata": {},
     "output_type": "display_data"
    },
    {
     "data": {
      "text/plain": [
       "    71 - KW  output           ()"
      ]
     },
     "metadata": {},
     "output_type": "display_data"
    },
    {
     "data": {
      "text/plain": [
       "    72 - KB  output           ()"
      ]
     },
     "metadata": {},
     "output_type": "display_data"
    },
    {
     "data": {
      "text/plain": [
       "    73 - KF  output           ()"
      ]
     },
     "metadata": {},
     "output_type": "display_data"
    },
    {
     "data": {
      "text/plain": [
       "    74 - KS  output           ()"
      ]
     },
     "metadata": {},
     "output_type": "display_data"
    },
    {
     "data": {
      "text/plain": [
       "    75 - KP1 output           ()"
      ]
     },
     "metadata": {},
     "output_type": "display_data"
    },
    {
     "data": {
      "text/plain": [
       "    76 - KP2 output           ()"
      ]
     },
     "metadata": {},
     "output_type": "display_data"
    },
    {
     "data": {
      "text/plain": [
       "    77 - KP3 output           ()"
      ]
     },
     "metadata": {},
     "output_type": "display_data"
    },
    {
     "data": {
      "text/plain": [
       "    78 - KSi output           ()"
      ]
     },
     "metadata": {},
     "output_type": "display_data"
    },
    {
     "data": {
      "text/plain": [
       "    79 - TB                   (umol/kgSW)"
      ]
     },
     "metadata": {},
     "output_type": "display_data"
    },
    {
     "data": {
      "text/plain": [
       "    80 - TF                   (umol/kgSW)"
      ]
     },
     "metadata": {},
     "output_type": "display_data"
    },
    {
     "data": {
      "text/plain": [
       "    81 - TS                   (umol/kgSW)"
      ]
     },
     "metadata": {},
     "output_type": "display_data"
    },
    {
     "data": {
      "text/plain": [
       "    82 - TP                   (umol/kgSW)"
      ]
     },
     "metadata": {},
     "output_type": "display_data"
    },
    {
     "data": {
      "text/plain": [
       "    83 - TSi                  (umol/kgSW)"
      ]
     },
     "metadata": {},
     "output_type": "display_data"
    },
    {
     "data": {
      "text/plain": []
     },
     "metadata": {},
     "output_type": "display_data"
    },
    {
     "data": {
      "text/plain": [
       "    *** SIMPLY RESTATES THE INPUT BY USER"
      ]
     },
     "metadata": {},
     "output_type": "display_data"
    },
    {
     "data": {
      "text/plain": []
     },
     "metadata": {},
     "output_type": "display_data"
    },
    {
     "data": {
      "text/plain": [
       " In all the above, the terms \"input\" and \"output\" may be understood"
      ]
     },
     "metadata": {},
     "output_type": "display_data"
    },
    {
     "data": {
      "text/plain": [
       "    to refer to the 2 scenarios for which CO2SYS performs calculations,"
      ]
     },
     "metadata": {},
     "output_type": "display_data"
    },
    {
     "data": {
      "text/plain": [
       "    each defined by its own combination of temperature and pressure."
      ]
     },
     "metadata": {},
     "output_type": "display_data"
    },
    {
     "data": {
      "text/plain": [
       "    For instance, one may use CO2SYS to calculate, from measured DIC and TAlk,"
      ]
     },
     "metadata": {},
     "output_type": "display_data"
    },
    {
     "data": {
      "text/plain": [
       "    the pH that that sample will have in the lab (e.g., T=25 degC, P=0 dbar),"
      ]
     },
     "metadata": {},
     "output_type": "display_data"
    },
    {
     "data": {
      "text/plain": [
       "    and what the in situ pH would have been (e.g., at T=1 degC, P=4500)."
      ]
     },
     "metadata": {},
     "output_type": "display_data"
    },
    {
     "data": {
      "text/plain": [
       "    A = CO2SYS(2400,2200,1,2,35,25,1,0,4200,1,1,1,4,1)"
      ]
     },
     "metadata": {},
     "output_type": "display_data"
    },
    {
     "data": {
      "text/plain": [
       "    pH_lab = A(3);  % 7.84"
      ]
     },
     "metadata": {},
     "output_type": "display_data"
    },
    {
     "data": {
      "text/plain": [
       "    pH_sea = A(18); % 8.05"
      ]
     },
     "metadata": {},
     "output_type": "display_data"
    },
    {
     "data": {
      "text/plain": []
     },
     "metadata": {},
     "output_type": "display_data"
    },
    {
     "data": {
      "text/plain": [
       "**************************************************************************"
      ]
     },
     "metadata": {},
     "output_type": "display_data"
    },
    {
     "data": {
      "text/plain": []
     },
     "metadata": {},
     "output_type": "display_data"
    },
    {
     "data": {
      "text/plain": [
       " This is version 2.0 (uploaded to CDIAC at SEP XXth, 2011):"
      ]
     },
     "metadata": {},
     "output_type": "display_data"
    },
    {
     "data": {
      "text/plain": []
     },
     "metadata": {},
     "output_type": "display_data"
    },
    {
     "data": {
      "text/plain": [
       " **** Changes since 2.0"
      ]
     },
     "metadata": {},
     "output_type": "display_data"
    },
    {
     "data": {
      "text/plain": [
       "\t- slight changes to allow error propagation"
      ]
     },
     "metadata": {},
     "output_type": "display_data"
    },
    {
     "data": {
      "text/plain": [
       "\t- new option to choose K1 & K2 from Waters et al. (2014): fixes inconsistencies with Millero (2010) identified by Orr et al. (2015)"
      ]
     },
     "metadata": {},
     "output_type": "display_data"
    },
    {
     "data": {
      "text/plain": []
     },
     "metadata": {},
     "output_type": "display_data"
    },
    {
     "data": {
      "text/plain": [
       " **** Changes since 1.01 (uploaded to CDIAC at June 11th, 2009):"
      ]
     },
     "metadata": {},
     "output_type": "display_data"
    },
    {
     "data": {
      "text/plain": [
       " - Function cleans up its global variables when done (if you loose variables, this may be the cause -- see around line 570)"
      ]
     },
     "metadata": {},
     "output_type": "display_data"
    },
    {
     "data": {
      "text/plain": [
       " - Added the outputting of K values"
      ]
     },
     "metadata": {},
     "output_type": "display_data"
    },
    {
     "data": {
      "text/plain": [
       " - Implementation of constants of Cai and Wang, 1998"
      ]
     },
     "metadata": {},
     "output_type": "display_data"
    },
    {
     "data": {
      "text/plain": [
       " - Implementation of constants of Lueker et al., 2000"
      ]
     },
     "metadata": {},
     "output_type": "display_data"
    },
    {
     "data": {
      "text/plain": [
       " - Implementation of constants of Mojica-Prieto and Millero, 2002"
      ]
     },
     "metadata": {},
     "output_type": "display_data"
    },
    {
     "data": {
      "text/plain": [
       " - Implementation of constants of Millero et al., 2002 (only their eqs. 19, 20, no TCO2 dependency)"
      ]
     },
     "metadata": {},
     "output_type": "display_data"
    },
    {
     "data": {
      "text/plain": [
       " - Implementation of constants of Millero et al., 2006"
      ]
     },
     "metadata": {},
     "output_type": "display_data"
    },
    {
     "data": {
      "text/plain": [
       " - Implementation of constants of Millero et al., 2010"
      ]
     },
     "metadata": {},
     "output_type": "display_data"
    },
    {
     "data": {
      "text/plain": [
       " - Properly listed Sal and Temp limits for the available constants"
      ]
     },
     "metadata": {},
     "output_type": "display_data"
    },
    {
     "data": {
      "text/plain": [
       " - added switch for using the new Lee et al., (2010) formulation of Total Borate (see KSO4CONSTANTS above)"
      ]
     },
     "metadata": {},
     "output_type": "display_data"
    },
    {
     "data": {
      "text/plain": [
       " - Minor corrections to the GEOSECS constants (gave NaN for some output in earlier version)"
      ]
     },
     "metadata": {},
     "output_type": "display_data"
    },
    {
     "data": {
      "text/plain": [
       " - Fixed decimal point error on [H+] (did not get converted to umol/kgSW from mol/kgSW)."
      ]
     },
     "metadata": {},
     "output_type": "display_data"
    },
    {
     "data": {
      "text/plain": [
       " - Changed 'Hfreein' to 'Hfreeout' in the 'NICEHEADERS'-output (typo)"
      ]
     },
     "metadata": {},
     "output_type": "display_data"
    },
    {
     "data": {
      "text/plain": []
     },
     "metadata": {},
     "output_type": "display_data"
    },
    {
     "data": {
      "text/plain": [
       " **** Changes since 1.00 (uploaded to CDIAC at May 29th, 2009):"
      ]
     },
     "metadata": {},
     "output_type": "display_data"
    },
    {
     "data": {
      "text/plain": [
       " - added a note explaining that all known bugs were removed before release of 1.00"
      ]
     },
     "metadata": {},
     "output_type": "display_data"
    },
    {
     "data": {
      "text/plain": []
     },
     "metadata": {},
     "output_type": "display_data"
    },
    {
     "data": {
      "text/plain": [
       "**************************************************************************"
      ]
     },
     "metadata": {},
     "output_type": "display_data"
    },
    {
     "data": {
      "text/plain": []
     },
     "metadata": {},
     "output_type": "display_data"
    },
    {
     "data": {
      "text/plain": [
       " CO2SYS originally by Lewis and Wallace 1998"
      ]
     },
     "metadata": {},
     "output_type": "display_data"
    },
    {
     "data": {
      "text/plain": [
       " Converted to MATLAB by Denis Pierrot at"
      ]
     },
     "metadata": {},
     "output_type": "display_data"
    },
    {
     "data": {
      "text/plain": [
       " CIMAS, University of Miami, Miami, Florida"
      ]
     },
     "metadata": {},
     "output_type": "display_data"
    },
    {
     "data": {
      "text/plain": [
       " Vectorization, internal refinements and speed improvements by"
      ]
     },
     "metadata": {},
     "output_type": "display_data"
    },
    {
     "data": {
      "text/plain": [
       " Steven van Heuven, University of Groningen, The Netherlands."
      ]
     },
     "metadata": {},
     "output_type": "display_data"
    },
    {
     "data": {
      "text/plain": [
       " Questions, bug reports et cetera: svheuven@gmail.com"
      ]
     },
     "metadata": {},
     "output_type": "display_data"
    },
    {
     "data": {
      "text/plain": []
     },
     "metadata": {},
     "output_type": "display_data"
    },
    {
     "data": {
      "text/plain": [
       "**************************************************************************"
      ]
     },
     "metadata": {},
     "output_type": "display_data"
    },
    {
     "data": {
      "text/plain": []
     },
     "metadata": {},
     "output_type": "display_data"
    },
    {
     "data": {
      "text/plain": []
     },
     "metadata": {},
     "output_type": "display_data"
    },
    {
     "data": {
      "text/plain": [
       "Additional help for built-in functions and operators is"
      ]
     },
     "metadata": {},
     "output_type": "display_data"
    },
    {
     "data": {
      "text/plain": [
       "available in the online version of the manual.  Use the command"
      ]
     },
     "metadata": {},
     "output_type": "display_data"
    },
    {
     "data": {
      "text/plain": [
       "'doc <topic>' to search the manual index."
      ]
     },
     "metadata": {},
     "output_type": "display_data"
    },
    {
     "data": {
      "text/plain": []
     },
     "metadata": {},
     "output_type": "display_data"
    },
    {
     "data": {
      "text/plain": [
       "Help and information about Octave is also available on the WWW"
      ]
     },
     "metadata": {},
     "output_type": "display_data"
    },
    {
     "data": {
      "text/plain": [
       "at http://www.octave.org and via the help@octave.org"
      ]
     },
     "metadata": {},
     "output_type": "display_data"
    },
    {
     "data": {
      "text/plain": [
       "mailing list."
      ]
     },
     "metadata": {},
     "output_type": "display_data"
    }
   ],
   "source": [
    "%%octave\n",
    "help CO2SYS"
   ]
  },
  {
   "cell_type": "code",
   "execution_count": 15,
   "metadata": {},
   "outputs": [
    {
     "data": {
      "text/plain": [
       "'errors' is a function from the file /homel/orr/Software/MATLAB/CO2SYS-MATLAB/src/errors.m"
      ]
     },
     "metadata": {},
     "output_type": "display_data"
    },
    {
     "data": {
      "text/plain": []
     },
     "metadata": {},
     "output_type": "display_data"
    },
    {
     "data": {
      "text/plain": [
       " errors()"
      ]
     },
     "metadata": {},
     "output_type": "display_data"
    },
    {
     "data": {
      "text/plain": [
       " This subroutine propagates uncertainties for the marine carbonate chemistry calculations"
      ]
     },
     "metadata": {},
     "output_type": "display_data"
    },
    {
     "data": {
      "text/plain": [
       " from errors (or uncertainties) on six input"
      ]
     },
     "metadata": {},
     "output_type": "display_data"
    },
    {
     "data": {
      "text/plain": [
       "  - pair of carbonate system variables"
      ]
     },
     "metadata": {},
     "output_type": "display_data"
    },
    {
     "data": {
      "text/plain": [
       "  - nutrients (silicate and phosphate concentrations)"
      ]
     },
     "metadata": {},
     "output_type": "display_data"
    },
    {
     "data": {
      "text/plain": [
       "  - temperature and salinity"
      ]
     },
     "metadata": {},
     "output_type": "display_data"
    },
    {
     "data": {
      "text/plain": [
       " plus errors in dissociation constants pK0, pK1, pK2, pKb, pKw, pKspa, and pKspc as well as total boron"
      ]
     },
     "metadata": {},
     "output_type": "display_data"
    },
    {
     "data": {
      "text/plain": []
     },
     "metadata": {},
     "output_type": "display_data"
    },
    {
     "data": {
      "text/plain": [
       " It calls derivnum, which computes numerical derivatives, and then"
      ]
     },
     "metadata": {},
     "output_type": "display_data"
    },
    {
     "data": {
      "text/plain": [
       " it applies error propagation using the method of moments."
      ]
     },
     "metadata": {},
     "output_type": "display_data"
    },
    {
     "data": {
      "text/plain": [
       " The latter is a general technique to estimate the 2nd moment of a variable z"
      ]
     },
     "metadata": {},
     "output_type": "display_data"
    },
    {
     "data": {
      "text/plain": [
       " (variance or standard deviation) based on a 1st-order approximation to z."
      ]
     },
     "metadata": {},
     "output_type": "display_data"
    },
    {
     "data": {
      "text/plain": []
     },
     "metadata": {},
     "output_type": "display_data"
    },
    {
     "data": {
      "text/plain": [
       "**************************************************************************"
      ]
     },
     "metadata": {},
     "output_type": "display_data"
    },
    {
     "data": {
      "text/plain": []
     },
     "metadata": {},
     "output_type": "display_data"
    },
    {
     "data": {
      "text/plain": [
       "  **** SYNTAX:"
      ]
     },
     "metadata": {},
     "output_type": "display_data"
    },
    {
     "data": {
      "text/plain": [
       "  [err, headers, units] = errors(PAR1,PAR2,PAR1TYPE,PAR2TYPE,..  ."
      ]
     },
     "metadata": {},
     "output_type": "display_data"
    },
    {
     "data": {
      "text/plain": [
       "                                     SAL,TEMPIN,TEMPOUT,PRESIN,PRESOUT,SI,PO4,..."
      ]
     },
     "metadata": {},
     "output_type": "display_data"
    },
    {
     "data": {
      "text/plain": [
       "                                     ePAR1,ePAR2,eSAL,eTEMP,eSI,ePO4,epK,eBt,r,..."
      ]
     },
     "metadata": {},
     "output_type": "display_data"
    },
    {
     "data": {
      "text/plain": [
       "                                     pHSCALEIN,K1K2CONSTANTS,KSO4CONSTANTS)"
      ]
     },
     "metadata": {},
     "output_type": "display_data"
    },
    {
     "data": {
      "text/plain": []
     },
     "metadata": {},
     "output_type": "display_data"
    },
    {
     "data": {
      "text/plain": [
       "  **** SYNTAX EXAMPLES:"
      ]
     },
     "metadata": {},
     "output_type": "display_data"
    },
    {
     "data": {
      "text/plain": [
       "  [Result]                = errors(2400,2200,1,2,35,10,10,0,0,15,1,2,2,0.01,0.01,0,0,0,0,0,1,4,1)"
      ]
     },
     "metadata": {},
     "output_type": "display_data"
    },
    {
     "data": {
      "text/plain": [
       "  [Result,Headers]        = errors(2400,   8,1,3,35,25,5,0,3000,15,1,2,0.001,0,0,0,0,0,0,0,1,4,1)"
      ]
     },
     "metadata": {},
     "output_type": "display_data"
    },
    {
     "data": {
      "text/plain": [
       "  [Result,Headers,Units]  = errors(500,    8,5,3,35,25,5,0,4000,15,1,2,0.001,0,0,0,0,'','',0,1,4,1)"
      ]
     },
     "metadata": {},
     "output_type": "display_data"
    },
    {
     "data": {
      "text/plain": [
       "  [A]                     = errors(2400,2000:10:2400,1,2,35,10,10,0,0,15,2,2,0,0,0,0,'','',0,1,1,4,1)"
      ]
     },
     "metadata": {},
     "output_type": "display_data"
    },
    {
     "data": {
      "text/plain": [
       "  [A]                     = errors(2400,2200,1,2,0:1:35,0,25,4200,0,15,1,2,2,0,0,0,0,'','',0,1,4,1)"
      ]
     },
     "metadata": {},
     "output_type": "display_data"
    },
    {
     "data": {
      "text/plain": [
       "  epK = [0.002, 0.0075, 0.015, 0.01, 0.01, 0.02, 0.02];"
      ]
     },
     "metadata": {},
     "output_type": "display_data"
    },
    {
     "data": {
      "text/plain": [
       "  eBt = 0.02;"
      ]
     },
     "metadata": {},
     "output_type": "display_data"
    },
    {
     "data": {
      "text/plain": [
       "  [A, hdr, units]   = errors(2400,2200,1,2,35,0,25,0:100:4200,0,15,1,2,2,0,0,0,0,epK,eBt,0,1,4,1)"
      ]
     },
     "metadata": {},
     "output_type": "display_data"
    },
    {
     "data": {
      "text/plain": []
     },
     "metadata": {},
     "output_type": "display_data"
    },
    {
     "data": {
      "text/plain": [
       "**************************************************************************"
      ]
     },
     "metadata": {},
     "output_type": "display_data"
    },
    {
     "data": {
      "text/plain": []
     },
     "metadata": {},
     "output_type": "display_data"
    },
    {
     "data": {
      "text/plain": [
       " INPUT:"
      ]
     },
     "metadata": {},
     "output_type": "display_data"
    },
    {
     "data": {
      "text/plain": []
     },
     "metadata": {},
     "output_type": "display_data"
    },
    {
     "data": {
      "text/plain": [
       "   - ePAR1, ePAR2   :  uncertainty of PAR1 and PAR2 of input pair of CO2 system variables (same units as PAR1 & PAR2)"
      ]
     },
     "metadata": {},
     "output_type": "display_data"
    },
    {
     "data": {
      "text/plain": [
       "   - eS, eT         :  uncertainty of Salinity and Temperature (same units as S and T)"
      ]
     },
     "metadata": {},
     "output_type": "display_data"
    },
    {
     "data": {
      "text/plain": [
       "   - ePO4, eSI      :  uncertainty of Phosphate and Silicate total concentrations (same units as PO4 and SI [umol/kg])"
      ]
     },
     "metadata": {},
     "output_type": "display_data"
    },
    {
     "data": {
      "text/plain": [
       "   - epK            :  uncertainty of all seven dissociation constants (a vector) [pK units]"
      ]
     },
     "metadata": {},
     "output_type": "display_data"
    },
    {
     "data": {
      "text/plain": [
       "   - eBt            :  uncertainty of total boron, given as fractional relative error (eBt=0.02 is a 2% error)"
      ]
     },
     "metadata": {},
     "output_type": "display_data"
    },
    {
     "data": {
      "text/plain": [
       "   - r              :  correlation coefficient between PAR1 AND PAR2 (typicaly 0)"
      ]
     },
     "metadata": {},
     "output_type": "display_data"
    },
    {
     "data": {
      "text/plain": [
       "   - others         :  same as input for subroutine  CO2SYS() : scalar or vectors"
      ]
     },
     "metadata": {},
     "output_type": "display_data"
    },
    {
     "data": {
      "text/plain": []
     },
     "metadata": {},
     "output_type": "display_data"
    },
    {
     "data": {
      "text/plain": [
       " All parameters may be scalars or vectors except epK and eBt."
      ]
     },
     "metadata": {},
     "output_type": "display_data"
    },
    {
     "data": {
      "text/plain": [
       "   * epK must be vector of 7 values : errors of [pK0, pK1, pK2, pKb, pKw, pKspa, pKspc]."
      ]
     },
     "metadata": {},
     "output_type": "display_data"
    },
    {
     "data": {
      "text/plain": [
       "     These errors are assumed to be the same for all rows of data."
      ]
     },
     "metadata": {},
     "output_type": "display_data"
    },
    {
     "data": {
      "text/plain": [
       "     These 7 values are in pK units"
      ]
     },
     "metadata": {},
     "output_type": "display_data"
    },
    {
     "data": {
      "text/plain": []
     },
     "metadata": {},
     "output_type": "display_data"
    },
    {
     "data": {
      "text/plain": [
       "     if epK is empty (= ''), this routine specifies default values."
      ]
     },
     "metadata": {},
     "output_type": "display_data"
    },
    {
     "data": {
      "text/plain": [
       "     These default standard errors are :"
      ]
     },
     "metadata": {},
     "output_type": "display_data"
    },
    {
     "data": {
      "text/plain": [
       "        pK0   :  0.002"
      ]
     },
     "metadata": {},
     "output_type": "display_data"
    },
    {
     "data": {
      "text/plain": [
       "        pK1   :  0.0075"
      ]
     },
     "metadata": {},
     "output_type": "display_data"
    },
    {
     "data": {
      "text/plain": [
       "        pK2   :  0.015"
      ]
     },
     "metadata": {},
     "output_type": "display_data"
    },
    {
     "data": {
      "text/plain": [
       "        pKb   :  0.01    boric acid"
      ]
     },
     "metadata": {},
     "output_type": "display_data"
    },
    {
     "data": {
      "text/plain": [
       "        pKw   :  0.01    water dissociation"
      ]
     },
     "metadata": {},
     "output_type": "display_data"
    },
    {
     "data": {
      "text/plain": [
       "        pKspa :  0.02    solubility product of Aragonite"
      ]
     },
     "metadata": {},
     "output_type": "display_data"
    },
    {
     "data": {
      "text/plain": [
       "        pKspc :  0.02    solubility product of Calcite"
      ]
     },
     "metadata": {},
     "output_type": "display_data"
    },
    {
     "data": {
      "text/plain": []
     },
     "metadata": {},
     "output_type": "display_data"
    },
    {
     "data": {
      "text/plain": [
       "   * eBt is a scalar real number, fractional relative error (between 0.00 and 1.00)"
      ]
     },
     "metadata": {},
     "output_type": "display_data"
    },
    {
     "data": {
      "text/plain": [
       "     for TB, where the default is eBt=0.02. It is assumed to be the same"
      ]
     },
     "metadata": {},
     "output_type": "display_data"
    },
    {
     "data": {
      "text/plain": [
       "     for all rows of data."
      ]
     },
     "metadata": {},
     "output_type": "display_data"
    },
    {
     "data": {
      "text/plain": []
     },
     "metadata": {},
     "output_type": "display_data"
    },
    {
     "data": {
      "text/plain": [
       " In constrast, ePAR1, ePAR2, eS, eT, ePO4 and eSI,"
      ]
     },
     "metadata": {},
     "output_type": "display_data"
    },
    {
     "data": {
      "text/plain": [
       "   - if vectors, are errors associated with each data point"
      ]
     },
     "metadata": {},
     "output_type": "display_data"
    },
    {
     "data": {
      "text/plain": [
       "   - if scalars, are one error value associated to all data points"
      ]
     },
     "metadata": {},
     "output_type": "display_data"
    },
    {
     "data": {
      "text/plain": [
       " The same for parameter \"r\"."
      ]
     },
     "metadata": {},
     "output_type": "display_data"
    },
    {
     "data": {
      "text/plain": []
     },
     "metadata": {},
     "output_type": "display_data"
    },
    {
     "data": {
      "text/plain": [
       " If 'r' is nonzero with a value between -1.0 and 1.0, it indicates the correlation"
      ]
     },
     "metadata": {},
     "output_type": "display_data"
    },
    {
     "data": {
      "text/plain": [
       " between uncertainties of the input pair of carbonate system variables."
      ]
     },
     "metadata": {},
     "output_type": "display_data"
    },
    {
     "data": {
      "text/plain": [
       " By default, 'r' is zero. However, for some pairs the user may want to specify a"
      ]
     },
     "metadata": {},
     "output_type": "display_data"
    },
    {
     "data": {
      "text/plain": [
       " different value. For example, measurements of pCO2 and pH are often anti-correlated."
      ]
     },
     "metadata": {},
     "output_type": "display_data"
    },
    {
     "data": {
      "text/plain": [
       " The same goes for two other pairs: 'CO2 and CO3' and 'pCO2 and"
      ]
     },
     "metadata": {},
     "output_type": "display_data"
    },
    {
     "data": {
      "text/plain": [
       " CO3'. But even for these cases, care is needed when using non-zero values of 'r'."
      ]
     },
     "metadata": {},
     "output_type": "display_data"
    },
    {
     "data": {
      "text/plain": []
     },
     "metadata": {},
     "output_type": "display_data"
    },
    {
     "data": {
      "text/plain": [
       " When the user propagates errors for an individual"
      ]
     },
     "metadata": {},
     "output_type": "display_data"
    },
    {
     "data": {
      "text/plain": [
       " measurement, 'r' should ALWAYS be zero if each member of the input pair is"
      ]
     },
     "metadata": {},
     "output_type": "display_data"
    },
    {
     "data": {
      "text/plain": [
       " measured independently. In this case, we are interested in the"
      ]
     },
     "metadata": {},
     "output_type": "display_data"
    },
    {
     "data": {
      "text/plain": [
       " correlation between the uncertainties in those measurements, not in"
      ]
     },
     "metadata": {},
     "output_type": "display_data"
    },
    {
     "data": {
      "text/plain": [
       " the correlation between the measurments themselves. Uncertainties from"
      ]
     },
     "metadata": {},
     "output_type": "display_data"
    },
    {
     "data": {
      "text/plain": [
       " those measurements are probably not correlated if they come from"
      ]
     },
     "metadata": {},
     "output_type": "display_data"
    },
    {
     "data": {
      "text/plain": [
       " different instruments. Conversely, if users are interested in the"
      ]
     },
     "metadata": {},
     "output_type": "display_data"
    },
    {
     "data": {
      "text/plain": [
       " error in the mean of a distribution of measurements (i.e., if they are"
      ]
     },
     "metadata": {},
     "output_type": "display_data"
    },
    {
     "data": {
      "text/plain": [
       " propagating standard errors instead of standard deviations), one"
      ]
     },
     "metadata": {},
     "output_type": "display_data"
    },
    {
     "data": {
      "text/plain": [
       " should then also account for the correlation between the measurements of"
      ]
     },
     "metadata": {},
     "output_type": "display_data"
    },
    {
     "data": {
      "text/plain": [
       " the two variables of the input pair."
      ]
     },
     "metadata": {},
     "output_type": "display_data"
    },
    {
     "data": {
      "text/plain": []
     },
     "metadata": {},
     "output_type": "display_data"
    },
    {
     "data": {
      "text/plain": [
       " For input pairs where one member is pH, this 'errors' routine automatically"
      ]
     },
     "metadata": {},
     "output_type": "display_data"
    },
    {
     "data": {
      "text/plain": [
       " inverses the sign of 'r'."
      ]
     },
     "metadata": {},
     "output_type": "display_data"
    },
    {
     "data": {
      "text/plain": [
       " That inversion is done because the associated derivatives are computed in terms of"
      ]
     },
     "metadata": {},
     "output_type": "display_data"
    },
    {
     "data": {
      "text/plain": [
       " the hydrogen ion concentration H+, not pH. Therefore for each of these 6"
      ]
     },
     "metadata": {},
     "output_type": "display_data"
    },
    {
     "data": {
      "text/plain": [
       " flags, if the user wants to compute 'r' that should be done (1) using"
      ]
     },
     "metadata": {},
     "output_type": "display_data"
    },
    {
     "data": {
      "text/plain": [
       " the H+ concentration instead of pH, and (2) the sign of that computed 'r'"
      ]
     },
     "metadata": {},
     "output_type": "display_data"
    },
    {
     "data": {
      "text/plain": [
       " should be inversed when passing it as an argument to this routine."
      ]
     },
     "metadata": {},
     "output_type": "display_data"
    },
    {
     "data": {
      "text/plain": [
       " To express perfect anticorrelation with pH, the user should"
      ]
     },
     "metadata": {},
     "output_type": "display_data"
    },
    {
     "data": {
      "text/plain": [
       " use 'r=-1.0'."
      ]
     },
     "metadata": {},
     "output_type": "display_data"
    },
    {
     "data": {
      "text/plain": []
     },
     "metadata": {},
     "output_type": "display_data"
    },
    {
     "data": {
      "text/plain": [
       "**************************************************************************"
      ]
     },
     "metadata": {},
     "output_type": "display_data"
    },
    {
     "data": {
      "text/plain": []
     },
     "metadata": {},
     "output_type": "display_data"
    },
    {
     "data": {
      "text/plain": [
       " OUTPUT: * an array containing uncertainty for the following variables"
      ]
     },
     "metadata": {},
     "output_type": "display_data"
    },
    {
     "data": {
      "text/plain": [
       "           (one row per sample):"
      ]
     },
     "metadata": {},
     "output_type": "display_data"
    },
    {
     "data": {
      "text/plain": [
       "         *  a cell-array containing crudely formatted headers"
      ]
     },
     "metadata": {},
     "output_type": "display_data"
    },
    {
     "data": {
      "text/plain": []
     },
     "metadata": {},
     "output_type": "display_data"
    },
    {
     "data": {
      "text/plain": [
       "    POS  PARAMETER        UNIT"
      ]
     },
     "metadata": {},
     "output_type": "display_data"
    },
    {
     "data": {
      "text/plain": []
     },
     "metadata": {},
     "output_type": "display_data"
    },
    {
     "data": {
      "text/plain": [
       "    01 - TAlk                 (umol/kg)"
      ]
     },
     "metadata": {},
     "output_type": "display_data"
    },
    {
     "data": {
      "text/plain": [
       "    02 - TCO2                 (umol/kg)"
      ]
     },
     "metadata": {},
     "output_type": "display_data"
    },
    {
     "data": {
      "text/plain": [
       "    03   fCO2in               (uatm)"
      ]
     },
     "metadata": {},
     "output_type": "display_data"
    },
    {
     "data": {
      "text/plain": [
       "    04 - HCO3in               (umol/kg)"
      ]
     },
     "metadata": {},
     "output_type": "display_data"
    },
    {
     "data": {
      "text/plain": [
       "    05 - CO3in                (umol/kg)"
      ]
     },
     "metadata": {},
     "output_type": "display_data"
    },
    {
     "data": {
      "text/plain": [
       "    06 - CO2in                (umol/kg)"
      ]
     },
     "metadata": {},
     "output_type": "display_data"
    },
    {
     "data": {
      "text/plain": [
       "    07 - OmegaCAin            ()"
      ]
     },
     "metadata": {},
     "output_type": "display_data"
    },
    {
     "data": {
      "text/plain": [
       "    08 - OmegaARin            ()"
      ]
     },
     "metadata": {},
     "output_type": "display_data"
    },
    {
     "data": {
      "text/plain": [
       "    09 - xCO2in               (ppm)"
      ]
     },
     "metadata": {},
     "output_type": "display_data"
    },
    {
     "data": {
      "text/plain": [
       "    10 - Hout                 (nmol/kg)"
      ]
     },
     "metadata": {},
     "output_type": "display_data"
    },
    {
     "data": {
      "text/plain": [
       "    11 - pCO2out              (uatm)"
      ]
     },
     "metadata": {},
     "output_type": "display_data"
    },
    {
     "data": {
      "text/plain": [
       "    12 - fCO2out              (uatm)"
      ]
     },
     "metadata": {},
     "output_type": "display_data"
    },
    {
     "data": {
      "text/plain": [
       "    13 - HCO3out              (umol/kg)"
      ]
     },
     "metadata": {},
     "output_type": "display_data"
    },
    {
     "data": {
      "text/plain": [
       "    14 - CO3out               (umol/kg)"
      ]
     },
     "metadata": {},
     "output_type": "display_data"
    },
    {
     "data": {
      "text/plain": [
       "    15 - CO2out               (umol/kg)"
      ]
     },
     "metadata": {},
     "output_type": "display_data"
    },
    {
     "data": {
      "text/plain": [
       "    16 - OmegaCAout           ()"
      ]
     },
     "metadata": {},
     "output_type": "display_data"
    },
    {
     "data": {
      "text/plain": [
       "    17 - OmegaARout           ()"
      ]
     },
     "metadata": {},
     "output_type": "display_data"
    },
    {
     "data": {
      "text/plain": [
       "    18 - xCO2out              (ppm)"
      ]
     },
     "metadata": {},
     "output_type": "display_data"
    },
    {
     "data": {
      "text/plain": []
     },
     "metadata": {},
     "output_type": "display_data"
    },
    {
     "data": {
      "text/plain": [
       " NOTE: Only uncertainties for the output variables are provided."
      ]
     },
     "metadata": {},
     "output_type": "display_data"
    },
    {
     "data": {
      "text/plain": [
       "       The 1st 2 columns will change as a function of PAR1TYPE and PAR2TYPE."
      ]
     },
     "metadata": {},
     "output_type": "display_data"
    },
    {
     "data": {
      "text/plain": [
       "       In the case above, the input pair is pH-pCO2 (PAR1TYPE=3, PAR2TYPE=4)."
      ]
     },
     "metadata": {},
     "output_type": "display_data"
    },
    {
     "data": {
      "text/plain": [
       "       That is why the results in the first 2 columns are for the other 2"
      ]
     },
     "metadata": {},
     "output_type": "display_data"
    },
    {
     "data": {
      "text/plain": [
       "       possible input variables (TAlk and TCO2)"
      ]
     },
     "metadata": {},
     "output_type": "display_data"
    },
    {
     "data": {
      "text/plain": []
     },
     "metadata": {},
     "output_type": "display_data"
    },
    {
     "data": {
      "text/plain": [
       " EXAMPLE: a nice way to see the headers & units along with the results"
      ]
     },
     "metadata": {},
     "output_type": "display_data"
    },
    {
     "data": {
      "text/plain": []
     },
     "metadata": {},
     "output_type": "display_data"
    },
    {
     "data": {
      "text/plain": [
       " [e, ehead, eunits] = errors (PAR1,PAR2,PAR1TYPE,PAR2TYPE,SAL,TEMPIN,TEMPOUT,PRESIN,PRESOUT,SI,PO4,..."
      ]
     },
     "metadata": {},
     "output_type": "display_data"
    },
    {
     "data": {
      "text/plain": [
       "                              ePAR1,ePAR2,eSAL,eTEMP,eSI,ePO4,epK,eBt,r,pHSCALEIN,K1K2CONSTANTS,KSO4CONSTANTS);"
      ]
     },
     "metadata": {},
     "output_type": "display_data"
    },
    {
     "data": {
      "text/plain": []
     },
     "metadata": {},
     "output_type": "display_data"
    },
    {
     "data": {
      "text/plain": [
       "  printf(\"%s   %s %s %s %s  %s %s %s %s \\n\", ehead{1:9});"
      ]
     },
     "metadata": {},
     "output_type": "display_data"
    },
    {
     "data": {
      "text/plain": [
       "  printf(\"%s   %s  %s    %s %s %s    %s      %s          %s \\n\", eunits{1:9});"
      ]
     },
     "metadata": {},
     "output_type": "display_data"
    },
    {
     "data": {
      "text/plain": [
       "  printf(\"%f  %f  %f  %f  %f %f  %f     %f     %f \\n\", e(1:9));"
      ]
     },
     "metadata": {},
     "output_type": "display_data"
    },
    {
     "data": {
      "text/plain": []
     },
     "metadata": {},
     "output_type": "display_data"
    },
    {
     "data": {
      "text/plain": []
     },
     "metadata": {},
     "output_type": "display_data"
    },
    {
     "data": {
      "text/plain": [
       "Additional help for built-in functions and operators is"
      ]
     },
     "metadata": {},
     "output_type": "display_data"
    },
    {
     "data": {
      "text/plain": [
       "available in the online version of the manual.  Use the command"
      ]
     },
     "metadata": {},
     "output_type": "display_data"
    },
    {
     "data": {
      "text/plain": [
       "'doc <topic>' to search the manual index."
      ]
     },
     "metadata": {},
     "output_type": "display_data"
    },
    {
     "data": {
      "text/plain": []
     },
     "metadata": {},
     "output_type": "display_data"
    },
    {
     "data": {
      "text/plain": [
       "Help and information about Octave is also available on the WWW"
      ]
     },
     "metadata": {},
     "output_type": "display_data"
    },
    {
     "data": {
      "text/plain": [
       "at http://www.octave.org and via the help@octave.org"
      ]
     },
     "metadata": {},
     "output_type": "display_data"
    },
    {
     "data": {
      "text/plain": [
       "mailing list."
      ]
     },
     "metadata": {},
     "output_type": "display_data"
    }
   ],
   "source": [
    "%%octave\n",
    "help errors"
   ]
  },
  {
   "cell_type": "markdown",
   "metadata": {},
   "source": [
    "Select some output"
   ]
  },
  {
   "cell_type": "code",
   "execution_count": 16,
   "metadata": {},
   "outputs": [
    {
     "data": {
      "text/plain": [
       "ans ="
      ]
     },
     "metadata": {},
     "output_type": "display_data"
    },
    {
     "data": {
      "text/plain": [
       "{"
      ]
     },
     "metadata": {},
     "output_type": "display_data"
    },
    {
     "data": {
      "text/plain": [
       "  [1,1] = TAlk"
      ]
     },
     "metadata": {},
     "output_type": "display_data"
    },
    {
     "data": {
      "text/plain": [
       "  [2,1] = TCO2"
      ]
     },
     "metadata": {},
     "output_type": "display_data"
    },
    {
     "data": {
      "text/plain": [
       "  [3,1] = pHin"
      ]
     },
     "metadata": {},
     "output_type": "display_data"
    },
    {
     "data": {
      "text/plain": [
       "  [4,1] = pCO2in"
      ]
     },
     "metadata": {},
     "output_type": "display_data"
    },
    {
     "data": {
      "text/plain": [
       "  [5,1] = fCO2in"
      ]
     },
     "metadata": {},
     "output_type": "display_data"
    },
    {
     "data": {
      "text/plain": [
       "  [6,1] = HCO3in"
      ]
     },
     "metadata": {},
     "output_type": "display_data"
    },
    {
     "data": {
      "text/plain": [
       "}"
      ]
     },
     "metadata": {},
     "output_type": "display_data"
    },
    {
     "data": {
      "text/plain": [
       "ans ="
      ]
     },
     "metadata": {},
     "output_type": "display_data"
    },
    {
     "data": {
      "text/plain": []
     },
     "metadata": {},
     "output_type": "display_data"
    },
    {
     "data": {
      "text/plain": [
       "   2300.0000   2000.0000      8.0384    404.5931    403.3026   1778.4365"
      ]
     },
     "metadata": {},
     "output_type": "display_data"
    },
    {
     "data": {
      "text/plain": []
     },
     "metadata": {},
     "output_type": "display_data"
    }
   ],
   "source": [
    "%%octave\n",
    "dhead(1:6)\n",
    "d(1:6)"
   ]
  },
  {
   "cell_type": "markdown",
   "metadata": {},
   "source": [
    "A bit nicer to read"
   ]
  },
  {
   "cell_type": "code",
   "execution_count": 17,
   "metadata": {},
   "outputs": [
    {
     "data": {
      "text/plain": [
       "TAlk TCO2 pHin pCO2in fCO2in HCO3in"
      ]
     },
     "metadata": {},
     "output_type": "display_data"
    },
    {
     "data": {
      "text/plain": [
       "2300.000000 2000.000000 8.038366 404.593062 403.302596 1778.436480"
      ]
     },
     "metadata": {},
     "output_type": "display_data"
    }
   ],
   "source": [
    "%%octave\n",
    "printf (\"%s %s %s %s %s %s\\n\", dhead{1:6})\n",
    "printf (\"%f %f %f %f %f %f\\n\", d(1:6))"
   ]
  },
  {
   "cell_type": "markdown",
   "metadata": {},
   "source": [
    "Get all the usual output, but only at the input *T* and *P* (don't show results at *output* *T* and *P*) "
   ]
  },
  {
   "cell_type": "code",
   "execution_count": 18,
   "metadata": {
    "scrolled": true
   },
   "outputs": [
    {
     "data": {
      "text/plain": [
       "TAlk TCO2 pHin pCO2in fCO2in HCO3in CO3in CO2in RFin OmegaARin"
      ]
     },
     "metadata": {},
     "output_type": "display_data"
    },
    {
     "data": {
      "text/plain": [
       "2300.000000 2000.000000 8.038366 404.593062 403.302596 1778.436480 210.113000 11.450520 9.578002 3.333851"
      ]
     },
     "metadata": {},
     "output_type": "display_data"
    }
   ],
   "source": [
    "%%octave\n",
    "#printf (\"%s %s %s %s %s %s\\n\", Headers(1:6))\n",
    "printf (\"%s %s %s %s %s %s %s %s %s %s\\n\", dhead{1:8}, dhead{14}, dhead{16})\n",
    "printf (\"%f %f %f %f %f %f %f %f %f %f\\n\", d(1:8),     d(14),     d(16))"
   ]
  },
  {
   "cell_type": "markdown",
   "metadata": {},
   "source": [
    "### 3.5 Display results more nicely by exporting to python (n=1)"
   ]
  },
  {
   "cell_type": "markdown",
   "metadata": {},
   "source": [
    "#### Export to python"
   ]
  },
  {
   "cell_type": "markdown",
   "metadata": {},
   "source": [
    "Notes:\n",
    "1. An octave cell must begin with the first line as '%%octave'\n",
    "2. Otherwise, cells are python cells (by default)\n",
    "3. Any line beginning with %octave is an octave command on only one line"
   ]
  },
  {
   "cell_type": "code",
   "execution_count": 19,
   "metadata": {
    "scrolled": true
   },
   "outputs": [
    {
     "name": "stdout",
     "output_type": "stream",
     "text": [
      "['TAlk' 'TCO2' 'pHin' 'pCO2in' 'fCO2in' 'HCO3in']\n",
      "[[2300.         2000.            8.03836606  404.5930618   403.30259551\n",
      "  1778.43647997]]\n"
     ]
    }
   ],
   "source": [
    "# import python's numpy library\n",
    "import numpy as np\n",
    "\n",
    "# Export d to python, renaming it D\n",
    "%octave -o D D=d(1:6);\n",
    "\n",
    "# Export dhead to python, renaming id Dhead\n",
    "%octave -o Dhead Dhead=dhead;\n",
    "\n",
    "D = np.array(D)\n",
    "Dhead = np.array(Dhead)\n",
    "Dhead = Dhead[0:6]\n",
    "\n",
    "print(Dhead)\n",
    "print(D)"
   ]
  },
  {
   "cell_type": "markdown",
   "metadata": {},
   "source": [
    "#### Display in nice table (after creating pandas DataFrame)"
   ]
  },
  {
   "cell_type": "code",
   "execution_count": 20,
   "metadata": {},
   "outputs": [
    {
     "data": {
      "text/html": [
       "<div>\n",
       "<style scoped>\n",
       "    .dataframe tbody tr th:only-of-type {\n",
       "        vertical-align: middle;\n",
       "    }\n",
       "\n",
       "    .dataframe tbody tr th {\n",
       "        vertical-align: top;\n",
       "    }\n",
       "\n",
       "    .dataframe thead th {\n",
       "        text-align: right;\n",
       "    }\n",
       "</style>\n",
       "<table border=\"1\" class=\"dataframe\">\n",
       "  <thead>\n",
       "    <tr style=\"text-align: right;\">\n",
       "      <th></th>\n",
       "      <th>TAlk</th>\n",
       "      <th>TCO2</th>\n",
       "      <th>pHin</th>\n",
       "      <th>pCO2in</th>\n",
       "      <th>fCO2in</th>\n",
       "      <th>HCO3in</th>\n",
       "    </tr>\n",
       "  </thead>\n",
       "  <tbody>\n",
       "    <tr>\n",
       "      <th>0</th>\n",
       "      <td>2300.0</td>\n",
       "      <td>2000.0</td>\n",
       "      <td>8.038366</td>\n",
       "      <td>404.593062</td>\n",
       "      <td>403.302596</td>\n",
       "      <td>1778.43648</td>\n",
       "    </tr>\n",
       "  </tbody>\n",
       "</table>\n",
       "</div>"
      ],
      "text/plain": [
       "     TAlk    TCO2      pHin      pCO2in      fCO2in      HCO3in\n",
       "0  2300.0  2000.0  8.038366  404.593062  403.302596  1778.43648"
      ]
     },
     "execution_count": 20,
     "metadata": {},
     "output_type": "execute_result"
    }
   ],
   "source": [
    "import pandas as pd\n",
    "#import numpy as np\n",
    "\n",
    "pad = pd.DataFrame(D, columns=Dhead)\n",
    "pad"
   ]
  },
  {
   "cell_type": "markdown",
   "metadata": {},
   "source": [
    "### 3.5 Display the results when n >1 (more than 1 line of input)"
   ]
  },
  {
   "cell_type": "markdown",
   "metadata": {},
   "source": [
    "Make same calculation but at 4 temperatures"
   ]
  },
  {
   "cell_type": "code",
   "execution_count": 21,
   "metadata": {},
   "outputs": [
    {
     "data": {
      "text/plain": [
       "TEMPIN ="
      ]
     },
     "metadata": {},
     "output_type": "display_data"
    },
    {
     "data": {
      "text/plain": []
     },
     "metadata": {},
     "output_type": "display_data"
    },
    {
     "data": {
      "text/plain": [
       "    0   10   20   30"
      ]
     },
     "metadata": {},
     "output_type": "display_data"
    },
    {
     "data": {
      "text/plain": []
     },
     "metadata": {},
     "output_type": "display_data"
    },
    {
     "data": {
      "text/plain": [
       "ans ="
      ]
     },
     "metadata": {},
     "output_type": "display_data"
    },
    {
     "data": {
      "text/plain": []
     },
     "metadata": {},
     "output_type": "display_data"
    },
    {
     "data": {
      "text/plain": [
       "   137.25"
      ]
     },
     "metadata": {},
     "output_type": "display_data"
    },
    {
     "data": {
      "text/plain": [
       "   215.88"
      ]
     },
     "metadata": {},
     "output_type": "display_data"
    },
    {
     "data": {
      "text/plain": [
       "   330.08"
      ]
     },
     "metadata": {},
     "output_type": "display_data"
    },
    {
     "data": {
      "text/plain": [
       "   493.46"
      ]
     },
     "metadata": {},
     "output_type": "display_data"
    },
    {
     "data": {
      "text/plain": []
     },
     "metadata": {},
     "output_type": "display_data"
    }
   ],
   "source": [
    "%%octave\n",
    "\n",
    "TEMPIN     = [0:10:30];\n",
    "TEMPIN\n",
    "\n",
    "# If any input array has more than 1 member, all others will be duplicated to reach that number\n",
    "# (input arrays must have either n=1 or the same as the maximum n)\n",
    "[d, dhdr, dnice] = CO2SYS (PAR1, PAR2, PAR1TYPE, PAR2TYPE, SAL, TEMPIN, TEMPOUT, PRESIN, PRESOUT, SI, PO4,...\n",
    "                             pHSCALEIN, K1K2CONSTANTS, KSO4CONSTANTS);   \n",
    "# Show calculated pCO2\n",
    "d(:,4)\n"
   ]
  },
  {
   "cell_type": "markdown",
   "metadata": {},
   "source": [
    "Define output arrays knowing the CO2SYS index numbers (get these from dhdr or dnice)\n",
    "\n",
    "* A colon (:) means all members of that index.\n"
   ]
  },
  {
   "cell_type": "code",
   "execution_count": 22,
   "metadata": {},
   "outputs": [],
   "source": [
    "%%octave\n",
    "\n",
    "ALK     = d(:,1);    %01 - TAlk                 (umol/kgSW)\n",
    "DIC     = d(:,2);    %02 - TCO2                 (umol/kgSW)\n",
    "pH      = d(:,3);    %03 - pHin                 ()\n",
    "pCO2    = d(:,4);    %04 - pCO2 input           (uatm)\n",
    "fCO2    = d(:,5);    %05 - fCO2 input           (uatm)\n",
    "HCO3    = d(:,6);    %06 - HCO3 input           (umol/kgSW)\n",
    "CO3     = d(:,7);    %07 - CO3 input            (umol/kgSW)\n",
    "CO2     = d(:,8);    %08 - CO2 input            (umol/kgSW)\n",
    "Hfree   = d(:,13);   %13 - Hfree input          (umol/kgSW)\n",
    "RF      = d(:,14);   %14 - RevelleFactor input  ()\n",
    "OmegaCa = d(:,15);   %15 - OmegaCa input        ()\n",
    "OmegaAr = d(:,16);   %16 - OmegaAr input        ()\n",
    "xCO2    = d(:,17);   %17 - xCO2 input           (ppm)\n"
   ]
  },
  {
   "cell_type": "markdown",
   "metadata": {},
   "source": [
    "Display the results in a concise manner (formatted)"
   ]
  },
  {
   "cell_type": "code",
   "execution_count": 23,
   "metadata": {},
   "outputs": [
    {
     "data": {
      "text/plain": [
       "T          ALK     DIC     pH    pCO2    fCO2   xCO2    HCO3    CO3      CO2     RF    OmegaAr"
      ]
     },
     "metadata": {},
     "output_type": "display_data"
    },
    {
     "data": {
      "text/plain": [
       "  0.000  2300.0  2000.0  8.4345  137.2  136.6  138.1,  1792.1   199.3   8.59 9.848596    3.0"
      ]
     },
     "metadata": {},
     "output_type": "display_data"
    },
    {
     "data": {
      "text/plain": [
       " 10.000  2300.0  2000.0  8.2705  215.9  215.1  218.5,  1786.8   203.8   9.44 9.761787    3.1"
      ]
     },
     "metadata": {},
     "output_type": "display_data"
    },
    {
     "data": {
      "text/plain": [
       " 20.000  2300.0  2000.0  8.1143  330.1  329.0  337.7,  1781.2   208.2  10.66 9.648567    3.2"
      ]
     },
     "metadata": {},
     "output_type": "display_data"
    },
    {
     "data": {
      "text/plain": [
       " 30.000  2300.0  2000.0  7.9636  493.5  492.0  514.6,  1775.8   211.8  12.38 9.496288    3.4"
      ]
     },
     "metadata": {},
     "output_type": "display_data"
    }
   ],
   "source": [
    "%%octave\n",
    "printf('%s          %s     %s     %s    %s    %s   %s    %s    %s      %s     %s    %s \\n', \n",
    "       'T', 'ALK', 'DIC', 'pH', 'pCO2', 'fCO2', 'xCO2', 'HCO3', 'CO3', 'CO2', 'RF', 'OmegaAr')\n",
    "for i=1 : length(pCO2)\n",
    "    printf('%7.3f %7.1f %7.1f %7.4f %6.1f %6.1f %6.1f, %7.1f %7.1f %6.2f %f %6.1f\\n', \n",
    "           TEMPIN(i), ALK(i), DIC(i), \n",
    "           pH(i), pCO2(i), fCO2(i), xCO2(i), HCO3(i), CO3(i), CO2(i), RF(i), OmegaAr(i));\n",
    "end"
   ]
  },
  {
   "cell_type": "markdown",
   "metadata": {},
   "source": [
    "Write out those same results to a output file (CSV file)"
   ]
  },
  {
   "cell_type": "code",
   "execution_count": 24,
   "metadata": {},
   "outputs": [],
   "source": [
    "%%octave\n",
    "\n",
    "fileout = 'test.csv';\n",
    "fid = fopen(fileout, 'w');\n",
    "\n",
    "fprintf(fid,'%s, %s, %s, %s, %s, %s, %s, %s, %s, %s, %s, %s \\n', \n",
    "       'T', 'ALK', 'DIC', 'pH', 'pCO2', 'fCO2', 'xCO2', 'HCO3', 'CO3', 'CO2', 'RF', 'OmegaAr');\n",
    "for i=1 : length(pCO2)\n",
    "    fprintf(fid,'%f, %f, %f, %f, %f, %f, %f, %f, %f, %f, %f, %f\\n', \n",
    "           TEMPIN(i), ALK(i), DIC(i), \n",
    "           pH(i), pCO2(i), fCO2(i), xCO2(i), HCO3(i), CO3(i), CO2(i), RF(i), OmegaAr(i));\n",
    "end\n",
    "fclose('all');"
   ]
  },
  {
   "cell_type": "markdown",
   "metadata": {},
   "source": [
    "#### Display the contents of the file that was just written out (using Unix shell command `cat`)"
   ]
  },
  {
   "cell_type": "code",
   "execution_count": 25,
   "metadata": {
    "scrolled": true
   },
   "outputs": [
    {
     "name": "stdout",
     "output_type": "stream",
     "text": [
      "T, ALK, DIC, pH, pCO2, fCO2, xCO2, HCO3, CO3, CO2, RF, OmegaAr \r\n",
      "0.000000, 2300.000000, 2000.000000, 8.434464, 137.246686, 136.643633, 138.062822, 1792.126232, 199.282966, 8.590802, 9.848596, 3.001708\r\n",
      "10.000000, 2300.000000, 2000.000000, 8.270520, 215.884104, 215.052981, 218.479058, 1786.768907, 203.794720, 9.436373, 9.761787, 3.087672\r\n",
      "20.000000, 2300.000000, 2000.000000, 8.114276, 330.079951, 328.960457, 337.720051, 1781.162173, 208.177059, 10.660768, 9.648567, 3.235996\r\n",
      "30.000000, 2300.000000, 2000.000000, 7.963633, 493.455490, 491.973589, 514.590128, 1775.830647, 211.785716, 12.383637, 9.496288, 3.448190\r\n"
     ]
    }
   ],
   "source": [
    "#!echo $PWD\n",
    "!cat test.csv"
   ]
  },
  {
   "cell_type": "markdown",
   "metadata": {},
   "source": [
    "#### Display nice version of same table (using pandas to read in CSV file)"
   ]
  },
  {
   "cell_type": "markdown",
   "metadata": {},
   "source": [
    "Following cell is in `python` (default), because it does not start with `%%octave`"
   ]
  },
  {
   "cell_type": "code",
   "execution_count": 26,
   "metadata": {
    "scrolled": true
   },
   "outputs": [
    {
     "data": {
      "text/html": [
       "<div>\n",
       "<style scoped>\n",
       "    .dataframe tbody tr th:only-of-type {\n",
       "        vertical-align: middle;\n",
       "    }\n",
       "\n",
       "    .dataframe tbody tr th {\n",
       "        vertical-align: top;\n",
       "    }\n",
       "\n",
       "    .dataframe thead th {\n",
       "        text-align: right;\n",
       "    }\n",
       "</style>\n",
       "<table border=\"1\" class=\"dataframe\">\n",
       "  <thead>\n",
       "    <tr style=\"text-align: right;\">\n",
       "      <th></th>\n",
       "      <th>T</th>\n",
       "      <th>ALK</th>\n",
       "      <th>DIC</th>\n",
       "      <th>pH</th>\n",
       "      <th>pCO2</th>\n",
       "      <th>fCO2</th>\n",
       "      <th>xCO2</th>\n",
       "      <th>HCO3</th>\n",
       "      <th>CO3</th>\n",
       "      <th>CO2</th>\n",
       "      <th>RF</th>\n",
       "      <th>OmegaAr</th>\n",
       "    </tr>\n",
       "  </thead>\n",
       "  <tbody>\n",
       "    <tr>\n",
       "      <th>0</th>\n",
       "      <td>0.0</td>\n",
       "      <td>2300.0</td>\n",
       "      <td>2000.0</td>\n",
       "      <td>8.434464</td>\n",
       "      <td>137.246686</td>\n",
       "      <td>136.643633</td>\n",
       "      <td>138.062822</td>\n",
       "      <td>1792.126232</td>\n",
       "      <td>199.282966</td>\n",
       "      <td>8.590802</td>\n",
       "      <td>9.848596</td>\n",
       "      <td>3.001708</td>\n",
       "    </tr>\n",
       "    <tr>\n",
       "      <th>1</th>\n",
       "      <td>10.0</td>\n",
       "      <td>2300.0</td>\n",
       "      <td>2000.0</td>\n",
       "      <td>8.270520</td>\n",
       "      <td>215.884104</td>\n",
       "      <td>215.052981</td>\n",
       "      <td>218.479058</td>\n",
       "      <td>1786.768907</td>\n",
       "      <td>203.794720</td>\n",
       "      <td>9.436373</td>\n",
       "      <td>9.761787</td>\n",
       "      <td>3.087672</td>\n",
       "    </tr>\n",
       "    <tr>\n",
       "      <th>2</th>\n",
       "      <td>20.0</td>\n",
       "      <td>2300.0</td>\n",
       "      <td>2000.0</td>\n",
       "      <td>8.114276</td>\n",
       "      <td>330.079951</td>\n",
       "      <td>328.960457</td>\n",
       "      <td>337.720051</td>\n",
       "      <td>1781.162173</td>\n",
       "      <td>208.177059</td>\n",
       "      <td>10.660768</td>\n",
       "      <td>9.648567</td>\n",
       "      <td>3.235996</td>\n",
       "    </tr>\n",
       "    <tr>\n",
       "      <th>3</th>\n",
       "      <td>30.0</td>\n",
       "      <td>2300.0</td>\n",
       "      <td>2000.0</td>\n",
       "      <td>7.963633</td>\n",
       "      <td>493.455490</td>\n",
       "      <td>491.973589</td>\n",
       "      <td>514.590128</td>\n",
       "      <td>1775.830647</td>\n",
       "      <td>211.785716</td>\n",
       "      <td>12.383637</td>\n",
       "      <td>9.496288</td>\n",
       "      <td>3.448190</td>\n",
       "    </tr>\n",
       "  </tbody>\n",
       "</table>\n",
       "</div>"
      ],
      "text/plain": [
       "      T     ALK     DIC        pH        pCO2        fCO2        xCO2  \\\n",
       "0   0.0  2300.0  2000.0  8.434464  137.246686  136.643633  138.062822   \n",
       "1  10.0  2300.0  2000.0  8.270520  215.884104  215.052981  218.479058   \n",
       "2  20.0  2300.0  2000.0  8.114276  330.079951  328.960457  337.720051   \n",
       "3  30.0  2300.0  2000.0  7.963633  493.455490  491.973589  514.590128   \n",
       "\n",
       "          HCO3         CO3        CO2        RF   OmegaAr   \n",
       "0  1792.126232  199.282966   8.590802  9.848596   3.001708  \n",
       "1  1786.768907  203.794720   9.436373  9.761787   3.087672  \n",
       "2  1781.162173  208.177059  10.660768  9.648567   3.235996  \n",
       "3  1775.830647  211.785716  12.383637  9.496288   3.448190  "
      ]
     },
     "execution_count": 26,
     "metadata": {},
     "output_type": "execute_result"
    }
   ],
   "source": [
    "df=pd.read_csv('test.csv', sep=',')\n",
    "df"
   ]
  },
  {
   "cell_type": "markdown",
   "metadata": {},
   "source": [
    "## 4. Read CSV file for input to CO2SYS"
   ]
  },
  {
   "cell_type": "markdown",
   "metadata": {},
   "source": [
    "#### Show contents of input data file"
   ]
  },
  {
   "cell_type": "code",
   "execution_count": 27,
   "metadata": {
    "scrolled": true
   },
   "outputs": [
    {
     "name": "stdout",
     "output_type": "stream",
     "text": [
      "var1,var2,var1type,var2type,S,T,P\r\n",
      "8.046626,2300,3,1,35,13,0\r\n",
      "8.046626,2300,3,1,35,13,500\r\n",
      "8.046626,2300,3,1,35,13,1000\r\n",
      "8.046626,2300,3,1,35,13,1500\r\n",
      "8.046626,2300,3,1,35,13,2000\r\n",
      "8.046626,2300,3,1,35,13,2500\r\n",
      "8.046626,2300,3,1,35,13,3000\r\n",
      "8.046626,2300,3,1,35,13,3500\r\n",
      "8.046626,2300,3,1,35,13,4000\r\n",
      "8.046626,2300,3,1,35,13,4500\r\n",
      "8.046626,2300,3,1,35,13,5000\r\n",
      "8.046626,2300,3,1,35,13,5500\r\n",
      "8.046626,2300,3,1,35,13,6000\r\n",
      "8.046626,2300,3,1,35,13,6500\r\n",
      "8.046626,2300,3,1,35,13,7000\r\n",
      "8.046626,2300,3,1,35,13,7500\r\n",
      "8.046626,2300,3,1,35,13,8000\r\n",
      "8.046626,2300,3,1,35,13,8500\r\n",
      "8.046626,2300,3,1,35,13,9000\r\n",
      "8.046626,2300,3,1,35,13,9500\r\n",
      "8.046626,2300,3,1,35,13,10000\r\n"
     ]
    }
   ],
   "source": [
    "!cat Alk-pH-P-vary-for-CO2sys-Matlab.csv"
   ]
  },
  {
   "cell_type": "markdown",
   "metadata": {},
   "source": [
    "#### Read input data, assign to input variables, and compute C chem variables  with CO2SYS"
   ]
  },
  {
   "cell_type": "code",
   "execution_count": 28,
   "metadata": {},
   "outputs": [],
   "source": [
    "%%octave\n",
    "    filein = 'Alk-pH-P-vary-for-CO2sys-Matlab.csv';\n",
    "    datin  = csvread(filein, 1, 0);\n",
    "\n",
    "#   Transpose array so that columns become rows (and vice versa)\n",
    "    datin = transpose(datin);\n",
    "    \n",
    "    par1     = datin(1,:);\n",
    "    par2     = datin(2,:);\n",
    "    par1type = datin(3,:);\n",
    "    par2type = datin(4,:);\n",
    "    sal      = datin(5,:);\n",
    "    tempin   = datin(6,:);\n",
    "    presin   = datin(7,:); \n",
    "\n",
    "#   Specify remaining input data\n",
    "    tempout  = 0;   % not used\n",
    "    presout  = 0;   % not used\n",
    "    sil      =    0; % Concentration of Sit  in the sample (in umol/kg)\n",
    "    po4      =    0; % Concentration of Pt in the sample (in umol/kg)\n",
    "    pHscale  =    1; % pH scale at which the input pH is reported (\"1\" means \"Total Scale\")\n",
    "    k1k2c    =   10; % K1 & K2   (\"10\" means \"Lueker et al., 2000\")\n",
    "    kso4c    =    1; % KSO4 & Bt (\"1\" means \"KSO4 from Dickson 1990a & Bt from Uppstrom 1974\")\n",
    "    \n",
    "    b = CO2SYS(par1, par2, par1type, par2type, sal, tempin, tempout, presin,presout,sil,po4,pHscale,k1k2c,kso4c);"
   ]
  },
  {
   "cell_type": "markdown",
   "metadata": {},
   "source": [
    "#### Assign output variables by CO2SYS index"
   ]
  },
  {
   "cell_type": "code",
   "execution_count": 29,
   "metadata": {},
   "outputs": [],
   "source": [
    "%%octave\n",
    "\n",
    "ALK     = b(:,1);    %01 - TAlk                 (umol/kgSW)\n",
    "DIC     = b(:,2);    %02 - TCO2                 (umol/kgSW)\n",
    "pH      = b(:,3);    %03 - pHin                 ()\n",
    "pCO2    = b(:,4);    %04 - pCO2 input           (uatm)\n",
    "fCO2    = b(:,5);    %05 - fCO2 input           (uatm)\n",
    "HCO3    = b(:,6);    %06 - HCO3 input           (umol/kgSW)\n",
    "CO3     = b(:,7);    %07 - CO3 input            (umol/kgSW)\n",
    "CO2     = b(:,8);    %08 - CO2 input            (umol/kgSW)\n",
    "Hfree   = b(:,13);   %13 - Hfree input          (umol/kgSW)\n",
    "RF      = b(:,14);   %14 - RevelleFactor input  ()\n",
    "OmegaCa = b(:,15);   %15 - OmegaCa input        ()\n",
    "OmegaAr = b(:,16);   %16 - OmegaAr input        ()\n",
    "xCO2    = b(:,17);   %17 - xCO2 input           (ppm)"
   ]
  },
  {
   "cell_type": "markdown",
   "metadata": {},
   "source": [
    "#### Display results"
   ]
  },
  {
   "cell_type": "code",
   "execution_count": 30,
   "metadata": {},
   "outputs": [
    {
     "data": {
      "text/plain": [
       "T          ALK     DIC     pH     pCO2   fCO2   xCO2    HCO3     CO3     CO2     RF    OmegaAr"
      ]
     },
     "metadata": {},
     "output_type": "display_data"
    },
    {
     "data": {
      "text/plain": [
       " 13.000,  2300.0  2095.9  8.0466  399.4  397.9  405.3,  1932.1   148.0  15.85  11.970  2.254"
      ]
     },
     "metadata": {},
     "output_type": "display_data"
    },
    {
     "data": {
      "text/plain": [
       " 13.000,  2300.0  2087.3  8.0466  377.4  376.0  383.0,  1920.1   152.1  14.98  11.732  2.136"
      ]
     },
     "metadata": {},
     "output_type": "display_data"
    },
    {
     "data": {
      "text/plain": [
       " 13.000,  2300.0  2078.5  8.0466  356.7  355.4  362.0,  1907.9   156.4  14.16  11.499  2.025"
      ]
     },
     "metadata": {},
     "output_type": "display_data"
    },
    {
     "data": {
      "text/plain": [
       " 13.000,  2300.0  2069.6  8.0466  337.1  335.9  342.1,  1895.5   160.7  13.38  11.272  1.921"
      ]
     },
     "metadata": {},
     "output_type": "display_data"
    },
    {
     "data": {
      "text/plain": [
       " 13.000,  2300.0  2060.5  8.0466  318.6  317.5  323.3,  1882.7   165.2  12.65  11.051  1.823"
      ]
     },
     "metadata": {},
     "output_type": "display_data"
    },
    {
     "data": {
      "text/plain": [
       " 13.000,  2300.0  2051.3  8.0466  301.2  300.0  305.6,  1869.7   169.6  11.95  10.837  1.730"
      ]
     },
     "metadata": {},
     "output_type": "display_data"
    },
    {
     "data": {
      "text/plain": [
       " 13.000,  2300.0  2042.0  8.0466  284.7  283.6  288.8,  1856.5   174.2  11.30  10.629  1.643"
      ]
     },
     "metadata": {},
     "output_type": "display_data"
    },
    {
     "data": {
      "text/plain": [
       " 13.000,  2300.0  2032.5  8.0466  269.1  268.1  273.0,  1842.9   178.8  10.68  10.429  1.561"
      ]
     },
     "metadata": {},
     "output_type": "display_data"
    },
    {
     "data": {
      "text/plain": [
       " 13.000,  2300.0  2022.8  8.0466  254.3  253.4  258.1,  1829.2   183.5  10.09  10.235  1.484"
      ]
     },
     "metadata": {},
     "output_type": "display_data"
    },
    {
     "data": {
      "text/plain": [
       " 13.000,  2300.0  2013.0  8.0466  240.4  239.5  243.9,  1815.2   188.3   9.54  10.049  1.412"
      ]
     },
     "metadata": {},
     "output_type": "display_data"
    },
    {
     "data": {
      "text/plain": [
       " 13.000,  2300.0  2003.1  8.0466  227.2  226.4  230.6,  1800.9   193.2   9.02   9.869  1.343"
      ]
     },
     "metadata": {},
     "output_type": "display_data"
    },
    {
     "data": {
      "text/plain": [
       " 13.000,  2300.0  1993.0  8.0466  214.8  214.0  218.0,  1786.4   198.1   8.53   9.697  1.279"
      ]
     },
     "metadata": {},
     "output_type": "display_data"
    },
    {
     "data": {
      "text/plain": [
       " 13.000,  2300.0  1982.8  8.0466  203.0  202.3  206.0,  1771.7   203.1   8.06   9.533  1.218"
      ]
     },
     "metadata": {},
     "output_type": "display_data"
    },
    {
     "data": {
      "text/plain": [
       " 13.000,  2300.0  1972.5  8.0466  191.9  191.2  194.8,  1756.8   208.1   7.62   9.375  1.160"
      ]
     },
     "metadata": {},
     "output_type": "display_data"
    },
    {
     "data": {
      "text/plain": [
       " 13.000,  2300.0  1962.1  8.0466  181.4  180.8  184.1,  1741.6   213.2   7.20   9.225  1.106"
      ]
     },
     "metadata": {},
     "output_type": "display_data"
    },
    {
     "data": {
      "text/plain": [
       " 13.000,  2300.0  1951.5  8.0466  171.5  170.9  174.0,  1726.3   218.4   6.81   9.081  1.055"
      ]
     },
     "metadata": {},
     "output_type": "display_data"
    },
    {
     "data": {
      "text/plain": [
       " 13.000,  2300.0  1940.8  8.0466  162.1  161.5  164.5,  1710.7   223.7   6.44   8.944  1.006"
      ]
     },
     "metadata": {},
     "output_type": "display_data"
    },
    {
     "data": {
      "text/plain": [
       " 13.000,  2300.0  1930.1  8.0466  153.3  152.7  155.5,  1695.0   229.0   6.08   8.814  0.960"
      ]
     },
     "metadata": {},
     "output_type": "display_data"
    },
    {
     "data": {
      "text/plain": [
       " 13.000,  2300.0  1919.2  8.0466  144.9  144.4  147.0,  1679.1   234.3   5.75   8.691  0.917"
      ]
     },
     "metadata": {},
     "output_type": "display_data"
    },
    {
     "data": {
      "text/plain": [
       " 13.000,  2300.0  1908.2  8.0466  137.0  136.5  139.0,  1663.0   239.7   5.44   8.574  0.876"
      ]
     },
     "metadata": {},
     "output_type": "display_data"
    },
    {
     "data": {
      "text/plain": [
       " 13.000,  2300.0  1897.2  8.0466  129.5  129.0  131.4,  1646.8   245.2   5.14   8.463  0.837"
      ]
     },
     "metadata": {},
     "output_type": "display_data"
    }
   ],
   "source": [
    "%%octave\n",
    "printf('%s          %s     %s     %s     %s   %s   %s    %s     %s     %s     %s    %s \\n', \n",
    "       'T', 'ALK', 'DIC', 'pH', 'pCO2', 'fCO2', 'xCO2', 'HCO3', 'CO3', 'CO2', 'RF', 'OmegaAr')\n",
    "\n",
    "for i=1 : length(pCO2)\n",
    "    printf('%7.3f, %7.1f %7.1f %7.4f %6.1f %6.1f %6.1f, %7.1f %7.1f %6.2f %7.3f %6.3f\\n', \n",
    "           tempin(i), ALK(i), DIC(i), \n",
    "           pH(i), pCO2(i), fCO2(i), xCO2(i), HCO3(i), CO3(i), CO2(i), RF(i), OmegaAr(i));\n",
    "end"
   ]
  },
  {
   "cell_type": "markdown",
   "metadata": {},
   "source": [
    "### 5. Pull arrays (from octave to python), then use `pandas` to display a nice table"
   ]
  },
  {
   "cell_type": "markdown",
   "metadata": {},
   "source": [
    "Pull arrays, then combine into a `pandas` DataFrame"
   ]
  },
  {
   "cell_type": "code",
   "execution_count": 31,
   "metadata": {
    "scrolled": true
   },
   "outputs": [
    {
     "data": {
      "text/html": [
       "<div>\n",
       "<style scoped>\n",
       "    .dataframe tbody tr th:only-of-type {\n",
       "        vertical-align: middle;\n",
       "    }\n",
       "\n",
       "    .dataframe tbody tr th {\n",
       "        vertical-align: top;\n",
       "    }\n",
       "\n",
       "    .dataframe thead th {\n",
       "        text-align: right;\n",
       "    }\n",
       "</style>\n",
       "<table border=\"1\" class=\"dataframe\">\n",
       "  <thead>\n",
       "    <tr style=\"text-align: right;\">\n",
       "      <th></th>\n",
       "      <th>ALK</th>\n",
       "      <th>DIC</th>\n",
       "      <th>pH</th>\n",
       "      <th>pCO2</th>\n",
       "      <th>fCO2</th>\n",
       "      <th>xCO2</th>\n",
       "      <th>HCO3</th>\n",
       "      <th>CO3</th>\n",
       "      <th>CO2</th>\n",
       "      <th>RF</th>\n",
       "      <th>OmegaAr</th>\n",
       "    </tr>\n",
       "  </thead>\n",
       "  <tbody>\n",
       "    <tr>\n",
       "      <th>0</th>\n",
       "      <td>2300.0</td>\n",
       "      <td>2095.878198</td>\n",
       "      <td>8.046626</td>\n",
       "      <td>399.381711</td>\n",
       "      <td>397.902346</td>\n",
       "      <td>405.252750</td>\n",
       "      <td>1932.071115</td>\n",
       "      <td>147.954419</td>\n",
       "      <td>15.852664</td>\n",
       "      <td>11.970317</td>\n",
       "      <td>2.254157</td>\n",
       "    </tr>\n",
       "    <tr>\n",
       "      <th>1</th>\n",
       "      <td>2300.0</td>\n",
       "      <td>2087.260557</td>\n",
       "      <td>8.046626</td>\n",
       "      <td>377.439062</td>\n",
       "      <td>376.040976</td>\n",
       "      <td>382.987537</td>\n",
       "      <td>1920.137580</td>\n",
       "      <td>152.141283</td>\n",
       "      <td>14.981694</td>\n",
       "      <td>11.732085</td>\n",
       "      <td>2.136033</td>\n",
       "    </tr>\n",
       "    <tr>\n",
       "      <th>2</th>\n",
       "      <td>2300.0</td>\n",
       "      <td>2078.497358</td>\n",
       "      <td>8.046626</td>\n",
       "      <td>356.712837</td>\n",
       "      <td>355.391524</td>\n",
       "      <td>361.956630</td>\n",
       "      <td>1907.933917</td>\n",
       "      <td>156.404433</td>\n",
       "      <td>14.159008</td>\n",
       "      <td>11.499182</td>\n",
       "      <td>2.025034</td>\n",
       "    </tr>\n",
       "    <tr>\n",
       "      <th>3</th>\n",
       "      <td>2300.0</td>\n",
       "      <td>2069.587142</td>\n",
       "      <td>8.046626</td>\n",
       "      <td>337.134249</td>\n",
       "      <td>335.885458</td>\n",
       "      <td>342.090230</td>\n",
       "      <td>1895.461955</td>\n",
       "      <td>160.743312</td>\n",
       "      <td>13.381874</td>\n",
       "      <td>11.272086</td>\n",
       "      <td>1.920685</td>\n",
       "    </tr>\n",
       "    <tr>\n",
       "      <th>4</th>\n",
       "      <td>2300.0</td>\n",
       "      <td>2060.529081</td>\n",
       "      <td>8.046626</td>\n",
       "      <td>318.638565</td>\n",
       "      <td>317.458284</td>\n",
       "      <td>323.322654</td>\n",
       "      <td>1882.724066</td>\n",
       "      <td>165.157290</td>\n",
       "      <td>12.647725</td>\n",
       "      <td>11.051189</td>\n",
       "      <td>1.822547</td>\n",
       "    </tr>\n",
       "    <tr>\n",
       "      <th>5</th>\n",
       "      <td>2300.0</td>\n",
       "      <td>2051.322979</td>\n",
       "      <td>8.046626</td>\n",
       "      <td>301.164858</td>\n",
       "      <td>300.049302</td>\n",
       "      <td>305.592077</td>\n",
       "      <td>1869.723179</td>\n",
       "      <td>169.645659</td>\n",
       "      <td>11.954141</td>\n",
       "      <td>10.836810</td>\n",
       "      <td>1.730210</td>\n",
       "    </tr>\n",
       "    <tr>\n",
       "      <th>6</th>\n",
       "      <td>2300.0</td>\n",
       "      <td>2041.969265</td>\n",
       "      <td>8.046626</td>\n",
       "      <td>284.655765</td>\n",
       "      <td>283.601362</td>\n",
       "      <td>288.840296</td>\n",
       "      <td>1856.462778</td>\n",
       "      <td>174.207641</td>\n",
       "      <td>11.298845</td>\n",
       "      <td>10.629199</td>\n",
       "      <td>1.643298</td>\n",
       "    </tr>\n",
       "    <tr>\n",
       "      <th>7</th>\n",
       "      <td>2300.0</td>\n",
       "      <td>2032.468992</td>\n",
       "      <td>8.046626</td>\n",
       "      <td>269.057274</td>\n",
       "      <td>268.060650</td>\n",
       "      <td>273.012502</td>\n",
       "      <td>1842.946908</td>\n",
       "      <td>178.842390</td>\n",
       "      <td>10.679694</td>\n",
       "      <td>10.428544</td>\n",
       "      <td>1.561457</td>\n",
       "    </tr>\n",
       "    <tr>\n",
       "      <th>8</th>\n",
       "      <td>2300.0</td>\n",
       "      <td>2022.823828</td>\n",
       "      <td>8.046626</td>\n",
       "      <td>254.318510</td>\n",
       "      <td>253.376479</td>\n",
       "      <td>258.057073</td>\n",
       "      <td>1829.180168</td>\n",
       "      <td>183.548992</td>\n",
       "      <td>10.094668</td>\n",
       "      <td>10.234979</td>\n",
       "      <td>1.484362</td>\n",
       "    </tr>\n",
       "    <tr>\n",
       "      <th>9</th>\n",
       "      <td>2300.0</td>\n",
       "      <td>2013.036044</td>\n",
       "      <td>8.046626</td>\n",
       "      <td>240.391542</td>\n",
       "      <td>239.501099</td>\n",
       "      <td>243.925375</td>\n",
       "      <td>1815.167706</td>\n",
       "      <td>188.326474</td>\n",
       "      <td>9.541865</td>\n",
       "      <td>10.048589</td>\n",
       "      <td>1.411708</td>\n",
       "    </tr>\n",
       "    <tr>\n",
       "      <th>10</th>\n",
       "      <td>2300.0</td>\n",
       "      <td>2003.108500</td>\n",
       "      <td>8.046626</td>\n",
       "      <td>227.231206</td>\n",
       "      <td>226.389511</td>\n",
       "      <td>230.571578</td>\n",
       "      <td>1800.915205</td>\n",
       "      <td>193.173803</td>\n",
       "      <td>9.019491</td>\n",
       "      <td>9.869416</td>\n",
       "      <td>1.343214</td>\n",
       "    </tr>\n",
       "    <tr>\n",
       "      <th>11</th>\n",
       "      <td>2300.0</td>\n",
       "      <td>1993.044628</td>\n",
       "      <td>8.046626</td>\n",
       "      <td>214.794933</td>\n",
       "      <td>213.999303</td>\n",
       "      <td>217.952487</td>\n",
       "      <td>1786.428875</td>\n",
       "      <td>198.089895</td>\n",
       "      <td>8.525858</td>\n",
       "      <td>9.697466</td>\n",
       "      <td>1.278617</td>\n",
       "    </tr>\n",
       "    <tr>\n",
       "      <th>12</th>\n",
       "      <td>2300.0</td>\n",
       "      <td>1982.848410</td>\n",
       "      <td>8.046626</td>\n",
       "      <td>203.042587</td>\n",
       "      <td>202.290490</td>\n",
       "      <td>206.027378</td>\n",
       "      <td>1771.715425</td>\n",
       "      <td>203.073613</td>\n",
       "      <td>8.059372</td>\n",
       "      <td>9.532712</td>\n",
       "      <td>1.217672</td>\n",
       "    </tr>\n",
       "    <tr>\n",
       "      <th>13</th>\n",
       "      <td>2300.0</td>\n",
       "      <td>1972.524355</td>\n",
       "      <td>8.046626</td>\n",
       "      <td>191.936324</td>\n",
       "      <td>191.225365</td>\n",
       "      <td>194.757849</td>\n",
       "      <td>1756.782048</td>\n",
       "      <td>208.123776</td>\n",
       "      <td>7.618531</td>\n",
       "      <td>9.375098</td>\n",
       "      <td>1.160152</td>\n",
       "    </tr>\n",
       "    <tr>\n",
       "      <th>14</th>\n",
       "      <td>2300.0</td>\n",
       "      <td>1962.077470</td>\n",
       "      <td>8.046626</td>\n",
       "      <td>181.440445</td>\n",
       "      <td>180.768365</td>\n",
       "      <td>184.107677</td>\n",
       "      <td>1741.636391</td>\n",
       "      <td>213.239161</td>\n",
       "      <td>7.201918</td>\n",
       "      <td>9.224545</td>\n",
       "      <td>1.105844</td>\n",
       "    </tr>\n",
       "    <tr>\n",
       "      <th>15</th>\n",
       "      <td>2300.0</td>\n",
       "      <td>1951.513231</td>\n",
       "      <td>8.046626</td>\n",
       "      <td>171.521272</td>\n",
       "      <td>170.885934</td>\n",
       "      <td>174.042690</td>\n",
       "      <td>1726.286527</td>\n",
       "      <td>218.418507</td>\n",
       "      <td>6.808196</td>\n",
       "      <td>9.080952</td>\n",
       "      <td>1.054552</td>\n",
       "    </tr>\n",
       "    <tr>\n",
       "      <th>16</th>\n",
       "      <td>2300.0</td>\n",
       "      <td>1940.837547</td>\n",
       "      <td>8.046626</td>\n",
       "      <td>162.147025</td>\n",
       "      <td>161.546410</td>\n",
       "      <td>164.530638</td>\n",
       "      <td>1710.740923</td>\n",
       "      <td>223.660520</td>\n",
       "      <td>6.436104</td>\n",
       "      <td>8.944203</td>\n",
       "      <td>1.006091</td>\n",
       "    </tr>\n",
       "    <tr>\n",
       "      <th>17</th>\n",
       "      <td>2300.0</td>\n",
       "      <td>1930.056728</td>\n",
       "      <td>8.046626</td>\n",
       "      <td>153.287706</td>\n",
       "      <td>152.719908</td>\n",
       "      <td>155.541085</td>\n",
       "      <td>1695.008402</td>\n",
       "      <td>228.963874</td>\n",
       "      <td>6.084451</td>\n",
       "      <td>8.814164</td>\n",
       "      <td>0.960288</td>\n",
       "    </tr>\n",
       "    <tr>\n",
       "      <th>18</th>\n",
       "      <td>2300.0</td>\n",
       "      <td>1919.177440</td>\n",
       "      <td>8.046626</td>\n",
       "      <td>144.914997</td>\n",
       "      <td>144.378212</td>\n",
       "      <td>147.045294</td>\n",
       "      <td>1679.098110</td>\n",
       "      <td>234.327218</td>\n",
       "      <td>5.752113</td>\n",
       "      <td>8.690694</td>\n",
       "      <td>0.916984</td>\n",
       "    </tr>\n",
       "    <tr>\n",
       "      <th>19</th>\n",
       "      <td>2300.0</td>\n",
       "      <td>1908.206673</td>\n",
       "      <td>8.046626</td>\n",
       "      <td>137.002157</td>\n",
       "      <td>136.494683</td>\n",
       "      <td>139.016133</td>\n",
       "      <td>1663.019470</td>\n",
       "      <td>239.749174</td>\n",
       "      <td>5.438029</td>\n",
       "      <td>8.573638</td>\n",
       "      <td>0.876029</td>\n",
       "    </tr>\n",
       "    <tr>\n",
       "      <th>20</th>\n",
       "      <td>2300.0</td>\n",
       "      <td>1897.151689</td>\n",
       "      <td>8.046626</td>\n",
       "      <td>129.523931</td>\n",
       "      <td>129.044157</td>\n",
       "      <td>131.427974</td>\n",
       "      <td>1646.782151</td>\n",
       "      <td>245.228343</td>\n",
       "      <td>5.141195</td>\n",
       "      <td>8.462837</td>\n",
       "      <td>0.837282</td>\n",
       "    </tr>\n",
       "  </tbody>\n",
       "</table>\n",
       "</div>"
      ],
      "text/plain": [
       "       ALK          DIC        pH        pCO2        fCO2        xCO2  \\\n",
       "0   2300.0  2095.878198  8.046626  399.381711  397.902346  405.252750   \n",
       "1   2300.0  2087.260557  8.046626  377.439062  376.040976  382.987537   \n",
       "2   2300.0  2078.497358  8.046626  356.712837  355.391524  361.956630   \n",
       "3   2300.0  2069.587142  8.046626  337.134249  335.885458  342.090230   \n",
       "4   2300.0  2060.529081  8.046626  318.638565  317.458284  323.322654   \n",
       "5   2300.0  2051.322979  8.046626  301.164858  300.049302  305.592077   \n",
       "6   2300.0  2041.969265  8.046626  284.655765  283.601362  288.840296   \n",
       "7   2300.0  2032.468992  8.046626  269.057274  268.060650  273.012502   \n",
       "8   2300.0  2022.823828  8.046626  254.318510  253.376479  258.057073   \n",
       "9   2300.0  2013.036044  8.046626  240.391542  239.501099  243.925375   \n",
       "10  2300.0  2003.108500  8.046626  227.231206  226.389511  230.571578   \n",
       "11  2300.0  1993.044628  8.046626  214.794933  213.999303  217.952487   \n",
       "12  2300.0  1982.848410  8.046626  203.042587  202.290490  206.027378   \n",
       "13  2300.0  1972.524355  8.046626  191.936324  191.225365  194.757849   \n",
       "14  2300.0  1962.077470  8.046626  181.440445  180.768365  184.107677   \n",
       "15  2300.0  1951.513231  8.046626  171.521272  170.885934  174.042690   \n",
       "16  2300.0  1940.837547  8.046626  162.147025  161.546410  164.530638   \n",
       "17  2300.0  1930.056728  8.046626  153.287706  152.719908  155.541085   \n",
       "18  2300.0  1919.177440  8.046626  144.914997  144.378212  147.045294   \n",
       "19  2300.0  1908.206673  8.046626  137.002157  136.494683  139.016133   \n",
       "20  2300.0  1897.151689  8.046626  129.523931  129.044157  131.427974   \n",
       "\n",
       "           HCO3         CO3        CO2         RF   OmegaAr  \n",
       "0   1932.071115  147.954419  15.852664  11.970317  2.254157  \n",
       "1   1920.137580  152.141283  14.981694  11.732085  2.136033  \n",
       "2   1907.933917  156.404433  14.159008  11.499182  2.025034  \n",
       "3   1895.461955  160.743312  13.381874  11.272086  1.920685  \n",
       "4   1882.724066  165.157290  12.647725  11.051189  1.822547  \n",
       "5   1869.723179  169.645659  11.954141  10.836810  1.730210  \n",
       "6   1856.462778  174.207641  11.298845  10.629199  1.643298  \n",
       "7   1842.946908  178.842390  10.679694  10.428544  1.561457  \n",
       "8   1829.180168  183.548992  10.094668  10.234979  1.484362  \n",
       "9   1815.167706  188.326474   9.541865  10.048589  1.411708  \n",
       "10  1800.915205  193.173803   9.019491   9.869416  1.343214  \n",
       "11  1786.428875  198.089895   8.525858   9.697466  1.278617  \n",
       "12  1771.715425  203.073613   8.059372   9.532712  1.217672  \n",
       "13  1756.782048  208.123776   7.618531   9.375098  1.160152  \n",
       "14  1741.636391  213.239161   7.201918   9.224545  1.105844  \n",
       "15  1726.286527  218.418507   6.808196   9.080952  1.054552  \n",
       "16  1710.740923  223.660520   6.436104   8.944203  1.006091  \n",
       "17  1695.008402  228.963874   6.084451   8.814164  0.960288  \n",
       "18  1679.098110  234.327218   5.752113   8.690694  0.916984  \n",
       "19  1663.019470  239.749174   5.438029   8.573638  0.876029  \n",
       "20  1646.782151  245.228343   5.141195   8.462837  0.837282  "
      ]
     },
     "execution_count": 31,
     "metadata": {},
     "output_type": "execute_result"
    }
   ],
   "source": [
    "%octave_pull tempin ALK DIC pH pCO2 fCO2 xCO2 HCO3 CO3 CO2 RF OmegaAr\n",
    "\n",
    "#print(tempin)\n",
    "pieces = [ALK, DIC, pH, pCO2, fCO2, xCO2, HCO3, CO3, CO2, RF, OmegaAr]\n",
    "pieces = np.array(pieces)\n",
    "pieces = np.squeeze(pieces)\n",
    "pieces = np.transpose(pieces)\n",
    "cols = list(['ALK', 'DIC', 'pH', 'pCO2', 'fCO2', 'xCO2', 'HCO3', 'CO3', 'CO2', 'RF', 'OmegaAr'])\n",
    "#pad = pd.DataFrame(pieces, index=list(tempin), columns=cols)\n",
    "df = pd.DataFrame(pieces, columns=cols)\n",
    "df"
   ]
  },
  {
   "cell_type": "markdown",
   "metadata": {},
   "source": [
    "Quick statistical summary"
   ]
  },
  {
   "cell_type": "code",
   "execution_count": 32,
   "metadata": {
    "scrolled": true
   },
   "outputs": [
    {
     "data": {
      "text/html": [
       "<div>\n",
       "<style scoped>\n",
       "    .dataframe tbody tr th:only-of-type {\n",
       "        vertical-align: middle;\n",
       "    }\n",
       "\n",
       "    .dataframe tbody tr th {\n",
       "        vertical-align: top;\n",
       "    }\n",
       "\n",
       "    .dataframe thead th {\n",
       "        text-align: right;\n",
       "    }\n",
       "</style>\n",
       "<table border=\"1\" class=\"dataframe\">\n",
       "  <thead>\n",
       "    <tr style=\"text-align: right;\">\n",
       "      <th></th>\n",
       "      <th>ALK</th>\n",
       "      <th>DIC</th>\n",
       "      <th>pH</th>\n",
       "      <th>pCO2</th>\n",
       "      <th>fCO2</th>\n",
       "      <th>xCO2</th>\n",
       "      <th>HCO3</th>\n",
       "      <th>CO3</th>\n",
       "      <th>CO2</th>\n",
       "      <th>RF</th>\n",
       "      <th>OmegaAr</th>\n",
       "    </tr>\n",
       "  </thead>\n",
       "  <tbody>\n",
       "    <tr>\n",
       "      <th>count</th>\n",
       "      <td>21.0</td>\n",
       "      <td>21.000000</td>\n",
       "      <td>21.000000</td>\n",
       "      <td>21.000000</td>\n",
       "      <td>21.000000</td>\n",
       "      <td>21.000000</td>\n",
       "      <td>21.000000</td>\n",
       "      <td>21.000000</td>\n",
       "      <td>21.000000</td>\n",
       "      <td>21.000000</td>\n",
       "      <td>21.000000</td>\n",
       "    </tr>\n",
       "    <tr>\n",
       "      <th>mean</th>\n",
       "      <td>2300.0</td>\n",
       "      <td>2000.662863</td>\n",
       "      <td>8.046626</td>\n",
       "      <td>240.749379</td>\n",
       "      <td>239.857610</td>\n",
       "      <td>244.288472</td>\n",
       "      <td>1796.677281</td>\n",
       "      <td>194.429513</td>\n",
       "      <td>9.556068</td>\n",
       "      <td>9.998510</td>\n",
       "      <td>1.416487</td>\n",
       "    </tr>\n",
       "    <tr>\n",
       "      <th>std</th>\n",
       "      <td>0.0</td>\n",
       "      <td>61.818645</td>\n",
       "      <td>0.000000</td>\n",
       "      <td>83.166588</td>\n",
       "      <td>82.858527</td>\n",
       "      <td>84.389163</td>\n",
       "      <td>88.815868</td>\n",
       "      <td>30.238477</td>\n",
       "      <td>3.301133</td>\n",
       "      <td>1.095133</td>\n",
       "      <td>0.435609</td>\n",
       "    </tr>\n",
       "    <tr>\n",
       "      <th>min</th>\n",
       "      <td>2300.0</td>\n",
       "      <td>1897.151689</td>\n",
       "      <td>8.046626</td>\n",
       "      <td>129.523931</td>\n",
       "      <td>129.044157</td>\n",
       "      <td>131.427974</td>\n",
       "      <td>1646.782151</td>\n",
       "      <td>147.954419</td>\n",
       "      <td>5.141195</td>\n",
       "      <td>8.462837</td>\n",
       "      <td>0.837282</td>\n",
       "    </tr>\n",
       "    <tr>\n",
       "      <th>25%</th>\n",
       "      <td>2300.0</td>\n",
       "      <td>1951.513231</td>\n",
       "      <td>8.046626</td>\n",
       "      <td>171.521272</td>\n",
       "      <td>170.885934</td>\n",
       "      <td>174.042690</td>\n",
       "      <td>1726.286527</td>\n",
       "      <td>169.645659</td>\n",
       "      <td>6.808196</td>\n",
       "      <td>9.080952</td>\n",
       "      <td>1.054552</td>\n",
       "    </tr>\n",
       "    <tr>\n",
       "      <th>50%</th>\n",
       "      <td>2300.0</td>\n",
       "      <td>2003.108500</td>\n",
       "      <td>8.046626</td>\n",
       "      <td>227.231206</td>\n",
       "      <td>226.389511</td>\n",
       "      <td>230.571578</td>\n",
       "      <td>1800.915205</td>\n",
       "      <td>193.173803</td>\n",
       "      <td>9.019491</td>\n",
       "      <td>9.869416</td>\n",
       "      <td>1.343214</td>\n",
       "    </tr>\n",
       "    <tr>\n",
       "      <th>75%</th>\n",
       "      <td>2300.0</td>\n",
       "      <td>2051.322979</td>\n",
       "      <td>8.046626</td>\n",
       "      <td>301.164858</td>\n",
       "      <td>300.049302</td>\n",
       "      <td>305.592077</td>\n",
       "      <td>1869.723179</td>\n",
       "      <td>218.418507</td>\n",
       "      <td>11.954141</td>\n",
       "      <td>10.836810</td>\n",
       "      <td>1.730210</td>\n",
       "    </tr>\n",
       "    <tr>\n",
       "      <th>max</th>\n",
       "      <td>2300.0</td>\n",
       "      <td>2095.878198</td>\n",
       "      <td>8.046626</td>\n",
       "      <td>399.381711</td>\n",
       "      <td>397.902346</td>\n",
       "      <td>405.252750</td>\n",
       "      <td>1932.071115</td>\n",
       "      <td>245.228343</td>\n",
       "      <td>15.852664</td>\n",
       "      <td>11.970317</td>\n",
       "      <td>2.254157</td>\n",
       "    </tr>\n",
       "  </tbody>\n",
       "</table>\n",
       "</div>"
      ],
      "text/plain": [
       "          ALK          DIC         pH        pCO2        fCO2        xCO2  \\\n",
       "count    21.0    21.000000  21.000000   21.000000   21.000000   21.000000   \n",
       "mean   2300.0  2000.662863   8.046626  240.749379  239.857610  244.288472   \n",
       "std       0.0    61.818645   0.000000   83.166588   82.858527   84.389163   \n",
       "min    2300.0  1897.151689   8.046626  129.523931  129.044157  131.427974   \n",
       "25%    2300.0  1951.513231   8.046626  171.521272  170.885934  174.042690   \n",
       "50%    2300.0  2003.108500   8.046626  227.231206  226.389511  230.571578   \n",
       "75%    2300.0  2051.322979   8.046626  301.164858  300.049302  305.592077   \n",
       "max    2300.0  2095.878198   8.046626  399.381711  397.902346  405.252750   \n",
       "\n",
       "              HCO3         CO3        CO2         RF    OmegaAr  \n",
       "count    21.000000   21.000000  21.000000  21.000000  21.000000  \n",
       "mean   1796.677281  194.429513   9.556068   9.998510   1.416487  \n",
       "std      88.815868   30.238477   3.301133   1.095133   0.435609  \n",
       "min    1646.782151  147.954419   5.141195   8.462837   0.837282  \n",
       "25%    1726.286527  169.645659   6.808196   9.080952   1.054552  \n",
       "50%    1800.915205  193.173803   9.019491   9.869416   1.343214  \n",
       "75%    1869.723179  218.418507  11.954141  10.836810   1.730210  \n",
       "max    1932.071115  245.228343  15.852664  11.970317   2.254157  "
      ]
     },
     "execution_count": 32,
     "metadata": {},
     "output_type": "execute_result"
    }
   ],
   "source": [
    "df.describe()"
   ]
  },
  {
   "cell_type": "markdown",
   "metadata": {},
   "source": [
    "Select results where $\\Omega_{Ar} < 1$"
   ]
  },
  {
   "cell_type": "code",
   "execution_count": 33,
   "metadata": {
    "scrolled": true
   },
   "outputs": [
    {
     "data": {
      "text/html": [
       "<div>\n",
       "<style scoped>\n",
       "    .dataframe tbody tr th:only-of-type {\n",
       "        vertical-align: middle;\n",
       "    }\n",
       "\n",
       "    .dataframe tbody tr th {\n",
       "        vertical-align: top;\n",
       "    }\n",
       "\n",
       "    .dataframe thead th {\n",
       "        text-align: right;\n",
       "    }\n",
       "</style>\n",
       "<table border=\"1\" class=\"dataframe\">\n",
       "  <thead>\n",
       "    <tr style=\"text-align: right;\">\n",
       "      <th></th>\n",
       "      <th>ALK</th>\n",
       "      <th>DIC</th>\n",
       "      <th>pH</th>\n",
       "      <th>pCO2</th>\n",
       "      <th>fCO2</th>\n",
       "      <th>xCO2</th>\n",
       "      <th>HCO3</th>\n",
       "      <th>CO3</th>\n",
       "      <th>CO2</th>\n",
       "      <th>RF</th>\n",
       "      <th>OmegaAr</th>\n",
       "    </tr>\n",
       "  </thead>\n",
       "  <tbody>\n",
       "    <tr>\n",
       "      <th>17</th>\n",
       "      <td>2300.0</td>\n",
       "      <td>1930.056728</td>\n",
       "      <td>8.046626</td>\n",
       "      <td>153.287706</td>\n",
       "      <td>152.719908</td>\n",
       "      <td>155.541085</td>\n",
       "      <td>1695.008402</td>\n",
       "      <td>228.963874</td>\n",
       "      <td>6.084451</td>\n",
       "      <td>8.814164</td>\n",
       "      <td>0.960288</td>\n",
       "    </tr>\n",
       "    <tr>\n",
       "      <th>18</th>\n",
       "      <td>2300.0</td>\n",
       "      <td>1919.177440</td>\n",
       "      <td>8.046626</td>\n",
       "      <td>144.914997</td>\n",
       "      <td>144.378212</td>\n",
       "      <td>147.045294</td>\n",
       "      <td>1679.098110</td>\n",
       "      <td>234.327218</td>\n",
       "      <td>5.752113</td>\n",
       "      <td>8.690694</td>\n",
       "      <td>0.916984</td>\n",
       "    </tr>\n",
       "    <tr>\n",
       "      <th>19</th>\n",
       "      <td>2300.0</td>\n",
       "      <td>1908.206673</td>\n",
       "      <td>8.046626</td>\n",
       "      <td>137.002157</td>\n",
       "      <td>136.494683</td>\n",
       "      <td>139.016133</td>\n",
       "      <td>1663.019470</td>\n",
       "      <td>239.749174</td>\n",
       "      <td>5.438029</td>\n",
       "      <td>8.573638</td>\n",
       "      <td>0.876029</td>\n",
       "    </tr>\n",
       "    <tr>\n",
       "      <th>20</th>\n",
       "      <td>2300.0</td>\n",
       "      <td>1897.151689</td>\n",
       "      <td>8.046626</td>\n",
       "      <td>129.523931</td>\n",
       "      <td>129.044157</td>\n",
       "      <td>131.427974</td>\n",
       "      <td>1646.782151</td>\n",
       "      <td>245.228343</td>\n",
       "      <td>5.141195</td>\n",
       "      <td>8.462837</td>\n",
       "      <td>0.837282</td>\n",
       "    </tr>\n",
       "  </tbody>\n",
       "</table>\n",
       "</div>"
      ],
      "text/plain": [
       "       ALK          DIC        pH        pCO2        fCO2        xCO2  \\\n",
       "17  2300.0  1930.056728  8.046626  153.287706  152.719908  155.541085   \n",
       "18  2300.0  1919.177440  8.046626  144.914997  144.378212  147.045294   \n",
       "19  2300.0  1908.206673  8.046626  137.002157  136.494683  139.016133   \n",
       "20  2300.0  1897.151689  8.046626  129.523931  129.044157  131.427974   \n",
       "\n",
       "           HCO3         CO3       CO2        RF   OmegaAr  \n",
       "17  1695.008402  228.963874  6.084451  8.814164  0.960288  \n",
       "18  1679.098110  234.327218  5.752113  8.690694  0.916984  \n",
       "19  1663.019470  239.749174  5.438029  8.573638  0.876029  \n",
       "20  1646.782151  245.228343  5.141195  8.462837  0.837282  "
      ]
     },
     "execution_count": 33,
     "metadata": {},
     "output_type": "execute_result"
    }
   ],
   "source": [
    "df[df.OmegaAr < 1]"
   ]
  },
  {
   "cell_type": "markdown",
   "metadata": {},
   "source": [
    "For more information on pandas (in Python) see for example http://pandas.pydata.org/pandas-docs/stable/10min.html"
   ]
  },
  {
   "cell_type": "markdown",
   "metadata": {},
   "source": [
    "## 6. Plot results from CO2SYS (example from Steven van Heuven , svheuven@gmail.com)"
   ]
  },
  {
   "cell_type": "markdown",
   "metadata": {},
   "source": [
    "Plot sensitivity of pH and pCO2 to changes in DIC, while keeping everything else constant.\n",
    "\n",
    "(ALK=2300, Si=50, PO4=2, dissociation constats: Mehrbach Refit)')"
   ]
  },
  {
   "cell_type": "code",
   "execution_count": 34,
   "metadata": {},
   "outputs": [
    {
     "data": {
      "image/png": "[encoded data removed]",
      "text/plain": [
       "<IPython.core.display.Image object>"
      ]
     },
     "metadata": {},
     "output_type": "display_data"
    }
   ],
   "source": [
    "%%octave -s 1000,400\n",
    "\n",
    "par1type =    1; % The first parameter supplied is of type \"1\", which is \"alkalinity\"\n",
    "par1     = 2300; % value of the first parameter\n",
    "par2type =    2; % The first parameter supplied is of type \"1\", which is \"DIC\"\n",
    "par2     = [2000:5:2200]; % value of the second parameter, which is a long vector of different DIC's!\n",
    "sal      =   35; % Salinity of the sample\n",
    "tempin   =   10; % Temperature at input conditions\n",
    "presin   =    0; % Pressure    at input conditions\n",
    "tempout  =    0; % Temperature at output conditions - doesn't matter in this example\n",
    "presout  =    0; % Pressure    at output conditions - doesn't matter in this example\n",
    "sil      =   50; % Concentration of silicate  in the sample (in umol/kg)\n",
    "po4      =    2; % Concentration of phosphate in the sample (in umol/kg)\n",
    "pHscale  =    1; % pH scale at which the input pH is reported (\"1\" means \"Total Scale\") - doesn't matter in this example\n",
    "k1k2c    =    4; % Choice of dissociation constants K1 and K2 (\"4\" means \"Mehrbach refit\")\n",
    "kso4c    =    1; % Choice of KSO4 (\"1\" means \"Dickson\")\n",
    "\n",
    "% Do the calculation. See CO2SYS's help for syntax and output format\n",
    "A = CO2SYS(par1,par2,par1type,par2type,sal,tempin,tempout,presin,presout,sil,po4,pHscale,k1k2c,kso4c);\n",
    "\n",
    "figure; clf\n",
    "subplot(1,2,1)\n",
    "plot(par2,A(:,4),'r.-') # The calculated pCO2's are in the 4th column of the output A of CO2SYS\n",
    "xlabel('DIC'); ylabel('pCO2 [uatm]')\n",
    "\n",
    "subplot(1,2,2)\n",
    "plot(par2,A(:,3),'b.-') # The calculated pH's are in the 3rd column of the output A of CO2SYS\n",
    "xlabel('DIC'); ylabel('pH')\n"
   ]
  },
  {
   "cell_type": "markdown",
   "metadata": {},
   "source": [
    "## References\n",
    "\n",
    "Millero, F. J.: Carbonate constants for estuarine waters, Mar. Freshwater Res., 61, 139–142, doi:10.1071/MF09254, 2010.\n",
    "\n",
    "Orr, J. C. and Epitalon, J.-M.: Improved routines to model the ocean carbonate system: mocsy 2.0, Geosci. Model Dev., 8, 485–499, doi:10.5194/gmd-8-485-2015, 2015.\n",
    "\n",
    "Orr, J. C., Gattuso, J.-P., and Epitalon, J.-M.: Comparison of ten packages that compute ocean carbonate chemistry, Biogeosciences, 12, 1483–1510, doi:10.5194/bg-12-1483-2015, 2015.\n",
    "\n",
    "Waters, J., Millero, F., and Woosley, R.: Corrigendum to “The free proton concentration scale for seawater pH”,[MARCHE: 149 (2013) 8-22], Mar. Chem., 165, 66–67, 2014."
   ]
  }
 ],
 "metadata": {
  "anaconda-cloud": {},
  "kernelspec": {
   "display_name": "Python 3",
   "language": "python",
   "name": "python3"
  },
  "language_info": {
   "codemirror_mode": {
    "name": "ipython",
    "version": 3
   },
   "file_extension": ".py",
   "mimetype": "text/x-python",
   "name": "python",
   "nbconvert_exporter": "python",
   "pygments_lexer": "ipython3",
   "version": "3.7.6"
  }
 },
 "nbformat": 4,
 "nbformat_minor": 1
}
