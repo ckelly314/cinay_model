{
 "cells": [
  {
   "cell_type": "markdown",
   "metadata": {},
   "source": [
    "# Propagate uncertainties with the `errors` add-on for CO2SYS-Matlab"
   ]
  },
  {
   "cell_type": "markdown",
   "metadata": {},
   "source": [
    "James Orr<br>\n",
    "\n",
    "<img align=\"left\" width=\"50%\" src=\"http://www.lsce.ipsl.fr/Css/img/banniere_LSCE_75.png\"><br><br>\n",
    "\n",
    "LSCE/IPSL, CEA-CNRS-UVSQ, Gif-sur-Yvette, France\n",
    "\n",
    "27 February 2018 <br><br>\n",
    "updated: 29 June 2020 "
   ]
  },
  {
   "cell_type": "markdown",
   "metadata": {},
   "source": [
    "**Abstract**: This notebook shows you how to use the 'errors' add-on for CO2SYS-Matlab to propagate uncertainties. It uses CO2SYS-Matlab and the add-on routine `errors.m` (which itself calls another add-on routine `derivnum.m`) in `octave`, GNU's clone of Matlab. You can either inspect the HTML version of this file or execute its commands interactively in your browser. For the latter, you'll need to install `jupyter notebook`, `octave`, and `oct2py`, which includes the python-octave interface called `octavemagic`. Fortunately, that installation is very easy (see below)."
   ]
  },
  {
   "cell_type": "markdown",
   "metadata": {},
   "source": [
    "#### Table of Contents:\n",
    "\n",
    "    1. Basics (install & load octave)\n",
    "    2. Propagate uncertainties: use `errors` add-on (with ALK-DIC input pair)\n",
    "       * total uncertainty\n",
    "       * uncertainty from the constants (standard input uncertainties)\n",
    "       * uncertainty from the boron-to-salinity ratio (standard input uncertainty)\n",
    "       * percent relative uncertainty\n",
    "       * convert uncertainty in computed [H+] to uncertainty in computed pH"
   ]
  },
  {
   "cell_type": "markdown",
   "metadata": {},
   "source": [
    "## 1. Basics"
   ]
  },
  {
   "cell_type": "markdown",
   "metadata": {},
   "source": [
    "#### Run interactively\n",
    "\n",
    "If you are visualizing this after clicking on the link to this file on github, you are seeing the HTML version of a jupyter notebook. Alternatively, you may run cells interactively and modify them if you have `jupyter notebook` installed on your machine.  To install that software, just download the anaconda open software installer for your computing platform (Windows, OS X, or Linux) from https://www.anaconda.com/ and then follow the easy install instructions at\n",
    "\n",
    "https://docs.anaconda.com/anaconda/install/\n",
    "\n",
    "Then just download this `jupyter notebook` file as well as the 3 routines in the src directory (`CO2SYS.m`, `errors.m`, and `derivnum.m`).  Afterwards, you'll only need to install `octave` and `oct2py` using the 1-line command in the following section."
   ]
  },
  {
   "cell_type": "markdown",
   "metadata": {},
   "source": [
    "#### Install `octavemagic`"
   ]
  },
  {
   "cell_type": "markdown",
   "metadata": {},
   "source": [
    "#### To install the octavemagic funtionality, we must install `oct2py`, with the following command at the Unix prompt:\n",
    "\n",
    "  `conda install -c conda-forge octave oct2py`\n",
    "  \n",
    "That command also installs `octave`. Then launch the notebook as usual with the following command:\n",
    "\n",
    "  `jupyter notebook`\n",
    "\n",
    "A new window or tab should then appear in your browser, showing the files in the directory from where you launched the above command. Then just click on one of the `.ipynb` files, such as this one.\n",
    "\n",
    "Once the notebook file appears in your browser, move to any of its cells with your mouse. Run a cell by clicking on it and hitting Ctrl-Return.  Alternatively, type Shift-Return to run a cell and then move to the next one. More information on all the interactive commands is available in the Jupyter Notebook Quick Start Guide: http://jupyter-notebook-beginner-guide.readthedocs.io/en/latest/execute.html\n",
    "\n",
    "At the top of the notebook, you'll see a number of Tabs (File, Edit, View, Insert, ...). Those tabs provide commands that will allow you to do whatever you like. Under the Help tab you'll find keyboard shortcuts for commands. Alternatively, a cheat sheet for short cuts to commands within `jupyter notebook` is available at https://zenodo.org/record/44973/files/ipynb-cheat-sheet.pdf . Or use the command palette after typing Ctrl-Shift-P."
   ]
  },
  {
   "cell_type": "markdown",
   "metadata": {},
   "source": [
    "#### Documentation for octavemagic"
   ]
  },
  {
   "cell_type": "markdown",
   "metadata": {},
   "source": [
    "Details on using octavemagic are here: https://ipython.org/ipython-doc/2/config/extensions/octavemagic.html"
   ]
  },
  {
   "cell_type": "markdown",
   "metadata": {},
   "source": [
    "#### Load octave magic function\n",
    "\n",
    "Because octavemagic is now in conda's oct2py module, it is loaded with a slight modification to what is given on the above web page, i.e., now with the command below"
   ]
  },
  {
   "cell_type": "code",
   "execution_count": 1,
   "metadata": {},
   "outputs": [],
   "source": [
    "%load_ext oct2py.ipython"
   ]
  },
  {
   "cell_type": "markdown",
   "metadata": {},
   "source": [
    "#### Specify the directory where you have put the Matlab routines `CO2SYS.m`, `errors.m`, and `derivnum.m`."
   ]
  },
  {
   "cell_type": "code",
   "execution_count": 2,
   "metadata": {},
   "outputs": [],
   "source": [
    "%%octave\n",
    "addpath (\"~/Software/MATLAB/CO2SYS-MATLAB/src\")"
   ]
  },
  {
   "cell_type": "markdown",
   "metadata": {},
   "source": [
    "## 2. Propagate uncertainties with new `errors` add-on for CO2SYS-Matlab"
   ]
  },
  {
   "cell_type": "code",
   "execution_count": 3,
   "metadata": {
    "collapsed": true
   },
   "outputs": [
    {
     "data": {
      "text/plain": [
       "'errors' is a function from the file /homel/orr/Software/MATLAB/CO2SYS-MATLAB/src/errors.m"
      ]
     },
     "metadata": {},
     "output_type": "display_data"
    },
    {
     "data": {
      "text/plain": []
     },
     "metadata": {},
     "output_type": "display_data"
    },
    {
     "data": {
      "text/plain": [
       " errors()"
      ]
     },
     "metadata": {},
     "output_type": "display_data"
    },
    {
     "data": {
      "text/plain": [
       " This subroutine propagates uncertainties for the marine carbonate chemistry calculations"
      ]
     },
     "metadata": {},
     "output_type": "display_data"
    },
    {
     "data": {
      "text/plain": [
       " from errors (or uncertainties) on six input"
      ]
     },
     "metadata": {},
     "output_type": "display_data"
    },
    {
     "data": {
      "text/plain": [
       "  - pair of carbonate system variables"
      ]
     },
     "metadata": {},
     "output_type": "display_data"
    },
    {
     "data": {
      "text/plain": [
       "  - nutrients (silicate and phosphate concentrations)"
      ]
     },
     "metadata": {},
     "output_type": "display_data"
    },
    {
     "data": {
      "text/plain": [
       "  - temperature and salinity"
      ]
     },
     "metadata": {},
     "output_type": "display_data"
    },
    {
     "data": {
      "text/plain": [
       " plus errors in dissociation constants pK0, pK1, pK2, pKb, pKw, pKspa, and pKspc as well as total boron"
      ]
     },
     "metadata": {},
     "output_type": "display_data"
    },
    {
     "data": {
      "text/plain": []
     },
     "metadata": {},
     "output_type": "display_data"
    },
    {
     "data": {
      "text/plain": [
       " It calls derivnum, which computes numerical derivatives, and then"
      ]
     },
     "metadata": {},
     "output_type": "display_data"
    },
    {
     "data": {
      "text/plain": [
       " it applies error propagation using the method of moments."
      ]
     },
     "metadata": {},
     "output_type": "display_data"
    },
    {
     "data": {
      "text/plain": [
       " The latter is a general technique to estimate the 2nd moment of a variable z"
      ]
     },
     "metadata": {},
     "output_type": "display_data"
    },
    {
     "data": {
      "text/plain": [
       " (variance or standard deviation) based on a 1st-order approximation to z."
      ]
     },
     "metadata": {},
     "output_type": "display_data"
    },
    {
     "data": {
      "text/plain": []
     },
     "metadata": {},
     "output_type": "display_data"
    },
    {
     "data": {
      "text/plain": [
       "**************************************************************************"
      ]
     },
     "metadata": {},
     "output_type": "display_data"
    },
    {
     "data": {
      "text/plain": []
     },
     "metadata": {},
     "output_type": "display_data"
    },
    {
     "data": {
      "text/plain": [
       "  **** SYNTAX:"
      ]
     },
     "metadata": {},
     "output_type": "display_data"
    },
    {
     "data": {
      "text/plain": [
       "  [err, headers, units] = errors(PAR1,PAR2,PAR1TYPE,PAR2TYPE,..  ."
      ]
     },
     "metadata": {},
     "output_type": "display_data"
    },
    {
     "data": {
      "text/plain": [
       "                                     SAL,TEMPIN,TEMPOUT,PRESIN,PRESOUT,SI,PO4,..."
      ]
     },
     "metadata": {},
     "output_type": "display_data"
    },
    {
     "data": {
      "text/plain": [
       "                                     ePAR1,ePAR2,eSAL,eTEMP,eSI,ePO4,epK,eBt,r,..."
      ]
     },
     "metadata": {},
     "output_type": "display_data"
    },
    {
     "data": {
      "text/plain": [
       "                                     pHSCALEIN,K1K2CONSTANTS,KSO4CONSTANTS)"
      ]
     },
     "metadata": {},
     "output_type": "display_data"
    },
    {
     "data": {
      "text/plain": []
     },
     "metadata": {},
     "output_type": "display_data"
    },
    {
     "data": {
      "text/plain": [
       "  **** SYNTAX EXAMPLES:"
      ]
     },
     "metadata": {},
     "output_type": "display_data"
    },
    {
     "data": {
      "text/plain": [
       "  [Result]                = errors(2400,2200,1,2,35,10,10,0,0,15,1,2,2,0.01,0.01,0,0,0,0,0,1,4,1)"
      ]
     },
     "metadata": {},
     "output_type": "display_data"
    },
    {
     "data": {
      "text/plain": [
       "  [Result,Headers]        = errors(2400,   8,1,3,35,25,5,0,3000,15,1,2,0.001,0,0,0,0,0,0,0,1,4,1)"
      ]
     },
     "metadata": {},
     "output_type": "display_data"
    },
    {
     "data": {
      "text/plain": [
       "  [Result,Headers,Units]  = errors(500,    8,5,3,35,25,5,0,4000,15,1,2,0.001,0,0,0,0,'','',0,1,4,1)"
      ]
     },
     "metadata": {},
     "output_type": "display_data"
    },
    {
     "data": {
      "text/plain": [
       "  [A]                     = errors(2400,2000:10:2400,1,2,35,10,10,0,0,15,2,2,0,0,0,0,'','',0,1,1,4,1)"
      ]
     },
     "metadata": {},
     "output_type": "display_data"
    },
    {
     "data": {
      "text/plain": [
       "  [A]                     = errors(2400,2200,1,2,0:1:35,0,25,4200,0,15,1,2,2,0,0,0,0,'','',0,1,4,1)"
      ]
     },
     "metadata": {},
     "output_type": "display_data"
    },
    {
     "data": {
      "text/plain": [
       "  epK = [0.002, 0.0075, 0.015, 0.01, 0.01, 0.02, 0.02];"
      ]
     },
     "metadata": {},
     "output_type": "display_data"
    },
    {
     "data": {
      "text/plain": [
       "  eBt = 0.02;"
      ]
     },
     "metadata": {},
     "output_type": "display_data"
    },
    {
     "data": {
      "text/plain": [
       "  [A, hdr, units]   = errors(2400,2200,1,2,35,0,25,0:100:4200,0,15,1,2,2,0,0,0,0,epK,eBt,0,1,4,1)"
      ]
     },
     "metadata": {},
     "output_type": "display_data"
    },
    {
     "data": {
      "text/plain": []
     },
     "metadata": {},
     "output_type": "display_data"
    },
    {
     "data": {
      "text/plain": [
       "**************************************************************************"
      ]
     },
     "metadata": {},
     "output_type": "display_data"
    },
    {
     "data": {
      "text/plain": []
     },
     "metadata": {},
     "output_type": "display_data"
    },
    {
     "data": {
      "text/plain": [
       " INPUT:"
      ]
     },
     "metadata": {},
     "output_type": "display_data"
    },
    {
     "data": {
      "text/plain": []
     },
     "metadata": {},
     "output_type": "display_data"
    },
    {
     "data": {
      "text/plain": [
       "   - ePAR1, ePAR2   :  uncertainty of PAR1 and PAR2 of input pair of CO2 system variables (same units as PAR1 & PAR2)"
      ]
     },
     "metadata": {},
     "output_type": "display_data"
    },
    {
     "data": {
      "text/plain": [
       "   - eS, eT         :  uncertainty of Salinity and Temperature (same units as S and T)"
      ]
     },
     "metadata": {},
     "output_type": "display_data"
    },
    {
     "data": {
      "text/plain": [
       "   - ePO4, eSI      :  uncertainty of Phosphate and Silicate total concentrations (same units as PO4 and SI [umol/kg])"
      ]
     },
     "metadata": {},
     "output_type": "display_data"
    },
    {
     "data": {
      "text/plain": [
       "   - epK            :  uncertainty of all seven dissociation constants (a vector) [pK units]"
      ]
     },
     "metadata": {},
     "output_type": "display_data"
    },
    {
     "data": {
      "text/plain": [
       "   - eBt            :  uncertainty of total boron, given as fractional relative error (eBt=0.02 is a 2% error)"
      ]
     },
     "metadata": {},
     "output_type": "display_data"
    },
    {
     "data": {
      "text/plain": [
       "   - r              :  correlation coefficient between PAR1 AND PAR2 (typicaly 0)"
      ]
     },
     "metadata": {},
     "output_type": "display_data"
    },
    {
     "data": {
      "text/plain": [
       "   - others         :  same as input for subroutine  CO2SYS() : scalar or vectors"
      ]
     },
     "metadata": {},
     "output_type": "display_data"
    },
    {
     "data": {
      "text/plain": []
     },
     "metadata": {},
     "output_type": "display_data"
    },
    {
     "data": {
      "text/plain": [
       " All parameters may be scalars or vectors except epK and eBt."
      ]
     },
     "metadata": {},
     "output_type": "display_data"
    },
    {
     "data": {
      "text/plain": [
       "   * epK must be vector of 7 values : errors of [pK0, pK1, pK2, pKb, pKw, pKspa, pKspc]."
      ]
     },
     "metadata": {},
     "output_type": "display_data"
    },
    {
     "data": {
      "text/plain": [
       "     These errors are assumed to be the same for all rows of data."
      ]
     },
     "metadata": {},
     "output_type": "display_data"
    },
    {
     "data": {
      "text/plain": [
       "     These 7 values are in pK units"
      ]
     },
     "metadata": {},
     "output_type": "display_data"
    },
    {
     "data": {
      "text/plain": []
     },
     "metadata": {},
     "output_type": "display_data"
    },
    {
     "data": {
      "text/plain": [
       "     if epK is empty (= ''), this routine specifies default values."
      ]
     },
     "metadata": {},
     "output_type": "display_data"
    },
    {
     "data": {
      "text/plain": [
       "     These default standard errors are :"
      ]
     },
     "metadata": {},
     "output_type": "display_data"
    },
    {
     "data": {
      "text/plain": [
       "        pK0   :  0.002"
      ]
     },
     "metadata": {},
     "output_type": "display_data"
    },
    {
     "data": {
      "text/plain": [
       "        pK1   :  0.0075"
      ]
     },
     "metadata": {},
     "output_type": "display_data"
    },
    {
     "data": {
      "text/plain": [
       "        pK2   :  0.015"
      ]
     },
     "metadata": {},
     "output_type": "display_data"
    },
    {
     "data": {
      "text/plain": [
       "        pKb   :  0.01    boric acid"
      ]
     },
     "metadata": {},
     "output_type": "display_data"
    },
    {
     "data": {
      "text/plain": [
       "        pKw   :  0.01    water dissociation"
      ]
     },
     "metadata": {},
     "output_type": "display_data"
    },
    {
     "data": {
      "text/plain": [
       "        pKspa :  0.02    solubility product of Aragonite"
      ]
     },
     "metadata": {},
     "output_type": "display_data"
    },
    {
     "data": {
      "text/plain": [
       "        pKspc :  0.02    solubility product of Calcite"
      ]
     },
     "metadata": {},
     "output_type": "display_data"
    },
    {
     "data": {
      "text/plain": []
     },
     "metadata": {},
     "output_type": "display_data"
    },
    {
     "data": {
      "text/plain": [
       "   * eBt is a scalar real number, fractional relative error (between 0.00 and 1.00)"
      ]
     },
     "metadata": {},
     "output_type": "display_data"
    },
    {
     "data": {
      "text/plain": [
       "     for TB, where the default is eBt=0.02. It is assumed to be the same"
      ]
     },
     "metadata": {},
     "output_type": "display_data"
    },
    {
     "data": {
      "text/plain": [
       "     for all rows of data."
      ]
     },
     "metadata": {},
     "output_type": "display_data"
    },
    {
     "data": {
      "text/plain": []
     },
     "metadata": {},
     "output_type": "display_data"
    },
    {
     "data": {
      "text/plain": [
       " In constrast, ePAR1, ePAR2, eS, eT, ePO4 and eSI,"
      ]
     },
     "metadata": {},
     "output_type": "display_data"
    },
    {
     "data": {
      "text/plain": [
       "   - if vectors, are errors associated with each data point"
      ]
     },
     "metadata": {},
     "output_type": "display_data"
    },
    {
     "data": {
      "text/plain": [
       "   - if scalars, are one error value associated to all data points"
      ]
     },
     "metadata": {},
     "output_type": "display_data"
    },
    {
     "data": {
      "text/plain": [
       " The same for parameter \"r\"."
      ]
     },
     "metadata": {},
     "output_type": "display_data"
    },
    {
     "data": {
      "text/plain": []
     },
     "metadata": {},
     "output_type": "display_data"
    },
    {
     "data": {
      "text/plain": [
       " If 'r' is nonzero with a value between -1.0 and 1.0, it indicates the correlation"
      ]
     },
     "metadata": {},
     "output_type": "display_data"
    },
    {
     "data": {
      "text/plain": [
       " between uncertainties of the input pair of carbonate system variables."
      ]
     },
     "metadata": {},
     "output_type": "display_data"
    },
    {
     "data": {
      "text/plain": [
       " By default, 'r' is zero. However, for some pairs the user may want to specify a"
      ]
     },
     "metadata": {},
     "output_type": "display_data"
    },
    {
     "data": {
      "text/plain": [
       " different value. For example, measurements of pCO2 and pH are often anti-correlated."
      ]
     },
     "metadata": {},
     "output_type": "display_data"
    },
    {
     "data": {
      "text/plain": [
       " The same goes for two other pairs: 'CO2 and CO3' and 'pCO2 and"
      ]
     },
     "metadata": {},
     "output_type": "display_data"
    },
    {
     "data": {
      "text/plain": [
       " CO3'. But even for these cases, care is needed when using non-zero values of 'r'."
      ]
     },
     "metadata": {},
     "output_type": "display_data"
    },
    {
     "data": {
      "text/plain": []
     },
     "metadata": {},
     "output_type": "display_data"
    },
    {
     "data": {
      "text/plain": [
       " When the user propagates errors for an individual"
      ]
     },
     "metadata": {},
     "output_type": "display_data"
    },
    {
     "data": {
      "text/plain": [
       " measurement, 'r' should ALWAYS be zero if each member of the input pair is"
      ]
     },
     "metadata": {},
     "output_type": "display_data"
    },
    {
     "data": {
      "text/plain": [
       " measured independently. In this case, we are interested in the"
      ]
     },
     "metadata": {},
     "output_type": "display_data"
    },
    {
     "data": {
      "text/plain": [
       " correlation between the uncertainties in those measurements, not in"
      ]
     },
     "metadata": {},
     "output_type": "display_data"
    },
    {
     "data": {
      "text/plain": [
       " the correlation between the measurments themselves. Uncertainties from"
      ]
     },
     "metadata": {},
     "output_type": "display_data"
    },
    {
     "data": {
      "text/plain": [
       " those measurements are probably not correlated if they come from"
      ]
     },
     "metadata": {},
     "output_type": "display_data"
    },
    {
     "data": {
      "text/plain": [
       " different instruments. Conversely, if users are interested in the"
      ]
     },
     "metadata": {},
     "output_type": "display_data"
    },
    {
     "data": {
      "text/plain": [
       " error in the mean of a distribution of measurements (i.e., if they are"
      ]
     },
     "metadata": {},
     "output_type": "display_data"
    },
    {
     "data": {
      "text/plain": [
       " propagating standard errors instead of standard deviations), one"
      ]
     },
     "metadata": {},
     "output_type": "display_data"
    },
    {
     "data": {
      "text/plain": [
       " should then also account for the correlation between the measurements of"
      ]
     },
     "metadata": {},
     "output_type": "display_data"
    },
    {
     "data": {
      "text/plain": [
       " the two variables of the input pair."
      ]
     },
     "metadata": {},
     "output_type": "display_data"
    },
    {
     "data": {
      "text/plain": []
     },
     "metadata": {},
     "output_type": "display_data"
    },
    {
     "data": {
      "text/plain": [
       " For input pairs where one member is pH, this 'errors' routine automatically"
      ]
     },
     "metadata": {},
     "output_type": "display_data"
    },
    {
     "data": {
      "text/plain": [
       " inverses the sign of 'r'."
      ]
     },
     "metadata": {},
     "output_type": "display_data"
    },
    {
     "data": {
      "text/plain": [
       " That inversion is done because the associated derivatives are computed in terms of"
      ]
     },
     "metadata": {},
     "output_type": "display_data"
    },
    {
     "data": {
      "text/plain": [
       " the hydrogen ion concentration H+, not pH. Therefore for each of these 6"
      ]
     },
     "metadata": {},
     "output_type": "display_data"
    },
    {
     "data": {
      "text/plain": [
       " flags, if the user wants to compute 'r' that should be done (1) using"
      ]
     },
     "metadata": {},
     "output_type": "display_data"
    },
    {
     "data": {
      "text/plain": [
       " the H+ concentration instead of pH, and (2) the sign of that computed 'r'"
      ]
     },
     "metadata": {},
     "output_type": "display_data"
    },
    {
     "data": {
      "text/plain": [
       " should be inversed when passing it as an argument to this routine."
      ]
     },
     "metadata": {},
     "output_type": "display_data"
    },
    {
     "data": {
      "text/plain": [
       " To express perfect anticorrelation with pH, the user should"
      ]
     },
     "metadata": {},
     "output_type": "display_data"
    },
    {
     "data": {
      "text/plain": [
       " use 'r=-1.0'."
      ]
     },
     "metadata": {},
     "output_type": "display_data"
    },
    {
     "data": {
      "text/plain": []
     },
     "metadata": {},
     "output_type": "display_data"
    },
    {
     "data": {
      "text/plain": [
       "**************************************************************************"
      ]
     },
     "metadata": {},
     "output_type": "display_data"
    },
    {
     "data": {
      "text/plain": []
     },
     "metadata": {},
     "output_type": "display_data"
    },
    {
     "data": {
      "text/plain": [
       " OUTPUT: * an array containing uncertainty for the following variables"
      ]
     },
     "metadata": {},
     "output_type": "display_data"
    },
    {
     "data": {
      "text/plain": [
       "           (one row per sample):"
      ]
     },
     "metadata": {},
     "output_type": "display_data"
    },
    {
     "data": {
      "text/plain": [
       "         *  a cell-array containing crudely formatted headers"
      ]
     },
     "metadata": {},
     "output_type": "display_data"
    },
    {
     "data": {
      "text/plain": []
     },
     "metadata": {},
     "output_type": "display_data"
    },
    {
     "data": {
      "text/plain": [
       "    POS  PARAMETER        UNIT"
      ]
     },
     "metadata": {},
     "output_type": "display_data"
    },
    {
     "data": {
      "text/plain": []
     },
     "metadata": {},
     "output_type": "display_data"
    },
    {
     "data": {
      "text/plain": [
       "    01 - TAlk                 (umol/kg)"
      ]
     },
     "metadata": {},
     "output_type": "display_data"
    },
    {
     "data": {
      "text/plain": [
       "    02 - TCO2                 (umol/kg)"
      ]
     },
     "metadata": {},
     "output_type": "display_data"
    },
    {
     "data": {
      "text/plain": [
       "    03   fCO2in               (uatm)"
      ]
     },
     "metadata": {},
     "output_type": "display_data"
    },
    {
     "data": {
      "text/plain": [
       "    04 - HCO3in               (umol/kg)"
      ]
     },
     "metadata": {},
     "output_type": "display_data"
    },
    {
     "data": {
      "text/plain": [
       "    05 - CO3in                (umol/kg)"
      ]
     },
     "metadata": {},
     "output_type": "display_data"
    },
    {
     "data": {
      "text/plain": [
       "    06 - CO2in                (umol/kg)"
      ]
     },
     "metadata": {},
     "output_type": "display_data"
    },
    {
     "data": {
      "text/plain": [
       "    07 - OmegaCAin            ()"
      ]
     },
     "metadata": {},
     "output_type": "display_data"
    },
    {
     "data": {
      "text/plain": [
       "    08 - OmegaARin            ()"
      ]
     },
     "metadata": {},
     "output_type": "display_data"
    },
    {
     "data": {
      "text/plain": [
       "    09 - xCO2in               (ppm)"
      ]
     },
     "metadata": {},
     "output_type": "display_data"
    },
    {
     "data": {
      "text/plain": [
       "    10 - Hout                 (nmol/kg)"
      ]
     },
     "metadata": {},
     "output_type": "display_data"
    },
    {
     "data": {
      "text/plain": [
       "    11 - pCO2out              (uatm)"
      ]
     },
     "metadata": {},
     "output_type": "display_data"
    },
    {
     "data": {
      "text/plain": [
       "    12 - fCO2out              (uatm)"
      ]
     },
     "metadata": {},
     "output_type": "display_data"
    },
    {
     "data": {
      "text/plain": [
       "    13 - HCO3out              (umol/kg)"
      ]
     },
     "metadata": {},
     "output_type": "display_data"
    },
    {
     "data": {
      "text/plain": [
       "    14 - CO3out               (umol/kg)"
      ]
     },
     "metadata": {},
     "output_type": "display_data"
    },
    {
     "data": {
      "text/plain": [
       "    15 - CO2out               (umol/kg)"
      ]
     },
     "metadata": {},
     "output_type": "display_data"
    },
    {
     "data": {
      "text/plain": [
       "    16 - OmegaCAout           ()"
      ]
     },
     "metadata": {},
     "output_type": "display_data"
    },
    {
     "data": {
      "text/plain": [
       "    17 - OmegaARout           ()"
      ]
     },
     "metadata": {},
     "output_type": "display_data"
    },
    {
     "data": {
      "text/plain": [
       "    18 - xCO2out              (ppm)"
      ]
     },
     "metadata": {},
     "output_type": "display_data"
    },
    {
     "data": {
      "text/plain": []
     },
     "metadata": {},
     "output_type": "display_data"
    },
    {
     "data": {
      "text/plain": [
       " NOTE: Only uncertainties for the output variables are provided."
      ]
     },
     "metadata": {},
     "output_type": "display_data"
    },
    {
     "data": {
      "text/plain": [
       "       The 1st 2 columns will change as a function of PAR1TYPE and PAR2TYPE."
      ]
     },
     "metadata": {},
     "output_type": "display_data"
    },
    {
     "data": {
      "text/plain": [
       "       In the case above, the input pair is pH-pCO2 (PAR1TYPE=3, PAR2TYPE=4)."
      ]
     },
     "metadata": {},
     "output_type": "display_data"
    },
    {
     "data": {
      "text/plain": [
       "       That is why the results in the first 2 columns are for the other 2"
      ]
     },
     "metadata": {},
     "output_type": "display_data"
    },
    {
     "data": {
      "text/plain": [
       "       possible input variables (TAlk and TCO2)"
      ]
     },
     "metadata": {},
     "output_type": "display_data"
    },
    {
     "data": {
      "text/plain": []
     },
     "metadata": {},
     "output_type": "display_data"
    },
    {
     "data": {
      "text/plain": [
       " EXAMPLE: a nice way to see the headers & units along with the results"
      ]
     },
     "metadata": {},
     "output_type": "display_data"
    },
    {
     "data": {
      "text/plain": []
     },
     "metadata": {},
     "output_type": "display_data"
    },
    {
     "data": {
      "text/plain": [
       " [e, ehead, eunits] = errors (PAR1,PAR2,PAR1TYPE,PAR2TYPE,SAL,TEMPIN,TEMPOUT,PRESIN,PRESOUT,SI,PO4,..."
      ]
     },
     "metadata": {},
     "output_type": "display_data"
    },
    {
     "data": {
      "text/plain": [
       "                              ePAR1,ePAR2,eSAL,eTEMP,eSI,ePO4,epK,eBt,r,pHSCALEIN,K1K2CONSTANTS,KSO4CONSTANTS);"
      ]
     },
     "metadata": {},
     "output_type": "display_data"
    },
    {
     "data": {
      "text/plain": []
     },
     "metadata": {},
     "output_type": "display_data"
    },
    {
     "data": {
      "text/plain": [
       "  printf(\"%s   %s %s %s %s  %s %s %s %s \\n\", ehead{1:9});"
      ]
     },
     "metadata": {},
     "output_type": "display_data"
    },
    {
     "data": {
      "text/plain": [
       "  printf(\"%s   %s  %s    %s %s %s    %s      %s          %s \\n\", eunits{1:9});"
      ]
     },
     "metadata": {},
     "output_type": "display_data"
    },
    {
     "data": {
      "text/plain": [
       "  printf(\"%f  %f  %f  %f  %f %f  %f     %f     %f \\n\", e(1:9));"
      ]
     },
     "metadata": {},
     "output_type": "display_data"
    },
    {
     "data": {
      "text/plain": []
     },
     "metadata": {},
     "output_type": "display_data"
    },
    {
     "data": {
      "text/plain": []
     },
     "metadata": {},
     "output_type": "display_data"
    },
    {
     "data": {
      "text/plain": [
       "Additional help for built-in functions and operators is"
      ]
     },
     "metadata": {},
     "output_type": "display_data"
    },
    {
     "data": {
      "text/plain": [
       "available in the online version of the manual.  Use the command"
      ]
     },
     "metadata": {},
     "output_type": "display_data"
    },
    {
     "data": {
      "text/plain": [
       "'doc <topic>' to search the manual index."
      ]
     },
     "metadata": {},
     "output_type": "display_data"
    },
    {
     "data": {
      "text/plain": []
     },
     "metadata": {},
     "output_type": "display_data"
    },
    {
     "data": {
      "text/plain": [
       "Help and information about Octave is also available on the WWW"
      ]
     },
     "metadata": {},
     "output_type": "display_data"
    },
    {
     "data": {
      "text/plain": [
       "at http://www.octave.org and via the help@octave.org"
      ]
     },
     "metadata": {},
     "output_type": "display_data"
    },
    {
     "data": {
      "text/plain": [
       "mailing list."
      ]
     },
     "metadata": {},
     "output_type": "display_data"
    }
   ],
   "source": [
    "%%octave\n",
    "help errors"
   ]
  },
  {
   "cell_type": "markdown",
   "metadata": {},
   "source": [
    "### 2.1 Specify input variables and choices"
   ]
  },
  {
   "cell_type": "code",
   "execution_count": 4,
   "metadata": {},
   "outputs": [],
   "source": [
    "%%octave\n",
    "\n",
    "# Standard input for CO2SYS:\n",
    "# --------------------------\n",
    "    # Input Variables:\n",
    "    PAR1 = 2300;        % ALK\n",
    "    PAR2 = 2000;        % DIC\n",
    "    PAR1TYPE = 1;       % 1=ALK, 2=DIC, 3=pH, 4=pCO2, 5=fCO2\n",
    "    PAR2TYPE = 2;       % Same 5 choices as PAR1TYPE\n",
    "    SAL = 35;           % Salinity\n",
    "    TEMPIN = 18;        % Temperature (input)\n",
    "    TEMPOUT = 25;       % Temperature (output)\n",
    "    PRESIN = 0;         % Pressure (input)\n",
    "    PRESOUT = PRESIN;   % Pressure (output)\n",
    "    SI = 60;            % Total dissolved inorganic silicon (Sit)\n",
    "    PO4 = 2;            % Total dissoloved inorganic Phosphorus (Pt)\n",
    "\n",
    "    # Input Parameters:\n",
    "    pHSCALEIN = 2;      % pH scale (1=total, 2=seawater, 3=NBS, 4=Free)\n",
    "    K1K2CONSTANTS = 15; % set for K1 & K2: (a) 10=Lueker et al. (2000); (b) 14=Millero (2010)\n",
    "    KSO4CONSTANTS = 1;  % KSO4 of Dickson (1990a) & Total dissolved boron (Bt) from Uppstrom (1974)\n",
    "\n",
    "# Input for CO2SYS:\n",
    "# --------------------------\n",
    "    # Input variables for error propagation:\n",
    "    r = 0.0;            % Correlation between **uncertainties** in PAR1 and PAR2 (-1 < r < 1)\n",
    "    ePAR1 = 2;          % uncertainty in PAR1 (same units as PAR1)\n",
    "    ePAR2 = 2;          % uncertainty in PAR2 (same units as PAR2)\n",
    "    eSAL = 0;           % uncertainty in Salinity\n",
    "    eTEMP = 0;          % uncertainty in Temperature\n",
    "    eSI = 4;            % uncertainty in Sit\n",
    "    ePO4 = 0.1;         % uncertainty in Pt\n",
    "    #Default uncertainties (pK units): epK0 , epK1, epK2, epKb, epKw, epKspA, epKspC\n",
    "    epK =                [0.004, 0.015, 0.03, 0.01, 0.01,   0.02,  0.02];\n",
    "    #Default uncertainty for Total boron (0.01, i.e., a 1% relative uncertainty)\n",
    "    eBt = 0.01;\n"
   ]
  },
  {
   "cell_type": "markdown",
   "metadata": {},
   "source": [
    "### 2.2 Propagate uncertainties neglecting uncertainties from equilibrium constants & total boron"
   ]
  },
  {
   "cell_type": "code",
   "execution_count": 5,
   "metadata": {},
   "outputs": [
    {
     "data": {
      "text/plain": [
       "u(Hin)   u(pCO2in) u(fCO2in) u(HCO3in) u(CO3in) u(CO2in) u(OmegaCAin) u(OmegaARin) u(xCO2in)"
      ]
     },
     "metadata": {},
     "output_type": "display_data"
    },
    {
     "data": {
      "text/plain": [
       "0.077469 3.805834  3.792600  3.408018  1.848113 0.130039 0.044126     0.028534     3.883373"
      ]
     },
     "metadata": {},
     "output_type": "display_data"
    }
   ],
   "source": [
    "%%octave\n",
    "% With no errors from Ks\n",
    "    epK = 0.0;\n",
    "    eBt = 0.0;\n",
    "    [e, ehead, enice] = errors (PAR1, PAR2, PAR1TYPE, PAR2TYPE, SAL, TEMPIN, TEMPOUT, PRESIN, PRESOUT, SI, PO4,...\n",
    "                              ePAR1, ePAR2, eSAL, eTEMP, eSI, ePO4, epK, eBt, r, ...,\n",
    "                              pHSCALEIN, K1K2CONSTANTS, KSO4CONSTANTS);\n",
    "#   Print results\n",
    "#    e\n",
    "#    ehead\n",
    "#    enice\n",
    "\n",
    "# Print (nicely formatted):\n",
    "  printf(\"%s   %s %s %s %s %s %s %s %s \\n\", ehead{1:9});\n",
    "  printf(\"%f %f  %f  %f  %f %f %f     %f     %f \\n\", e(1:9));"
   ]
  },
  {
   "cell_type": "markdown",
   "metadata": {},
   "source": [
    "### 2.3 Propagate uncertainties sequentially accounting for uncertainties from constants & total boron "
   ]
  },
  {
   "cell_type": "markdown",
   "metadata": {},
   "source": [
    "#### Default uncertainties in equilibrium constants, but assume no uncertainty in total boron $B_\\text{T}$"
   ]
  },
  {
   "cell_type": "code",
   "execution_count": 6,
   "metadata": {
    "scrolled": false
   },
   "outputs": [
    {
     "data": {
      "text/plain": [
       "u(Hin)   u(pCO2in) u(fCO2in) u(HCO3in) u(CO3in) u(CO2in) u(OmegaCAin) u(OmegaARin) u(xCO2in)"
      ]
     },
     "metadata": {},
     "output_type": "display_data"
    },
    {
     "data": {
      "text/plain": [
       "0.189647 9.461716 9.428816 4.261992 3.008619 0.319733  0.238120     0.153982     9.654489"
      ]
     },
     "metadata": {},
     "output_type": "display_data"
    }
   ],
   "source": [
    "%%octave\n",
    "% With std errors from constants except for Bt\n",
    "    epK = [0.002, 0.0075, 0.015, 0.01, 0.01, 0.02, 0.02];\n",
    "    eBt = 0.0;\n",
    "    [ek, ekhead, eknice] = errors (PAR1, PAR2, PAR1TYPE, PAR2TYPE, SAL, TEMPIN, TEMPOUT, PRESIN, PRESOUT, SI, PO4, ...\n",
    "                             ePAR1, ePAR2, eSAL, eTEMP, eSI, ePO4, epK, eBt, r, ...\n",
    "                             pHSCALEIN, K1K2CONSTANTS, KSO4CONSTANTS);\n",
    "\n",
    "  printf(\"%s   %s %s %s %s %s %s %s %s \\n\", ekhead{1:9});\n",
    "  printf(\"%f %f %f %f %f %f  %f     %f     %f \\n\", ek(1:9));"
   ]
  },
  {
   "cell_type": "markdown",
   "metadata": {},
   "source": [
    "#### Default uncertainties in equilibrium constants & default uncertainty in total $B_\\text{T}$ (1%)"
   ]
  },
  {
   "cell_type": "code",
   "execution_count": 7,
   "metadata": {
    "scrolled": false
   },
   "outputs": [
    {
     "data": {
      "text/plain": [
       "u(Hin)   u(pCO2in) u(fCO2in) u(HCO3in) u(CO3in) u(CO2in) u(OmegaCAin) u(OmegaARin) u(xCO2in)"
      ]
     },
     "metadata": {},
     "output_type": "display_data"
    },
    {
     "data": {
      "text/plain": [
       "0.195943 9.731243 9.697405 4.425336 3.265272 0.329042  0.240039     0.155223     9.929506"
      ]
     },
     "metadata": {},
     "output_type": "display_data"
    }
   ],
   "source": [
    "%%octave\n",
    "% With std uncertainties from constants & Bt\n",
    "    epK = [0.002, 0.0075, 0.015, 0.01, 0.01, 0.02, 0.02];\n",
    "    eBt = 0.02;\n",
    "    [ekb, ekbhead] = errors (PAR1, PAR2, PAR1TYPE, PAR2TYPE, SAL, TEMPIN, TEMPOUT, PRESIN, PRESOUT, SI, PO4, ...\n",
    "                             ePAR1, ePAR2, eSAL, eTEMP, eSI, ePO4, epK, eBt, r, ...\n",
    "                             pHSCALEIN, K1K2CONSTANTS, KSO4CONSTANTS);\n",
    "\n",
    "  printf(\"%s   %s %s %s %s %s %s %s %s \\n\", ekbhead{1:9});\n",
    "  printf(\"%f %f %f %f %f %f  %f     %f     %f \\n\", ekb(1:9));"
   ]
  },
  {
   "cell_type": "markdown",
   "metadata": {},
   "source": [
    "Same calculation, but with a simpler way to specify the defaults for epK and eBt"
   ]
  },
  {
   "cell_type": "code",
   "execution_count": 8,
   "metadata": {
    "scrolled": false
   },
   "outputs": [
    {
     "data": {
      "text/plain": [
       "u(Hin)   u(pCO2in) u(fCO2in) u(HCO3in) u(CO3in) u(CO2in) u(OmegaCAin) u(OmegaARin) u(xCO2in)"
      ]
     },
     "metadata": {},
     "output_type": "display_data"
    },
    {
     "data": {
      "text/plain": [
       "0.195943 9.731243 9.697405 4.425336 3.265272 0.329042  0.240039     0.155223     9.929506"
      ]
     },
     "metadata": {},
     "output_type": "display_data"
    }
   ],
   "source": [
    "%%octave\n",
    "% With std uncertainties from constants & Bt\n",
    "    epK = '';\n",
    "    eBt = '';\n",
    "    [ekb, ekbhead] = errors (PAR1, PAR2, PAR1TYPE, PAR2TYPE, SAL, TEMPIN, TEMPOUT, PRESIN, PRESOUT, SI, PO4, ...\n",
    "                             ePAR1, ePAR2, eSAL, eTEMP, eSI, ePO4, epK, eBt, r, ...\n",
    "                             pHSCALEIN, K1K2CONSTANTS, KSO4CONSTANTS);\n",
    "\n",
    "  printf(\"%s   %s %s %s %s %s %s %s %s \\n\", ekbhead{1:9});\n",
    "  printf(\"%f %f %f %f %f %f  %f     %f     %f \\n\", ekb(1:9));"
   ]
  },
  {
   "cell_type": "markdown",
   "metadata": {},
   "source": [
    "### 2.4 Summarize effects of accouning for uncertainties in equil. constants & total boron"
   ]
  },
  {
   "cell_type": "markdown",
   "metadata": {},
   "source": [
    "#### Fractional increase in propagated uncertainty due to accounting for uncertainties from equilibrium constants (default values)"
   ]
  },
  {
   "cell_type": "code",
   "execution_count": 9,
   "metadata": {},
   "outputs": [
    {
     "data": {
      "text/plain": [
       "u(Hin)   u(pCO2in) u(fCO2in) u(HCO3in) u(CO3in) u(CO2in) u(OmegaCAin) u(OmegaARin) u(xCO2in)"
      ]
     },
     "metadata": {},
     "output_type": "display_data"
    },
    {
     "data": {
      "text/plain": [
       "2.448047 2.486109 2.486109 1.250578 1.627941 2.458746  5.396363     5.396363     2.486109"
      ]
     },
     "metadata": {},
     "output_type": "display_data"
    }
   ],
   "source": [
    "%%octave\n",
    "  printf(\"%s   %s %s %s %s %s %s %s %s \\n\", ekbhead{1:9});\n",
    " %printf(\"%f %f %f %f %f %f  %f     %f     %f \\n\", e(1:9));\n",
    " %printf(\"%f %f %f %f %f %f  %f     %f     %f \\n\", ek(1:9));\n",
    "  printf(\"%f %f %f %f %f %f  %f     %f     %f \\n\", ek(1:9) ./ e(1:9));\n"
   ]
  },
  {
   "cell_type": "markdown",
   "metadata": {},
   "source": [
    "Conclusion: Accounting for uncertainties from the equilibrium constants increases propagated uncertainties by 1.3 to 5.4 times for the At-Ct pair with default uncertainties.\n"
   ]
  },
  {
   "cell_type": "markdown",
   "metadata": {},
   "source": [
    "#### Fractional increase in propagated uncertainty due to accounting for uncertainty in total boron (default value)"
   ]
  },
  {
   "cell_type": "code",
   "execution_count": 10,
   "metadata": {},
   "outputs": [
    {
     "data": {
      "text/plain": [
       "u(Hin)   u(pCO2in) u(fCO2in) u(HCO3in) u(CO3in) u(CO2in) u(OmegaCAin) u(OmegaARin) u(xCO2in)"
      ]
     },
     "metadata": {},
     "output_type": "display_data"
    },
    {
     "data": {
      "text/plain": [
       "1.033198 1.028486 1.028486 1.038326 1.085306 1.029115  1.008062     1.008062     1.028486"
      ]
     },
     "metadata": {},
     "output_type": "display_data"
    }
   ],
   "source": [
    "%%octave\n",
    "  printf(\"%s   %s %s %s %s %s %s %s %s \\n\", ekbhead{1:9});\n",
    " %printf(\"%f %f %f %f %f %f  %f     %f     %f \\n\", ek(1:9));\n",
    " %printf(\"%f %f %f %f %f %f  %f     %f     %f \\n\", ekb(1:9));\n",
    "  printf(\"%f %f %f %f %f %f  %f     %f     %f \\n\", ekb(1:9) ./ ek(1:9));\n"
   ]
  },
  {
   "cell_type": "markdown",
   "metadata": {},
   "source": [
    "Conclusion: Accounting for uncertainty in total boron increases propagated absolute uncertainties by about 3% for most computed variables (except 9% for $[\\mathrm{CO}_3^{2-}]$) when using the default uncertainty (eBt = 0.02) but by less than 1% when using the eBt=0.01, i.e., with the At-Ct pair.\n"
   ]
  },
  {
   "cell_type": "markdown",
   "metadata": {},
   "source": [
    "### 2.5 Compute percent relative uncertainties "
   ]
  },
  {
   "cell_type": "markdown",
   "metadata": {},
   "source": [
    "#### Compute CO2SYS variables (the reference)"
   ]
  },
  {
   "cell_type": "code",
   "execution_count": 11,
   "metadata": {},
   "outputs": [],
   "source": [
    "%%octave\n",
    "% With std uncertainties from Ks\n",
    "    [d, dhead, dnice] = CO2SYS (PAR1, PAR2, PAR1TYPE, PAR2TYPE, SAL, TEMPIN, TEMPOUT, PRESIN, PRESOUT, SI, PO4, ...\n",
    "                             pHSCALEIN, K1K2CONSTANTS, KSO4CONSTANTS);"
   ]
  },
  {
   "cell_type": "markdown",
   "metadata": {},
   "source": [
    "#### Reorder CO2SYS output in new array having same order as output array from `errors` (above, section 2.3) for later division (below)"
   ]
  },
  {
   "cell_type": "code",
   "execution_count": 12,
   "metadata": {},
   "outputs": [],
   "source": [
    "%%octave\n",
    "ALK     = d(:,1);    %01 - TAlk                 (umol/kgSW)\n",
    "DIC     = d(:,2);    %02 - TCO2                 (umol/kgSW)\n",
    "pH      = d(:,3);    %03 - pHin                 ()\n",
    "pCO2    = d(:,4);    %04 - pCO2 input           (uatm)\n",
    "fCO2    = d(:,5);    %05 - fCO2 input           (uatm)\n",
    "HCO3    = d(:,6);    %06 - HCO3 input           (umol/kgSW)\n",
    "CO3     = d(:,7);    %07 - CO3 input            (umol/kgSW)\n",
    "CO2     = d(:,8);    %08 - CO2 input            (umol/kgSW)\n",
    "Hfree   = d(:,13);   %13 - Hfree input          (umol/kgSW)\n",
    "OmegaCa = d(:,15);   %15 - OmegaCa input        ()\n",
    "OmegaAr = d(:,16);   %16 - OmegaAr input        ()\n",
    "xCO2    = d(:,17);   %17 - xCO2 input           (ppm)\n",
    "\n",
    "H = 10**(-pH) * 1e9; # Convert pH to H+ and then from mol/kg to nmol/kg\n",
    "dar = [H, pCO2, fCO2, HCO3, CO3, CO2, OmegaCa, OmegaAr, xCO2];\n",
    "%dar"
   ]
  },
  {
   "cell_type": "markdown",
   "metadata": {},
   "source": [
    "#### Compute percent error"
   ]
  },
  {
   "cell_type": "code",
   "execution_count": 13,
   "metadata": {},
   "outputs": [
    {
     "data": {
      "text/plain": [
       "u(Hin)  u(pCO2in)   u(fCO2in)   u(HCO3in)  u(CO3in)    u(CO2in)   u(OmegaCAin) u(OmegaARin) u(xCO2in)"
      ]
     },
     "metadata": {},
     "output_type": "display_data"
    },
    {
     "data": {
      "text/plain": [
       "2.71    3.20        3.20        0.25       1.58        3.17       4.87         4.87         3.20"
      ]
     },
     "metadata": {},
     "output_type": "display_data"
    }
   ],
   "source": [
    "%%octave\n",
    "  perr = 100* ekb(1:9) ./ dar;\n",
    "\n",
    "# Show uncertainties in percent of base value computed with CO2SYS\n",
    "  printf(\"%s  %s   %s   %s  %s    %s   %s %s %s \\n\", ehead{1:9});\n",
    "  printf(\"%4.2f  %6.2f     %7.2f    %8.2f    %7.2f     %7.2f    %7.2f      %7.2f      %7.2f \\n\", perr(1:9));"
   ]
  },
  {
   "cell_type": "markdown",
   "metadata": {},
   "source": [
    "#### Compute absolute error of pH from relative error in H"
   ]
  },
  {
   "cell_type": "markdown",
   "metadata": {},
   "source": [
    "An absolute change in pH is equivalent to a relative change in H+.  That is, it can be shown that for **small** changes in H+ (dH):\n",
    "\n",
    "\\begin{equation}\n",
    "d\\text{pH} = -\\frac{1}{\\text{ln}(10)}  \\frac{d\\text{H}}{\\text{H}}\n",
    "\\end{equation}\n",
    "\n",
    "To get to this result, \n",
    "\n",
    "1) start with the basic definition: $\\text{pH} = - \\text{log}_{10} \\, [\\text{H}^+]$,\n",
    "\n",
    "2) convert the logarithm base 10 to a natural log with $\\text{log}_{10}(x) = \\text{ln}(x) / \\text{ln}(10)$, \n",
    "\n",
    "3) take the derivative of each side, and\n",
    "\n",
    "4) plug in the definition of the derivative of a natural log, i.e.,  $d \\text{ln}(x) = dx/x$."
   ]
  },
  {
   "cell_type": "markdown",
   "metadata": {},
   "source": [
    "##### Do the actual calculation"
   ]
  },
  {
   "cell_type": "code",
   "execution_count": 14,
   "metadata": {},
   "outputs": [
    {
     "data": {
      "text/plain": [
       "dpH =  0.011768"
      ]
     },
     "metadata": {},
     "output_type": "display_data"
    }
   ],
   "source": [
    "%%octave\n",
    "# We drop the minus sign below because uncertainties are positive by definition (1 sigma)\n",
    "# Note that \"(0.01 * perr)\" is the fractional error in hydrogen ion concentration (i.e., dH/H)\n",
    "  dpH = (0.01 * perr(1))/log(10);\n",
    "  dpH"
   ]
  },
  {
   "cell_type": "markdown",
   "metadata": {},
   "source": [
    "### 2.6 Example of using `errors.m` routine with the pH-At pair"
   ]
  },
  {
   "cell_type": "code",
   "execution_count": 15,
   "metadata": {},
   "outputs": [],
   "source": [
    "%%octave\n",
    "\n",
    "# Standard input for CO2SYS:\n",
    "# --------------------------\n",
    "    # Input Variables:\n",
    "    PAR1 = 2300;        % ALK\n",
    "    PAR2 = 8.1;         % pH\n",
    "    PAR1TYPE = 1;       % 1=ALK, 2=DIC, 3=pH, 4=pCO2, 5=fCO2\n",
    "    PAR2TYPE = 3;       % Same 5 choices as PAR1TYPE\n",
    "    SAL = 35;           % Salinity\n",
    "    TEMPIN = 18;        % Temperature (input)\n",
    "    TEMPOUT = 18;       % Temperature (output)\n",
    "    PRESIN = 0;         % Pressure (input)\n",
    "    PRESOUT = PRESIN;   % Pressure (output)\n",
    "    SI = 60;            % Total dissolved inorganic silicon (Sit)\n",
    "    PO4 = 2;            % Total dissoloved inorganic Phosphorus (Pt)\n",
    "\n",
    "# Input Parameters:\n",
    "    pHSCALEIN = 1;      %% pH scale (1=total, 2=seawater, 3=NBS, 4=Free)\n",
    "    K1K2CONSTANTS = 10; %% set for K1 & K2: (a) 10=Lueker et al. (2000); (b) 14=Millero (2010)\n",
    "    KSO4CONSTANTS = 1;  %% KSO4 of Dickson (1990a) & Total dissolved boron (Bt) from Uppstrom (1974)\n",
    "\n",
    "# Input for CO2SYS:\n",
    "# --------------------------\n",
    "    # Input variables for error propagation:\n",
    "    r = 0.0;            % Correlation between **uncertainties** in PAR1 and PAR2 (-1 < r < 1)\n",
    "    ePAR1 = 2;          % uncertainty in PAR1 (same units as PAR1)\n",
    "    ePAR2 = 0.01;          % uncertainty in PAR2 (same units as PAR2)\n",
    "    eSAL = 0;           % uncertainty in Salinity\n",
    "    eTEMP = 0;          % uncertainty in Temperature\n",
    "    eSI = 4;            % uncertainty in Sit\n",
    "    ePO4 = 0.1;         % uncertainty in Pt\n",
    "    #Default uncertainties: epK0 , epK1, epK2, epKb, epKw, epKspA, epKspC\n",
    "    epK = [0.002, 0.0075, 0.015, 0.01, 0.01, 0.02, 0.02];\n",
    "    #Default uncertainty for Total Boron: 0.01 (i.e., a 1% relative error)\n",
    "    eBt = 0.02;"
   ]
  },
  {
   "cell_type": "code",
   "execution_count": 16,
   "metadata": {
    "scrolled": true
   },
   "outputs": [
    {
     "data": {
      "text/plain": [
       "u(TCO2)   u(pCO2in) u(fCO2in) u(HCO3in) u(CO3in)  u(CO2in) u(OmegaCAin) u(OmegaARin) u(xCO2in)"
      ]
     },
     "metadata": {},
     "output_type": "display_data"
    },
    {
     "data": {
      "text/plain": [
       "(umol/kg)   (uatm)  (uatm)    (umol/kg) (umol/kg) (umol/kg)    ( )      ( )          (ppm)"
      ]
     },
     "metadata": {},
     "output_type": "display_data"
    },
    {
     "data": {
      "text/plain": [
       "8.327959  11.585334  11.545050  14.191636  6.483093 0.392120  0.261038     0.168802     11.821373"
      ]
     },
     "metadata": {},
     "output_type": "display_data"
    }
   ],
   "source": [
    "%%octave\n",
    "% With std uncertainties from constants & Bt\n",
    "    epK = '';\n",
    "    eBt = '';\n",
    "    [e, ehead, eunits] = errors (PAR1, PAR2, PAR1TYPE, PAR2TYPE, SAL, TEMPIN, TEMPOUT, PRESIN, PRESOUT, SI, PO4, ...\n",
    "                             ePAR1, ePAR2, eSAL, eTEMP, eSI, ePO4, epK, eBt, r, ...\n",
    "                             pHSCALEIN, K1K2CONSTANTS, KSO4CONSTANTS);\n",
    "\n",
    "  printf(\"%s   %s %s %s %s  %s %s %s %s \\n\", ehead{1:9});\n",
    "  printf(\"%s   %s  %s    %s %s %s    %s      %s          %s \\n\", eunits{1:9});\n",
    "  printf(\"%f  %f  %f  %f  %f %f  %f     %f     %f \\n\", e(1:9));"
   ]
  },
  {
   "cell_type": "markdown",
   "metadata": {},
   "source": [
    "### 2.7 Example of using `errors.m` routine with the pH-pCO2 pair"
   ]
  },
  {
   "cell_type": "code",
   "execution_count": 17,
   "metadata": {},
   "outputs": [
    {
     "data": {
      "text/plain": [
       "u(TAlk)   u(TCO2) u(fCO2in) u(HCO3in) u(CO3in)  u(CO2in) u(OmegaCAin) u(OmegaARin) u(xCO2in)"
      ]
     },
     "metadata": {},
     "output_type": "display_data"
    },
    {
     "data": {
      "text/plain": [
       "(umol/kg)   (umol/kg)  (uatm)    (umol/kg) (umol/kg) (umol/kg)    ( )      ( )          (ppm)"
      ]
     },
     "metadata": {},
     "output_type": "display_data"
    },
    {
     "data": {
      "text/plain": [
       "104.239312  91.153989  4.982614  80.460830  10.711577 0.170842  0.255752     0.165384     5.101870"
      ]
     },
     "metadata": {},
     "output_type": "display_data"
    }
   ],
   "source": [
    "%%octave\n",
    "\n",
    "PAR1 = 7.91;    % pH_T\n",
    "PAR2 = 500;    % pCO2\n",
    "PAR1TYPE = 3;\n",
    "PAR2TYPE = 4;\n",
    "SAL = 35;\n",
    "TEMPIN = 18;\n",
    "TEMPOUT = 18;\n",
    "PRESIN = 0;\n",
    "PRESOUT = PRESIN;\n",
    "SI = 0;\n",
    "PO4 = 0;\n",
    "pHSCALEIN = 1;   % total scale\n",
    "K1K2CONSTANTS = 10; % Lueker 2000\n",
    "KSO4CONSTANTS = 1;  % KSO4 of Dickson & TB of Uppstrom 1979\n",
    "ePAR1 = 0.02;    % pH\n",
    "ePAR2 = 5;    % pCO2\n",
    "eSAL = 0;\n",
    "eTEMP = 0;\n",
    "eSI = 0;\n",
    "ePO4 = 0;\n",
    "\n",
    "% Set input uncertainties for constants and Bt/S to zero \n",
    "epK=0;\n",
    "eBt=0;\n",
    "\n",
    "r=0;\n",
    "\n",
    "[e, ehead, eunits] = errors (PAR1,PAR2,PAR1TYPE,PAR2TYPE,SAL,TEMPIN,TEMPOUT,PRESIN,PRESOUT,SI,PO4,...\n",
    "ePAR1,ePAR2,eSAL,eTEMP,eSI,ePO4,epK,eBt,r,pHSCALEIN,K1K2CONSTANTS,KSO4CONSTANTS);\n",
    "\n",
    "  printf(\"%s   %s %s %s %s  %s %s %s %s \\n\", ehead{1:9});\n",
    "  printf(\"%s   %s  %s    %s %s %s    %s      %s          %s \\n\", eunits{1:9});\n",
    "  printf(\"%f  %f  %f  %f  %f %f  %f     %f     %f \\n\", e(1:9));"
   ]
  },
  {
   "cell_type": "code",
   "execution_count": 18,
   "metadata": {},
   "outputs": [
    {
     "data": {
      "text/plain": [
       "u(TAlk)   u(TCO2) u(fCO2in) u(HCO3in) u(CO3in)  u(CO2in) u(OmegaCAin) u(OmegaARin) u(xCO2in)"
      ]
     },
     "metadata": {},
     "output_type": "display_data"
    },
    {
     "data": {
      "text/plain": [
       "(umol/kg)   (umol/kg)  (uatm)    (umol/kg) (umol/kg) (umol/kg)    ( )      ( )          (ppm)"
      ]
     },
     "metadata": {},
     "output_type": "display_data"
    },
    {
     "data": {
      "text/plain": [
       "110.150090  96.891395  4.982614  86.053315  11.617020 0.188087  0.305116     0.197306     5.101870"
      ]
     },
     "metadata": {},
     "output_type": "display_data"
    }
   ],
   "source": [
    "%%octave\n",
    "\n",
    "# Use default uncertainties for constants instead of setting them to zero (case in previous cell)\n",
    "epK = '';\n",
    "eBt = '';\n",
    "\n",
    "[e, ehead, eunits] = errors (PAR1,PAR2,PAR1TYPE,PAR2TYPE,SAL,TEMPIN,TEMPOUT,PRESIN,PRESOUT,SI,PO4,...\n",
    "ePAR1,ePAR2,eSAL,eTEMP,eSI,ePO4,epK,eBt,r,pHSCALEIN,K1K2CONSTANTS,KSO4CONSTANTS);\n",
    "\n",
    "  printf(\"%s   %s %s %s %s  %s %s %s %s \\n\", ehead{1:9});\n",
    "  printf(\"%s   %s  %s    %s %s %s    %s      %s          %s \\n\", eunits{1:9});\n",
    "  printf(\"%f  %f  %f  %f  %f %f  %f     %f     %f \\n\", e(1:9));"
   ]
  },
  {
   "cell_type": "code",
   "execution_count": 19,
   "metadata": {
    "collapsed": true
   },
   "outputs": [
    {
     "data": {
      "text/plain": [
       "ehead ="
      ]
     },
     "metadata": {},
     "output_type": "display_data"
    },
    {
     "data": {
      "text/plain": [
       "{"
      ]
     },
     "metadata": {},
     "output_type": "display_data"
    },
    {
     "data": {
      "text/plain": [
       "  [1,1] = u(TAlk)"
      ]
     },
     "metadata": {},
     "output_type": "display_data"
    },
    {
     "data": {
      "text/plain": [
       "  [2,1] = u(TCO2)"
      ]
     },
     "metadata": {},
     "output_type": "display_data"
    },
    {
     "data": {
      "text/plain": [
       "  [3,1] = u(fCO2in)"
      ]
     },
     "metadata": {},
     "output_type": "display_data"
    },
    {
     "data": {
      "text/plain": [
       "  [4,1] = u(HCO3in)"
      ]
     },
     "metadata": {},
     "output_type": "display_data"
    },
    {
     "data": {
      "text/plain": [
       "  [5,1] = u(CO3in)"
      ]
     },
     "metadata": {},
     "output_type": "display_data"
    },
    {
     "data": {
      "text/plain": [
       "  [6,1] = u(CO2in)"
      ]
     },
     "metadata": {},
     "output_type": "display_data"
    },
    {
     "data": {
      "text/plain": [
       "  [7,1] = u(OmegaCAin)"
      ]
     },
     "metadata": {},
     "output_type": "display_data"
    },
    {
     "data": {
      "text/plain": [
       "  [8,1] = u(OmegaARin)"
      ]
     },
     "metadata": {},
     "output_type": "display_data"
    },
    {
     "data": {
      "text/plain": [
       "  [9,1] = u(xCO2in)"
      ]
     },
     "metadata": {},
     "output_type": "display_data"
    },
    {
     "data": {
      "text/plain": [
       "  [10,1] = u(Hout)"
      ]
     },
     "metadata": {},
     "output_type": "display_data"
    },
    {
     "data": {
      "text/plain": [
       "  [11,1] = u(pCO2out)"
      ]
     },
     "metadata": {},
     "output_type": "display_data"
    },
    {
     "data": {
      "text/plain": [
       "  [12,1] = u(fCO2out)"
      ]
     },
     "metadata": {},
     "output_type": "display_data"
    },
    {
     "data": {
      "text/plain": [
       "  [13,1] = u(HCO3out)"
      ]
     },
     "metadata": {},
     "output_type": "display_data"
    },
    {
     "data": {
      "text/plain": [
       "  [14,1] = u(CO3out)"
      ]
     },
     "metadata": {},
     "output_type": "display_data"
    },
    {
     "data": {
      "text/plain": [
       "  [15,1] = u(CO2out)"
      ]
     },
     "metadata": {},
     "output_type": "display_data"
    },
    {
     "data": {
      "text/plain": [
       "  [16,1] = u(OmegaCAout)"
      ]
     },
     "metadata": {},
     "output_type": "display_data"
    },
    {
     "data": {
      "text/plain": [
       "  [17,1] = u(OmegaARout)"
      ]
     },
     "metadata": {},
     "output_type": "display_data"
    },
    {
     "data": {
      "text/plain": [
       "  [18,1] = u(xCO2out)"
      ]
     },
     "metadata": {},
     "output_type": "display_data"
    },
    {
     "data": {
      "text/plain": [
       "}"
      ]
     },
     "metadata": {},
     "output_type": "display_data"
    },
    {
     "data": {
      "text/plain": [
       "eunits ="
      ]
     },
     "metadata": {},
     "output_type": "display_data"
    },
    {
     "data": {
      "text/plain": [
       "{"
      ]
     },
     "metadata": {},
     "output_type": "display_data"
    },
    {
     "data": {
      "text/plain": [
       "  [1,1] = (umol/kg)"
      ]
     },
     "metadata": {},
     "output_type": "display_data"
    },
    {
     "data": {
      "text/plain": [
       "  [2,1] = (umol/kg)"
      ]
     },
     "metadata": {},
     "output_type": "display_data"
    },
    {
     "data": {
      "text/plain": [
       "  [3,1] = (uatm)"
      ]
     },
     "metadata": {},
     "output_type": "display_data"
    },
    {
     "data": {
      "text/plain": [
       "  [4,1] = (umol/kg)"
      ]
     },
     "metadata": {},
     "output_type": "display_data"
    },
    {
     "data": {
      "text/plain": [
       "  [5,1] = (umol/kg)"
      ]
     },
     "metadata": {},
     "output_type": "display_data"
    },
    {
     "data": {
      "text/plain": [
       "  [6,1] = (umol/kg)"
      ]
     },
     "metadata": {},
     "output_type": "display_data"
    },
    {
     "data": {
      "text/plain": [
       "  [7,1] = ( )"
      ]
     },
     "metadata": {},
     "output_type": "display_data"
    },
    {
     "data": {
      "text/plain": [
       "  [8,1] = ( )"
      ]
     },
     "metadata": {},
     "output_type": "display_data"
    },
    {
     "data": {
      "text/plain": [
       "  [9,1] = (ppm)"
      ]
     },
     "metadata": {},
     "output_type": "display_data"
    },
    {
     "data": {
      "text/plain": [
       "  [10,1] = (nmol/kg)"
      ]
     },
     "metadata": {},
     "output_type": "display_data"
    },
    {
     "data": {
      "text/plain": [
       "  [11,1] = (uatm)"
      ]
     },
     "metadata": {},
     "output_type": "display_data"
    },
    {
     "data": {
      "text/plain": [
       "  [12,1] = (uatm)"
      ]
     },
     "metadata": {},
     "output_type": "display_data"
    },
    {
     "data": {
      "text/plain": [
       "  [13,1] = (umol/kg)"
      ]
     },
     "metadata": {},
     "output_type": "display_data"
    },
    {
     "data": {
      "text/plain": [
       "  [14,1] = (umol/kg)"
      ]
     },
     "metadata": {},
     "output_type": "display_data"
    },
    {
     "data": {
      "text/plain": [
       "  [15,1] = (umol/kg)"
      ]
     },
     "metadata": {},
     "output_type": "display_data"
    },
    {
     "data": {
      "text/plain": [
       "  [16,1] = ( )"
      ]
     },
     "metadata": {},
     "output_type": "display_data"
    },
    {
     "data": {
      "text/plain": [
       "  [17,1] = ( )"
      ]
     },
     "metadata": {},
     "output_type": "display_data"
    },
    {
     "data": {
      "text/plain": [
       "  [18,1] = (ppm)"
      ]
     },
     "metadata": {},
     "output_type": "display_data"
    },
    {
     "data": {
      "text/plain": [
       "}"
      ]
     },
     "metadata": {},
     "output_type": "display_data"
    }
   ],
   "source": [
    "%%octave\n",
    "ehead, eunits"
   ]
  }
 ],
 "metadata": {
  "anaconda-cloud": {},
  "kernelspec": {
   "display_name": "Python 3",
   "language": "python",
   "name": "python3"
  },
  "language_info": {
   "codemirror_mode": {
    "name": "ipython",
    "version": 3
   },
   "file_extension": ".py",
   "mimetype": "text/x-python",
   "name": "python",
   "nbconvert_exporter": "python",
   "pygments_lexer": "ipython3",
   "version": "3.7.6"
  }
 },
 "nbformat": 4,
 "nbformat_minor": 1
}
